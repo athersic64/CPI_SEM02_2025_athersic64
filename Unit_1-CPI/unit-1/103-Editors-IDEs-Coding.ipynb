{
  "nbformat": 4,
  "nbformat_minor": 0,
  "metadata": {
    "colab": {
      "provenance": [],
      "authorship_tag": "ABX9TyOhDX1dFgrX2y1u8axeIyP6",
      "include_colab_link": true
    },
    "kernelspec": {
      "name": "python3",
      "display_name": "Python 3"
    },
    "language_info": {
      "name": "python"
    }
  },
  "cells": [
    {
      "cell_type": "markdown",
      "metadata": {
        "id": "view-in-github",
        "colab_type": "text"
      },
      "source": [
        "<a href=\"https://colab.research.google.com/github/wbandabarragan/computational-physics-1/blob/main/unit-1/103-Editors-IDEs-Coding.ipynb\" target=\"_parent\"><img src=\"https://colab.research.google.com/assets/colab-badge.svg\" alt=\"Open In Colab\"/></a>"
      ]
    },
    {
      "cell_type": "markdown",
      "source": [
        "# 103: Code Editors and Integrated Development Environments (IDEs)\n",
        "\n",
        "We can classify the tools for programming into 2 categories:\n",
        "\n",
        "- Command line editors:\n",
        "\n",
        "  - vi/vim\n",
        "\n",
        "  - nano\n",
        "\n",
        "  - emacs\n",
        "\n",
        "- Integrated Development Environments (IDEs):\n",
        "\n",
        "  - Visual Studio Code\n",
        "\n",
        "  - Eclipse\n",
        "\n",
        "  - Xcode\n",
        "\n",
        "\n",
        "\n",
        "- Web-based Interactive Environments:\n",
        "  \n",
        "  - Google Colaboratory (Colab)\n",
        "  \n",
        "  - JupyterLab / Jupyter Notebook"
      ],
      "metadata": {
        "id": "4VzmYSjRFjV0"
      }
    },
    {
      "cell_type": "markdown",
      "source": [
        "## A: The `vim` editor:\n",
        "\n",
        "`vi/vim` editors are easy to use and available in Linux OS systems.\n",
        "\n",
        "To use `vim`, you need to follow these steps in the CLI/terminal:\n",
        "\n",
        "### 1. Open a new file for editing:\n",
        "\n",
        "```bash\n",
        "vim file.txt\n",
        "```\n",
        "\n",
        "### 2. Press the \"i\" (for insert) letter on your keyboard to access edit mode\n",
        "\n",
        "```bash\n",
        "~                                                                  \n",
        "\"file.txt\" 2L, 28B\n",
        "```\n",
        "\n",
        "### 3. Add text:\n",
        "\n",
        "```bash\n",
        "First txt file\n",
        "CP1 2SEM2025\n",
        "```\n",
        "\n",
        "### 4. Leave edit mode by pressing ESC.\n",
        "\n",
        "### 5a. Save the file:\n",
        "\n",
        "```bash\n",
        ":wq, :x\n",
        "```\n",
        "\n",
        "### 5b: Just quit the file:\n",
        "\n",
        "```bash\n",
        ":q\n",
        "```\n",
        "\n",
        "### 5c: Force quit the file:\n",
        "\n",
        "```bash\n",
        ":q!\n",
        "```"
      ],
      "metadata": {
        "id": "9F3Z_lAdG13K"
      }
    },
    {
      "cell_type": "markdown",
      "source": [
        "### Navigate through files using VIM:\n",
        "\n",
        "Some useful commands to navigate through files once you are in VIM include:\n",
        "\n",
        "- `:0` This will take you to the top row.\n",
        "\n",
        "- `:$` This will take you to the bottom row.\n",
        "\n",
        "- `:3` This will take you the 3rd row. In general `:n` will take you to the n file\n",
        "\n",
        "- `/text` This will look for the characters \"text\" within the file and take you to that exact position.\n",
        "\n",
        "\n",
        "- `u` This is the equivalent to Ctrl+Z in Windows. It is to revert changes.\n",
        "\n",
        "- `d` This is used to delete a row.\n",
        "\n",
        "- `%s/collection/set/g` This is to replace text. This will change \"collection by \"set\".\n",
        "\n",
        "\n",
        "#### Practice Tutorial: https://openvim.com/sandbox.html"
      ],
      "metadata": {
        "id": "jzGoEgBKe7pu"
      }
    },
    {
      "cell_type": "markdown",
      "source": [
        "## Example 1: Writing python code with `vim`\n",
        "\n",
        "1. Open a terminal window.<br>\n",
        "\n",
        "2. Create a new folder with `mkdir`:<br>\n",
        "~~~~html\n",
        "  $ mkdir exercise_py\n",
        "  $ cd mkdir exercise_py\n",
        "~~~~\n",
        "\n",
        "\n",
        "2. Let us edit a new file:<br>\n",
        "~~~~html\n",
        "  $ vim script.py\n",
        "~~~~\n",
        "\n",
        "3. Press the 'i' key to edit the file, and add the following lines.<br>\n",
        "\n",
        "4. Now, let us check which environment you have:<br>\n",
        "~~~~html\n",
        "print(\"The result is:\", 3.+4.)\n",
        "}\n",
        "~~~~\n",
        "\n",
        "5. This program will print \"The result is: 7.0\".<br>\n",
        "~~~~html\n",
        "  $ python script.py\n",
        "  The result is: 7.0\n",
        "\n",
        "And this is our first python program."
      ],
      "metadata": {
        "id": "sIs8rBQsjvMC"
      }
    },
    {
      "cell_type": "markdown",
      "source": [
        "## Example 2: Writing C code with `vim`\n",
        "\n",
        "1. Open a terminal window.<br>\n",
        "\n",
        "2. Create a new folder with `mkdir`:<br>\n",
        "~~~~html\n",
        "  $ mkdir exercise_C\n",
        "  $ cd mkdir exercise_C\n",
        "~~~~\n",
        "\n",
        "\n",
        "2. Let us edit a new file:<br>\n",
        "~~~~html\n",
        "  $ vim hola.c\n",
        "~~~~\n",
        "\n",
        "3. Press the 'i' key to edit the file, and add the following lines.<br>\n",
        "\n",
        "4. Now, let us check which environment you have:<br>\n",
        "~~~~html\n",
        "#include <stdio.h>\n",
        "int main() {\n",
        "printf(\"Hola Mundo.\\n\");\n",
        "return 0;\n",
        "}\n",
        "~~~~\n",
        "\n",
        "5. This program will will print a string of characters on the screen, but we need to compile it first.<br>\n",
        "~~~~html\n",
        "  $ gcc -o hola.exe hola.c\n",
        "~~~~\n",
        "\n",
        "6. This creates an executable file called hola.exe. To run the program we created:<br>\n",
        "~~~~html\n",
        "  $ ./hola.exe\n",
        "  Hola Mundo.\n",
        "~~~~\n",
        "\n",
        "And this is our first C program."
      ],
      "metadata": {
        "id": "gOrA4LUUjd-I"
      }
    },
    {
      "cell_type": "markdown",
      "source": [
        "## B. Visual Studio (Code)\n",
        "\n",
        "- Visual Studio is an IDE developed by Microsoft, which has essential tools a developer needs into a single application, including a **code editor, a debugger, and a compiler**.\n",
        "\n",
        "- Visual Studio is designed to help developers **write, debug, test, and deploy** a wide variety of software applications.\n",
        "\n",
        "- It supports **multiple languages** through its marketplace, including Python, JavaScript, C#, C++, and Visual Basic.\n",
        "\n",
        "- It features **IntelliSens** for intelligent code completion, powerful debugging and diagnostic tools, and visual designers for building user interfaces.\n",
        "\n",
        "- There is a free **Community edition for students and open-source developers**, a Professional edition for small teams, and an Enterprise edition for large organizations.\n",
        "\n",
        "- **Visual Studio Code (VS Code)** is a lightweight source code editor, much smaller and faster to install than Visual Studio.\n",
        "\n",
        "#### Download Link: https://code.visualstudio.com/"
      ],
      "metadata": {
        "id": "yHPXBN9Dgbo3"
      }
    },
    {
      "cell_type": "markdown",
      "source": [
        "## C. Jupyter Notebooks and Lab\n",
        "\n",
        "- Jupyter Notebooks and Lab are web-based interactive environments for coding.\n",
        "\n",
        "- Jupyter Notebook is the original, classic application. It provides a simple, document-centric interface. When you open a Jupyter Notebook, you are focused on a single file (.ipynb).\n",
        "\n",
        "- JupyterLab is the next-generation interface, a significant upgrade to Jupyter Notebook. It provides a full-featured, flexible, and extensible environment that feels more like a traditional IDE.\n",
        "\n",
        "- As you have seen, one option is to use Google Colab, which we will use sometimes in the classroom. For this you would need a Gmail account.\n",
        "\n",
        "- The advantage of using Google Colab is that all libraries are installed in a Linux server remotely, so we don't need to worry about compatibility issues, different operating systems, etc.\n",
        "\n",
        "- The disadvantage is that Colab provides limited memory resources and very limited disc space since everything is stored in a cloud, so you can only use it to process small datasets.\n",
        "\n",
        "### How do I test Google Colab?\n",
        "1. Download this notebook: [https://github.com/wbandabarragan/computational-physics-1/blob/main/unit-1/101-Introduction-GoogleColab.ipynb](https://github.com/wbandabarragan/computational-physics-1/blob/main/unit-1/101-Introduction-GoogleColab.ipynb)\n",
        "\n",
        "2. Open Goole Colab.\n",
        "\n",
        "3. Upload the notebook, and run it. If you see the plots, Google Colab works.\n",
        "\n",
        "\n",
        "#### Reference: https://jupyter.org/\n",
        "\n",
        "### For our CP1 course:\n",
        "\n",
        "- We will mostly use jupyter notebooks (.ipynb) for the units taught in this class. The extension .ipynb stands for interactive python notebooks.\n",
        "\n",
        "- Jupyter notebooks are useful tools for learning programming because they provide a visual interface.\n",
        "\n",
        "- You can see the results of your code live, instead of waiting till your script (.py) finishes running in a terminal.\n"
      ],
      "metadata": {
        "id": "pd380MeciZt-"
      }
    }
  ]
}