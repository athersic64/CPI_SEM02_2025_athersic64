{
  "nbformat": 4,
  "nbformat_minor": 0,
  "metadata": {
    "colab": {
      "provenance": [],
      "authorship_tag": "ABX9TyPxzOkGoUkMh/T3YDFcog8K",
      "include_colab_link": true
    },
    "kernelspec": {
      "name": "python3",
      "display_name": "Python 3"
    },
    "language_info": {
      "name": "python"
    }
  },
  "cells": [
    {
      "cell_type": "markdown",
      "metadata": {
        "id": "view-in-github",
        "colab_type": "text"
      },
      "source": [
        "<a href=\"https://colab.research.google.com/github/wbandabarragan/computational-physics-1/blob/main/unit-1/102-Linux-Tutorial.ipynb\" target=\"_parent\"><img src=\"https://colab.research.google.com/assets/colab-badge.svg\" alt=\"Open In Colab\"/></a>"
      ]
    },
    {
      "cell_type": "markdown",
      "source": [
        "# Lecture 102: Linux OS and the need for open source software"
      ],
      "metadata": {
        "id": "N5zjs7T1v5JM"
      }
    },
    {
      "cell_type": "markdown",
      "source": [
        "## About Linux OS\n",
        "\n",
        "- It is an operating system based on Unix, which was developed by Ken Thompson and Dennis Ritchie (at AT&T Bell Laboratories) during the 60’s/70’s.\n",
        "\n",
        "- Unix was highly portable, so it was adopted, copied, and modified by many companies and universities.\n",
        "\n",
        "- The source code was available, but modification and redistribution were restricted and its commercial version was too expensive.\n",
        "\n",
        "- Finnish student Linus Torvalds decides to create a new free operating system kernel called Linux.\n",
        "\n",
        "- Linux released its first version in 1991.\n",
        "\n",
        "## Advantages of Linux OS\n",
        "\n",
        "- Linux OS are free and open source.\n",
        "\n",
        "- You can modify the source code and adapt it to your applications at will.\n",
        "\n",
        "- Linux provides security (much harder to hack, nearly no viruses).\n",
        "\n",
        "- Linux distributions come with an in-built platform to do programming.\n",
        "\n",
        "- There are two types of desktops: KDE and GNOME.\n",
        "\n",
        "## Flavours of Linux OS\n",
        "\n",
        "- You have many options, the most popular ones in physics are:\n",
        "\n",
        "  - Ubuntu\n",
        "\n",
        "  - Fedora\n",
        "\n",
        "  - Debian\n",
        "\n",
        "  - CentOS\n",
        "\n",
        "- Linux can run on virtual machines / co-exist with other OS.\n",
        "\n",
        "- Linux is installed in (pretty much all) large-scale, high-performance supercomputers.\n",
        "\n",
        "- Linux is the OS of cloud servers (Google Colab).\n",
        "\n",
        "- The backend of GitHub relies heavily on Linux.\n"
      ],
      "metadata": {
        "id": "U-i6PIRVSr8G"
      }
    },
    {
      "cell_type": "markdown",
      "source": [
        "## Linux filesystem:\n",
        "\n",
        "* `/`: The **root directory**. The top of the filesystem hierarchy. All other directories and files branch off from here.\n",
        "\n",
        "* `/bin`: Contains essential **binary** executable programs that are required to boot the system and are used by all users (e.g., `ls`, `cp`, `mv`).\n",
        "\n",
        "* `/sbin`: Contains essential **system binaries** required for system administration (e.g., `fdisk`, `reboot`, `shutdown`). These are typically run by the root user.\n",
        "\n",
        "* `/etc`: The \"etcetera\" directory holds **configuration files** for system-wide services and applications.\n",
        "\n",
        "* `/home`: The primary location for **user home directories**. Each user typically has a subdirectory here (e.g., `/home/wladimir`).\n",
        "\n",
        "* `/var`: Contains **variable data**. Files that change frequently during system operation are stored here, such as log files, mail queues, and spools.\n",
        "\n",
        "* `/tmp`: The **temporary file** directory stores data, which are often deleted on system reboot.\n",
        "\n",
        "* `/usr`: Stands for **User System Resources**. This is a major branch of the filesystem containing most of the user applications and files:\n",
        "\n",
        "    * `/usr/bin`: Contains non-essential user commands.\n",
        "\n",
        "    * `/usr/lib`: Holds shared libraries for the programs in `/usr/bin`.\n",
        "\n",
        "    * `/usr/local`: Used for installing **locally compiled software** to prevent conflicts with the rest of the system.\n",
        "\n",
        "* `/dev`: Contains **device files** that represent physical and virtual devices (e.g., hard drives, terminals, printers).\n",
        "\n",
        "* `/opt`: Used for installing **optional or third-party software** that doesn't follow the standard filesystem hierarchy.\n",
        "\n",
        "* `/proc`: A **virtual filesystem** that contains process information and other kernel state data. Files in this directory are not real files on a disk but are dynamically generated by the kernel.\n",
        "\n",
        "* `/boot`: This directory holds files required to **boot the system**, including the Linux kernel and the GRUB bootloader configuration."
      ],
      "metadata": {
        "id": "OhuRZr0eWEQu"
      }
    },
    {
      "cell_type": "markdown",
      "source": [
        "## Basic Linux OS commands\n",
        "\n",
        "1. man — offline manual, get help about any commands\n",
        "2. which — find out where a command is defined.\n",
        "3. <command> --help — Find help on any command\n",
        "4. cd — Change the current directory (folder)\n",
        "5. ls — List files in a directory\n",
        "6. mkdir — Make/create a new directory\n",
        "7. pwd — Print current directory\n",
        "8. cp — Copy files and directories\n",
        "9. rm — Delete files and directories\n",
        "10. cat file.txt — see contents of file.\n",
        "11. head file.txt — see the first 10 lines of a file\n",
        "12. tail file.txt— see the last 10 lines of a file.\n",
        "13. chmod — change permissions of a file or directory for 3 user groups: user (owner) permission, group permission, and other permission.\n",
        "14. diff file1.txt file2.txt— show differences between two files\n",
        "15. file — show the type of a file\n",
        "16. less — browse the contents of a file, exit with q\n",
        "17. locate — find files with names matching a pattern\n",
        "18. touch — Create a new file or update an existing one\n",
        "19. top — See what is going on, what processes are running, exit with q\n",
        "20. ping server — check to see if a server is alive\n",
        "21. df — show free disk space\n",
        "22. du — show disk space usage\n",
        "23. uname -a — information on Linux kernel\n",
        "24. uptime — how long the system has been running\n",
        "25. date — show current date/time\n",
        "\n",
        "\n",
        "\n",
        "##### References and slides:\n",
        "\n",
        "https://www.greenteapress.com/thinkpython/thinkCSpy/html/chap01.html\n",
        "\n",
        "\n",
        "https://github.com/wbandabarragan/computational-physics-1/blob/main/extra-notes/introduction-linux.pdf"
      ],
      "metadata": {
        "id": "4Kz44zYFTaJl"
      }
    },
    {
      "cell_type": "markdown",
      "source": [
        "## Check where we are:"
      ],
      "metadata": {
        "id": "-dwdmU4lv99s"
      }
    },
    {
      "cell_type": "code",
      "execution_count": null,
      "metadata": {
        "colab": {
          "base_uri": "https://localhost:8080/"
        },
        "id": "voLU13Igvn57",
        "outputId": "60cae43d-58ed-4f76-a6c2-7194f7844fa4"
      },
      "outputs": [
        {
          "output_type": "stream",
          "name": "stdout",
          "text": [
            "/content\n"
          ]
        }
      ],
      "source": [
        "!pwd"
      ]
    },
    {
      "cell_type": "markdown",
      "source": [
        "## Check binaries"
      ],
      "metadata": {
        "id": "iuSS4Oe4po-m"
      }
    },
    {
      "cell_type": "code",
      "source": [
        "!which ls"
      ],
      "metadata": {
        "colab": {
          "base_uri": "https://localhost:8080/"
        },
        "id": "cIBP82gHpr3r",
        "outputId": "522fee0d-552c-4093-8b73-57d95023eecf"
      },
      "execution_count": null,
      "outputs": [
        {
          "output_type": "stream",
          "name": "stdout",
          "text": [
            "/usr/bin/ls\n"
          ]
        }
      ]
    },
    {
      "cell_type": "code",
      "source": [
        "!which python"
      ],
      "metadata": {
        "colab": {
          "base_uri": "https://localhost:8080/"
        },
        "id": "qG1p5PZ0p6Bb",
        "outputId": "90cda796-2365-460f-bba7-c42a77ba5f33"
      },
      "execution_count": null,
      "outputs": [
        {
          "output_type": "stream",
          "name": "stdout",
          "text": [
            "/usr/local/bin/python\n"
          ]
        }
      ]
    },
    {
      "cell_type": "markdown",
      "source": [
        "## Check Linux kernel information:"
      ],
      "metadata": {
        "id": "UrpIPRSFwEEo"
      }
    },
    {
      "cell_type": "code",
      "source": [
        "!uname -a"
      ],
      "metadata": {
        "colab": {
          "base_uri": "https://localhost:8080/"
        },
        "id": "5VkwVOaZwBaK",
        "outputId": "adc4dc4f-c45f-4873-8b22-e1b7ac5000ea"
      },
      "execution_count": null,
      "outputs": [
        {
          "output_type": "stream",
          "name": "stdout",
          "text": [
            "Linux 099fa366c8b4 6.1.123+ #1 SMP PREEMPT_DYNAMIC Sun Mar 30 16:01:29 UTC 2025 x86_64 x86_64 x86_64 GNU/Linux\n"
          ]
        }
      ]
    },
    {
      "cell_type": "markdown",
      "source": [
        "## Release version:"
      ],
      "metadata": {
        "id": "ES04v1hewxAz"
      }
    },
    {
      "cell_type": "code",
      "source": [
        "!lsb_release -a"
      ],
      "metadata": {
        "colab": {
          "base_uri": "https://localhost:8080/"
        },
        "id": "JEsIoN8twULu",
        "outputId": "89700808-e894-4719-da72-342b16931a2d"
      },
      "execution_count": null,
      "outputs": [
        {
          "output_type": "stream",
          "name": "stdout",
          "text": [
            "No LSB modules are available.\n",
            "Distributor ID:\tUbuntu\n",
            "Description:\tUbuntu 22.04.4 LTS\n",
            "Release:\t22.04\n",
            "Codename:\tjammy\n"
          ]
        }
      ]
    },
    {
      "cell_type": "markdown",
      "source": [
        "## Release version with cat:"
      ],
      "metadata": {
        "id": "dy6iwLdLxIaq"
      }
    },
    {
      "cell_type": "code",
      "source": [
        "!cat /etc/os-release"
      ],
      "metadata": {
        "colab": {
          "base_uri": "https://localhost:8080/"
        },
        "id": "s8QCcVqTw4u8",
        "outputId": "653fb6a8-1a11-4c1e-e177-83332d718293"
      },
      "execution_count": null,
      "outputs": [
        {
          "output_type": "stream",
          "name": "stdout",
          "text": [
            "PRETTY_NAME=\"Ubuntu 22.04.4 LTS\"\n",
            "NAME=\"Ubuntu\"\n",
            "VERSION_ID=\"22.04\"\n",
            "VERSION=\"22.04.4 LTS (Jammy Jellyfish)\"\n",
            "VERSION_CODENAME=jammy\n",
            "ID=ubuntu\n",
            "ID_LIKE=debian\n",
            "HOME_URL=\"https://www.ubuntu.com/\"\n",
            "SUPPORT_URL=\"https://help.ubuntu.com/\"\n",
            "BUG_REPORT_URL=\"https://bugs.launchpad.net/ubuntu/\"\n",
            "PRIVACY_POLICY_URL=\"https://www.ubuntu.com/legal/terms-and-policies/privacy-policy\"\n",
            "UBUNTU_CODENAME=jammy\n"
          ]
        }
      ]
    },
    {
      "cell_type": "markdown",
      "source": [
        "## Disc usage:"
      ],
      "metadata": {
        "id": "Yd-AHJm6zCae"
      }
    },
    {
      "cell_type": "code",
      "source": [
        "!df -h"
      ],
      "metadata": {
        "colab": {
          "base_uri": "https://localhost:8080/"
        },
        "id": "u0pu7S9EyVMQ",
        "outputId": "0774bc95-1a9e-4ac4-c45e-5251e0b33d84"
      },
      "execution_count": null,
      "outputs": [
        {
          "output_type": "stream",
          "name": "stdout",
          "text": [
            "Filesystem      Size  Used Avail Use% Mounted on\n",
            "overlay         108G   39G   69G  37% /\n",
            "tmpfs            64M     0   64M   0% /dev\n",
            "shm             5.8G     0  5.8G   0% /dev/shm\n",
            "/dev/root       2.0G  1.2G  775M  61% /usr/sbin/docker-init\n",
            "/dev/sda1        73G   40G   33G  55% /kaggle/input\n",
            "tmpfs           6.4G   52K  6.4G   1% /var/colab\n",
            "tmpfs           6.4G     0  6.4G   0% /proc/acpi\n",
            "tmpfs           6.4G     0  6.4G   0% /proc/scsi\n",
            "tmpfs           6.4G     0  6.4G   0% /sys/firmware\n"
          ]
        }
      ]
    },
    {
      "cell_type": "markdown",
      "source": [
        "## Linux filesyste with ls:"
      ],
      "metadata": {
        "id": "4A7by3dczoFk"
      }
    },
    {
      "cell_type": "code",
      "source": [
        "!ls -ltr /"
      ],
      "metadata": {
        "colab": {
          "base_uri": "https://localhost:8080/"
        },
        "id": "MnAJwmSQzKBA",
        "outputId": "d6a43781-9103-4296-b723-1375f920bc0f"
      },
      "execution_count": null,
      "outputs": [
        {
          "output_type": "stream",
          "name": "stdout",
          "text": [
            "total 448\n",
            "-r-xr-xr-x   1 root root 346012 Jan  1  2000 python-apt.tar.xz\n",
            "drwxr-xr-x   2 root root   4096 Apr 18  2022 home\n",
            "drwxr-xr-x   2 root root   4096 Apr 18  2022 boot\n",
            "lrwxrwxrwx   1 root root      8 Jun 27  2024 sbin -> usr/sbin\n",
            "lrwxrwxrwx   1 root root     10 Jun 27  2024 libx32 -> usr/libx32\n",
            "lrwxrwxrwx   1 root root      9 Jun 27  2024 lib64 -> usr/lib64\n",
            "lrwxrwxrwx   1 root root      9 Jun 27  2024 lib32 -> usr/lib32\n",
            "lrwxrwxrwx   1 root root      7 Jun 27  2024 lib -> usr/lib\n",
            "lrwxrwxrwx   1 root root      7 Jun 27  2024 bin -> usr/bin\n",
            "drwxr-xr-x   2 root root   4096 Jun 27  2024 srv\n",
            "drwxr-xr-x   2 root root   4096 Jun 27  2024 mnt\n",
            "drwxr-xr-x   2 root root   4096 Jun 27  2024 media\n",
            "-rw-r--r--   1 root root  17294 Jul 10  2024 NGC-DL-CONTAINER-LICENSE\n",
            "-rw-r--r--   1 root root   4332 Jul 10  2024 cuda-keyring_1.1-1_all.deb\n",
            "drwxr-xr-x   1 root root   4096 Aug 21 13:17 run\n",
            "drwxrwxr-x  14 root root   4096 Aug 21 13:24 python-apt\n",
            "drwxr-xr-x   1 root root   4096 Aug 21 13:41 content\n",
            "drwxr-xr-x   1 root root   4096 Aug 21 13:56 tools\n",
            "drwxr-xr-x   1 root root   4096 Aug 21 13:56 datalab\n",
            "drwxr-xr-x   1 root root   4096 Aug 21 13:56 var\n",
            "drwxr-xr-x   1 root root   4096 Aug 21 13:57 usr\n",
            "drwxr-xr-x   1 root root   4096 Aug 21 14:14 opt\n",
            "drwxr-xr-x   1 root root   4096 Aug 23 03:37 etc\n",
            "dr-xr-xr-x 198 root root      0 Aug 23 03:37 proc\n",
            "dr-xr-xr-x  13 root root      0 Aug 23 03:37 sys\n",
            "drwxr-xr-x   3 root root   4096 Aug 23 03:37 kaggle\n",
            "drwxr-xr-x   5 root root    360 Aug 23 03:37 dev\n",
            "drwx------   1 root root   4096 Aug 23 03:37 root\n",
            "drwxrwxrwt   1 root root   4096 Aug 23 03:41 tmp\n"
          ]
        }
      ]
    },
    {
      "cell_type": "markdown",
      "source": [
        "## Mounting GDrive:"
      ],
      "metadata": {
        "id": "uhx9xTFN0Psm"
      }
    },
    {
      "cell_type": "code",
      "source": [
        "# Import Colab tools\n",
        "from google.colab import drive\n",
        "drive.mount('/content/drive')"
      ],
      "metadata": {
        "colab": {
          "base_uri": "https://localhost:8080/"
        },
        "id": "fYBq2nkL0UIJ",
        "outputId": "98627e6c-1177-44c6-9492-10f36ab73271"
      },
      "execution_count": null,
      "outputs": [
        {
          "output_type": "stream",
          "name": "stdout",
          "text": [
            "Mounted at /content/drive\n"
          ]
        }
      ]
    },
    {
      "cell_type": "markdown",
      "source": [
        "## Navigating through the filesystem:\n",
        "\n",
        "- ! -> non-persisting wrpapper\n",
        "\n",
        "- % -> persisting"
      ],
      "metadata": {
        "id": "FXXGDLcCjeMB"
      }
    },
    {
      "cell_type": "code",
      "source": [
        "# cd command\n",
        "# Non-=persisting\n",
        "#!cd /content/drive\n",
        "\n",
        "# Perssiting\n",
        "%cd /content/drive\n",
        "!pwd\n"
      ],
      "metadata": {
        "colab": {
          "base_uri": "https://localhost:8080/"
        },
        "id": "wkoEBRIxjdM9",
        "outputId": "4ba1d1b9-ab5f-4d34-e8c5-a704666875e7"
      },
      "execution_count": null,
      "outputs": [
        {
          "output_type": "stream",
          "name": "stdout",
          "text": [
            "/content/drive\n",
            "/content/drive\n"
          ]
        }
      ]
    },
    {
      "cell_type": "code",
      "source": [
        "!ls -ltr"
      ],
      "metadata": {
        "colab": {
          "base_uri": "https://localhost:8080/"
        },
        "id": "mVzITxspkXVj",
        "outputId": "34665eea-e535-4521-a9d6-fc0de3fa655a"
      },
      "execution_count": null,
      "outputs": [
        {
          "output_type": "stream",
          "name": "stdout",
          "text": [
            "total 8\n",
            "drwx------ 4 root root 4096 Aug 23 03:42 Shareddrives\n",
            "drwx------ 2 root root 4096 Aug 23 03:42 MyDrive\n"
          ]
        }
      ]
    },
    {
      "cell_type": "code",
      "source": [
        "%cd MyDrive/\n",
        "!pwd"
      ],
      "metadata": {
        "colab": {
          "base_uri": "https://localhost:8080/"
        },
        "id": "qQKzIwcFll2y",
        "outputId": "b9dbb4de-f251-4739-f5d2-2b0d2c334597"
      },
      "execution_count": null,
      "outputs": [
        {
          "output_type": "stream",
          "name": "stdout",
          "text": [
            "/content/drive/MyDrive\n",
            "/content/drive/MyDrive\n"
          ]
        }
      ]
    },
    {
      "cell_type": "code",
      "source": [
        "!ls -ltr *.docx"
      ],
      "metadata": {
        "colab": {
          "base_uri": "https://localhost:8080/"
        },
        "id": "woRAUtc0luK8",
        "outputId": "34784eee-41f7-4f9e-aa9c-5c3f116fc5ce"
      },
      "execution_count": null,
      "outputs": [
        {
          "output_type": "stream",
          "name": "stdout",
          "text": [
            "-rw------- 1 root root  75010 Oct 20  2023 '03.08.2023 Ajuste_curricular_MFF_v2.docx'\n",
            "-rw------- 1 root root  14554 Oct 26  2023 'Guía Justificación del Excedente programas aprobados (2).docx'\n",
            "-rw------- 1 root root  76198 Oct 26  2023  Ajuste_curricular_MFF_v3.docx\n",
            "-rw------- 1 root root 283520 Nov 13  2023 'Anexo 2 - Ajuste_curricular_MFF_vfinal.docx'\n",
            "-rw------- 1 root root  43588 Feb  2  2024  Observaciones_MSCFF_v2.docx\n"
          ]
        }
      ]
    },
    {
      "cell_type": "markdown",
      "source": [
        "## Creating directories:"
      ],
      "metadata": {
        "id": "kPXjoXnfmadN"
      }
    },
    {
      "cell_type": "code",
      "source": [
        "!mkdir CP1_unit1"
      ],
      "metadata": {
        "colab": {
          "base_uri": "https://localhost:8080/"
        },
        "id": "imuO6RyBmZ6_",
        "outputId": "cbb576c1-6aab-4430-9c4e-8527c1fa5eb5"
      },
      "execution_count": null,
      "outputs": [
        {
          "output_type": "stream",
          "name": "stdout",
          "text": [
            "mkdir: cannot create directory ‘CP1_unit1’: File exists\n"
          ]
        }
      ]
    },
    {
      "cell_type": "code",
      "source": [
        "!ls -ltr CP1_unit1"
      ],
      "metadata": {
        "colab": {
          "base_uri": "https://localhost:8080/"
        },
        "id": "tfb6HhtImtsj",
        "outputId": "cbf03730-abd8-4a39-8c56-86efc656de02"
      },
      "execution_count": null,
      "outputs": [
        {
          "output_type": "stream",
          "name": "stdout",
          "text": [
            "total 6\n",
            "-rw------- 1 root root  114 Aug 18 18:36 books.dat\n",
            "drwx------ 2 root root 4096 Aug 18 18:36 tmp\n",
            "-rw------- 1 root root  114 Aug 19 16:29 books.dat.1\n",
            "-rw------- 1 root root   36 Aug 19 16:36 prints_5.txt\n"
          ]
        }
      ]
    },
    {
      "cell_type": "code",
      "source": [
        "%cd CP1_unit1\n",
        "!pwd"
      ],
      "metadata": {
        "colab": {
          "base_uri": "https://localhost:8080/"
        },
        "id": "nss5DFEJnPCS",
        "outputId": "4c4753c0-14c3-4178-ca98-52663770b84c"
      },
      "execution_count": null,
      "outputs": [
        {
          "output_type": "stream",
          "name": "stdout",
          "text": [
            "/content/drive/MyDrive/CP1_unit1\n",
            "/content/drive/MyDrive/CP1_unit1\n"
          ]
        }
      ]
    },
    {
      "cell_type": "markdown",
      "source": [
        "## Web scrapping File with wget:"
      ],
      "metadata": {
        "id": "TSolSkuO09UX"
      }
    },
    {
      "cell_type": "code",
      "source": [
        "!wget https://raw.githubusercontent.com/wbandabarragan/physics-teaching-data/main/1D-data/books.dat"
      ],
      "metadata": {
        "colab": {
          "base_uri": "https://localhost:8080/"
        },
        "id": "0b0dp0uG2AJ2",
        "outputId": "262fec9d-9e15-402f-8dd9-48f3a2fd9ae3"
      },
      "execution_count": null,
      "outputs": [
        {
          "output_type": "stream",
          "name": "stdout",
          "text": [
            "--2025-08-23 03:42:14--  https://raw.githubusercontent.com/wbandabarragan/physics-teaching-data/main/1D-data/books.dat\n",
            "Resolving raw.githubusercontent.com (raw.githubusercontent.com)... 185.199.108.133, 185.199.109.133, 185.199.110.133, ...\n",
            "Connecting to raw.githubusercontent.com (raw.githubusercontent.com)|185.199.108.133|:443... connected.\n",
            "HTTP request sent, awaiting response... 200 OK\n",
            "Length: 114 [text/plain]\n",
            "Saving to: ‘books.dat.2’\n",
            "\n",
            "books.dat.2         100%[===================>]     114  --.-KB/s    in 0s      \n",
            "\n",
            "2025-08-23 03:42:14 (1.58 MB/s) - ‘books.dat.2’ saved [114/114]\n",
            "\n"
          ]
        }
      ]
    },
    {
      "cell_type": "code",
      "source": [
        "!pwd\n"
      ],
      "metadata": {
        "colab": {
          "base_uri": "https://localhost:8080/"
        },
        "id": "sr_1wPd-2Lj9",
        "outputId": "5ce652e2-aacb-48f4-9e59-75695daf35a6"
      },
      "execution_count": null,
      "outputs": [
        {
          "output_type": "stream",
          "name": "stdout",
          "text": [
            "/content/drive/MyDrive/CP1_unit1\n"
          ]
        }
      ]
    },
    {
      "cell_type": "markdown",
      "source": [
        "## List files:"
      ],
      "metadata": {
        "id": "BdP1BnuBzjIa"
      }
    },
    {
      "cell_type": "code",
      "source": [
        "!ls -ltr *.dat"
      ],
      "metadata": {
        "colab": {
          "base_uri": "https://localhost:8080/"
        },
        "id": "d3ucmfBI2Ztt",
        "outputId": "5c65da32-dae7-4af6-9bbf-13b61514ecc9"
      },
      "execution_count": null,
      "outputs": [
        {
          "output_type": "stream",
          "name": "stdout",
          "text": [
            "-rw------- 1 root root 114 Aug 18 18:36 books.dat\n"
          ]
        }
      ]
    },
    {
      "cell_type": "markdown",
      "source": [
        "## Inspect files:\n",
        "\n",
        "\n",
        "### Use cat to see full file contents"
      ],
      "metadata": {
        "id": "OTKYNHf6oRMP"
      }
    },
    {
      "cell_type": "code",
      "source": [
        "# Full file inspection\n",
        "!cat books.dat"
      ],
      "metadata": {
        "colab": {
          "base_uri": "https://localhost:8080/"
        },
        "id": "BDnVoBj82aZq",
        "outputId": "fa76c4a5-f8c2-422b-d3d8-fe0c92e1b5a3"
      },
      "execution_count": null,
      "outputs": [
        {
          "output_type": "stream",
          "name": "stdout",
          "text": [
            "N\tPages\tThickness\n",
            "1\t10\t3.0\n",
            "2\t20\t4.5\n",
            "3\t30\t5.5\n",
            "4\t40\t7.0\n",
            "5\t50\t8.0\n",
            "6\t60\t9.0\n",
            "7\t70\t9.5\n",
            "8\t80\t11.1\n",
            "9\t90\t12.0\n",
            "10\t100\t12.9\n",
            "\n"
          ]
        }
      ]
    },
    {
      "cell_type": "markdown",
      "source": [
        "### Use grep to fetch lines with specific characters"
      ],
      "metadata": {
        "id": "Sb4qjmSXBjT8"
      }
    },
    {
      "cell_type": "code",
      "source": [
        "# Using grep\n",
        "!grep \"5\" books.dat"
      ],
      "metadata": {
        "colab": {
          "base_uri": "https://localhost:8080/"
        },
        "id": "SrtaWTf8KlDy",
        "outputId": "07bdabd5-6af8-4b86-b322-942192b58522"
      },
      "execution_count": null,
      "outputs": [
        {
          "output_type": "stream",
          "name": "stdout",
          "text": [
            "2\t20\t4.5\n",
            "3\t30\t5.5\n",
            "5\t50\t8.0\n",
            "7\t70\t9.5\n"
          ]
        }
      ]
    },
    {
      "cell_type": "code",
      "source": [
        "!pwd"
      ],
      "metadata": {
        "colab": {
          "base_uri": "https://localhost:8080/"
        },
        "id": "IHMjjUuRMAQ3",
        "outputId": "e5990e73-d76b-472a-a9d7-8b6e36f3cd7a"
      },
      "execution_count": null,
      "outputs": [
        {
          "output_type": "stream",
          "name": "stdout",
          "text": [
            "/content/drive/MyDrive/CP1_unit1\n"
          ]
        }
      ]
    },
    {
      "cell_type": "markdown",
      "source": [
        "### Use > to save print onto a file"
      ],
      "metadata": {
        "id": "Q3Lr2wddBsNr"
      }
    },
    {
      "cell_type": "code",
      "source": [
        "!grep \"5\" books.dat > prints_5.txt"
      ],
      "metadata": {
        "id": "FiQz1qXnMDkT"
      },
      "execution_count": null,
      "outputs": []
    },
    {
      "cell_type": "code",
      "source": [
        "!cat prints_5.txt\n"
      ],
      "metadata": {
        "colab": {
          "base_uri": "https://localhost:8080/"
        },
        "id": "MAR-krHxMFwO",
        "outputId": "c3443896-4952-4d90-e81e-08f11823e122"
      },
      "execution_count": null,
      "outputs": [
        {
          "output_type": "stream",
          "name": "stdout",
          "text": [
            "2\t20\t4.5\n",
            "3\t30\t5.5\n",
            "5\t50\t8.0\n",
            "7\t70\t9.5\n"
          ]
        }
      ]
    },
    {
      "cell_type": "markdown",
      "source": [
        "### Use head to check the header of a file:"
      ],
      "metadata": {
        "id": "Y7kTVp85BzmL"
      }
    },
    {
      "cell_type": "code",
      "source": [
        "# Inspect the top of the file (n lines with -n)\n",
        "!head -n 2 books.dat"
      ],
      "metadata": {
        "colab": {
          "base_uri": "https://localhost:8080/"
        },
        "id": "an7QWAYu3AKq",
        "outputId": "47464c3b-0c7d-465d-87e7-ec1d787e5dea"
      },
      "execution_count": null,
      "outputs": [
        {
          "output_type": "stream",
          "name": "stdout",
          "text": [
            "N\tPages\tThickness\n",
            "1\t10\t3.0\n"
          ]
        }
      ]
    },
    {
      "cell_type": "code",
      "source": [
        "# Bottom tof the file (n lines with -n)\n",
        "\n",
        "!tail -n 3 books.dat"
      ],
      "metadata": {
        "colab": {
          "base_uri": "https://localhost:8080/"
        },
        "id": "RGHy1Bu3o8S7",
        "outputId": "24439883-952a-4470-e3fc-49412e107629"
      },
      "execution_count": null,
      "outputs": [
        {
          "output_type": "stream",
          "name": "stdout",
          "text": [
            "9\t90\t12.0\n",
            "10\t100\t12.9\n",
            "\n"
          ]
        }
      ]
    },
    {
      "cell_type": "markdown",
      "source": [
        "## Copying and moving files\n",
        "\n",
        "\n",
        "- cp is used for copying.\n",
        "\n",
        "- mv is used for moving/renaming files."
      ],
      "metadata": {
        "id": "n-yIws3Rqbmh"
      }
    },
    {
      "cell_type": "code",
      "source": [
        "# Cpyting files\n",
        "!cp books.dat books2.dat"
      ],
      "metadata": {
        "id": "uAgCaZRAoif8"
      },
      "execution_count": null,
      "outputs": []
    },
    {
      "cell_type": "code",
      "source": [
        "!ls -ltr"
      ],
      "metadata": {
        "colab": {
          "base_uri": "https://localhost:8080/"
        },
        "id": "wdhD4j_Bqmge",
        "outputId": "510976b5-018e-4267-a64b-5657f814ec99"
      },
      "execution_count": null,
      "outputs": [
        {
          "output_type": "stream",
          "name": "stdout",
          "text": [
            "total 7\n",
            "-rw------- 1 root root  114 Aug 18 18:36 books.dat\n",
            "drwx------ 2 root root 4096 Aug 18 18:36 tmp\n",
            "-rw------- 1 root root  114 Aug 19 16:29 books.dat.1\n",
            "-rw------- 1 root root  114 Aug 23 03:42 books.dat.2\n",
            "-rw------- 1 root root   36 Aug 23 03:42 prints_5.txt\n",
            "-rw------- 1 root root  114 Aug 23 03:42 books2.dat\n"
          ]
        }
      ]
    },
    {
      "cell_type": "markdown",
      "source": [
        "## Rename file"
      ],
      "metadata": {
        "id": "eWuuLtf4qxvR"
      }
    },
    {
      "cell_type": "code",
      "source": [
        "!mv books2.dat books_v2.dat"
      ],
      "metadata": {
        "id": "7OLqADj-qrUW"
      },
      "execution_count": null,
      "outputs": []
    },
    {
      "cell_type": "code",
      "source": [
        "!ls -ltr"
      ],
      "metadata": {
        "colab": {
          "base_uri": "https://localhost:8080/"
        },
        "id": "xgd4d7Ucq3CR",
        "outputId": "f3d22716-7c3c-4f6f-8f10-6886e3ac2f76"
      },
      "execution_count": null,
      "outputs": [
        {
          "output_type": "stream",
          "name": "stdout",
          "text": [
            "total 7\n",
            "-rw------- 1 root root  114 Aug 18 18:36 books.dat\n",
            "drwx------ 2 root root 4096 Aug 18 18:36 tmp\n",
            "-rw------- 1 root root  114 Aug 19 16:29 books.dat.1\n",
            "-rw------- 1 root root  114 Aug 23 03:42 books.dat.2\n",
            "-rw------- 1 root root   36 Aug 23 03:42 prints_5.txt\n",
            "-rw------- 1 root root  114 Aug 23 03:42 books_v2.dat\n"
          ]
        }
      ]
    },
    {
      "cell_type": "markdown",
      "source": [
        "## Adding & removing directories and files:"
      ],
      "metadata": {
        "id": "8yZY0VccrGQN"
      }
    },
    {
      "cell_type": "code",
      "source": [
        "# Create a temporary directory\n",
        "!mkdir tmp"
      ],
      "metadata": {
        "colab": {
          "base_uri": "https://localhost:8080/"
        },
        "id": "5TU0UgBDq4Yi",
        "outputId": "33bfee03-e35f-4a7e-f10f-02a0e1fa889f"
      },
      "execution_count": null,
      "outputs": [
        {
          "output_type": "stream",
          "name": "stdout",
          "text": [
            "mkdir: cannot create directory ‘tmp’: File exists\n"
          ]
        }
      ]
    },
    {
      "cell_type": "code",
      "source": [
        "!ls -ltr"
      ],
      "metadata": {
        "colab": {
          "base_uri": "https://localhost:8080/"
        },
        "id": "QbDF7DUGrSfg",
        "outputId": "897b4ec1-854b-4bda-ffac-b74a5a0a5eea"
      },
      "execution_count": null,
      "outputs": [
        {
          "output_type": "stream",
          "name": "stdout",
          "text": [
            "total 7\n",
            "-rw------- 1 root root  114 Aug 18 18:36 books.dat\n",
            "drwx------ 2 root root 4096 Aug 18 18:36 tmp\n",
            "-rw------- 1 root root  114 Aug 19 16:29 books.dat.1\n",
            "-rw------- 1 root root  114 Aug 23 03:42 books.dat.2\n",
            "-rw------- 1 root root   36 Aug 23 03:42 prints_5.txt\n",
            "-rw------- 1 root root  114 Aug 23 03:42 books_v2.dat\n"
          ]
        }
      ]
    },
    {
      "cell_type": "code",
      "source": [
        "# Move file into that directory\n",
        "!cp books_v2.dat books_v3.dat"
      ],
      "metadata": {
        "id": "6JwE8fJ1rWjB"
      },
      "execution_count": null,
      "outputs": []
    },
    {
      "cell_type": "code",
      "source": [
        "!ls -ltr"
      ],
      "metadata": {
        "colab": {
          "base_uri": "https://localhost:8080/"
        },
        "id": "-Q2sNN3_riS3",
        "outputId": "400f7edf-e831-4ed7-8a79-17dfab24d16f"
      },
      "execution_count": null,
      "outputs": [
        {
          "output_type": "stream",
          "name": "stdout",
          "text": [
            "total 7\n",
            "-rw------- 1 root root  114 Aug 18 18:36 books.dat\n",
            "drwx------ 2 root root 4096 Aug 18 18:36 tmp\n",
            "-rw------- 1 root root  114 Aug 19 16:29 books.dat.1\n",
            "-rw------- 1 root root  114 Aug 23 03:42 books.dat.2\n",
            "-rw------- 1 root root   36 Aug 23 03:42 prints_5.txt\n",
            "-rw------- 1 root root  114 Aug 23 03:42 books_v2.dat\n",
            "-rw------- 1 root root  114 Aug 23 03:42 books_v3.dat\n"
          ]
        }
      ]
    },
    {
      "cell_type": "code",
      "source": [
        "# MOve the file to /tmp\n",
        "!mv books_v3.dat tmp/."
      ],
      "metadata": {
        "id": "DbVzFvD1rjcz"
      },
      "execution_count": null,
      "outputs": []
    },
    {
      "cell_type": "code",
      "source": [
        "!ls -ltr tmp/."
      ],
      "metadata": {
        "colab": {
          "base_uri": "https://localhost:8080/"
        },
        "id": "ouRTm6QyrljV",
        "outputId": "69022979-8f6a-40e7-c85c-e2c00865d125"
      },
      "execution_count": null,
      "outputs": [
        {
          "output_type": "stream",
          "name": "stdout",
          "text": [
            "total 1\n",
            "-rw------- 1 root root 114 Aug 23 03:42 books_v3.dat\n"
          ]
        }
      ]
    },
    {
      "cell_type": "code",
      "source": [
        "!pwd"
      ],
      "metadata": {
        "colab": {
          "base_uri": "https://localhost:8080/"
        },
        "id": "9FbcesHyrsf9",
        "outputId": "a140685e-60e1-4763-d2c0-6fd3d0b65d51"
      },
      "execution_count": null,
      "outputs": [
        {
          "output_type": "stream",
          "name": "stdout",
          "text": [
            "/content/drive/MyDrive/CP1_unit1\n"
          ]
        }
      ]
    },
    {
      "cell_type": "code",
      "source": [
        "#Remove the v2 file\n",
        "!rm books_v2.dat"
      ],
      "metadata": {
        "id": "eOV3T2QUr6d6"
      },
      "execution_count": null,
      "outputs": []
    },
    {
      "cell_type": "markdown",
      "source": [
        "## Coping or removing folders:\n",
        "\n",
        "You need to add a recursive flag: `-r`"
      ],
      "metadata": {
        "id": "2BcgiHMrspNI"
      }
    },
    {
      "cell_type": "code",
      "source": [
        "# Cuplicate the folder\n",
        "!cp -r tmp tmp2"
      ],
      "metadata": {
        "id": "sMO99TvPr_7Z"
      },
      "execution_count": null,
      "outputs": []
    },
    {
      "cell_type": "code",
      "source": [
        "!ls -ltr tmp2/"
      ],
      "metadata": {
        "colab": {
          "base_uri": "https://localhost:8080/"
        },
        "id": "aO2QtHSoss6q",
        "outputId": "cc1264d6-4e9e-4fea-fea2-089b903bff5a"
      },
      "execution_count": null,
      "outputs": [
        {
          "output_type": "stream",
          "name": "stdout",
          "text": [
            "total 1\n",
            "-rw------- 1 root root 114 Aug 23 03:42 books_v3.dat\n"
          ]
        }
      ]
    },
    {
      "cell_type": "code",
      "source": [
        "# Very carefully we remove the folder\n",
        "#!rm tmp2 # rm: cannot remove 'tmp2': Is a directory\n",
        "\n",
        "!rm -r tmp2"
      ],
      "metadata": {
        "id": "vQAuBCxFs3IJ"
      },
      "execution_count": null,
      "outputs": []
    },
    {
      "cell_type": "code",
      "source": [
        "!ls -ltr"
      ],
      "metadata": {
        "colab": {
          "base_uri": "https://localhost:8080/"
        },
        "id": "Nd2Y4xwttXui",
        "outputId": "d8bbbee4-49d5-4b6a-f148-f69738cc6260"
      },
      "execution_count": null,
      "outputs": [
        {
          "output_type": "stream",
          "name": "stdout",
          "text": [
            "total 6\n",
            "-rw------- 1 root root  114 Aug 18 18:36 books.dat\n",
            "-rw------- 1 root root  114 Aug 19 16:29 books.dat.1\n",
            "-rw------- 1 root root  114 Aug 23 03:42 books.dat.2\n",
            "-rw------- 1 root root   36 Aug 23 03:42 prints_5.txt\n",
            "drwx------ 2 root root 4096 Aug 23 03:42 tmp\n"
          ]
        }
      ]
    },
    {
      "cell_type": "markdown",
      "source": [
        "## Compare files:"
      ],
      "metadata": {
        "id": "6QKP-O1Qv3DR"
      }
    },
    {
      "cell_type": "code",
      "source": [
        "# If you see nothing, that means files are the same\n",
        "\n",
        "!diff books.dat ./tmp/books_v3.dat"
      ],
      "metadata": {
        "id": "Tyag2p1-tgKo"
      },
      "execution_count": null,
      "outputs": []
    },
    {
      "cell_type": "markdown",
      "source": [
        "## File permisions in Linux\n",
        "\n",
        "- Every file and directory in Linux has associated permissions that control who can **read** (r), **write** (w), or **execute** (x) it.\n",
        "\n",
        "- These permissions are assigned to three types of users:\n",
        "\n",
        " - the **user** (file owner, **u**),\n",
        " - the **group** (people working alongside the owner, **g**), and\n",
        " - **others** (everyone else, **o**).\n",
        " - all (user, group, and others, **a**)\n",
        "\n",
        "\n",
        "- To check permisions you can run: ``ls -ltr``\n",
        "\n",
        "### Example:\n"
      ],
      "metadata": {
        "id": "WYcpwH2py7vr"
      }
    },
    {
      "cell_type": "code",
      "source": [
        "!ls -ltr"
      ],
      "metadata": {
        "colab": {
          "base_uri": "https://localhost:8080/"
        },
        "id": "i6Yx8wdQylVq",
        "outputId": "7f0a0961-90d3-4e76-b6af-f6a6bf0c0645"
      },
      "execution_count": null,
      "outputs": [
        {
          "output_type": "stream",
          "name": "stdout",
          "text": [
            "total 6\n",
            "-rw------- 1 root root  114 Aug 18 18:36 books.dat\n",
            "-rw------- 1 root root  114 Aug 19 16:29 books.dat.1\n",
            "-rw------- 1 root root  114 Aug 23 03:42 books.dat.2\n",
            "-rw------- 1 root root   36 Aug 23 03:42 prints_5.txt\n",
            "drwx------ 2 root root 4096 Aug 23 03:42 tmp\n"
          ]
        }
      ]
    },
    {
      "cell_type": "markdown",
      "source": [
        "Here, you can see:\n",
        "\n",
        "```\n",
        "-rw------- 1 root root  114 Aug 18 18:36 books.dat\n",
        "```\n",
        "\n",
        "\n",
        "- The **first character** indicates the file type:\n",
        "    - `-` for a regular file.\n",
        "    - `d` for a directory.\n",
        "    - `l` for a symbolic link.\n",
        "\n",
        "- The **next nine characters** are divided into three sets:\n",
        "\n",
        "    * **User** permissions (characters 2-4): `rw-`\n",
        "\n",
        "    * **Group** permissions (characters 5-7): `---`\n",
        "\n",
        "    * **Others** permissions (characters 8-10): `---`\n",
        "\n",
        "\n",
        "- Each letter within a set represents a specific permission:\n",
        "\n",
        "  - **`r` (read):** Allows viewing the file's contents or listing a directory's contents.\n",
        "  - **`w` (write):** Allows modifying, saving, or deleting the file, or creating/deleting files within a directory.\n",
        "  - **`x` (execute):** Allows running a file as a program or entering a directory.\n",
        "  - A hyphen (`-`) in place of a letter means that permission is not granted.\n"
      ],
      "metadata": {
        "id": "bsoJcBroePkZ"
      }
    },
    {
      "cell_type": "markdown",
      "source": [
        "## Modifying file permisions with ``chmod``\n",
        "\n",
        "- You can modify file permissions using the `chmod` command.\n",
        "\n",
        "- There are two common methods for using `chmod`:\n",
        "\n",
        "### A. Symbolic Method\n",
        "\n",
        "This method uses letters and symbols to add (`+`), remove (`-`), or set (`=`) permissions.\n",
        "\n",
        "- `chmod a+r filename` adds read permission for all (u, g, o).\n",
        "\n",
        "- `chmod u+w filename` adds write permission for the user.\n",
        "\n",
        "- `chmod o-r filename` removes read permission for others.\n",
        "\n",
        "- `chmod g=rw filename` sets group permissions to only read and write.\n",
        "\n",
        "#### Examples (this does not work on Colab, test it on the terminal in your Linux OS):\n",
        "\n",
        "```\n",
        "ls -ltr\n",
        "-rw------- 1 root root  114 Aug 18 18:36 books.dat\n",
        "pwd\n",
        "```\n",
        "\n",
        "### 1. Add read permissions to all:\n",
        "\n",
        "```\n",
        "chmod a+r /content/drive/MyDrive/CP1_unit1/books.dat\n",
        "ls -ltr\n",
        "-rw-r--r-- 1 root root  114 Aug 18 18:36 books.dat\n",
        "```\n",
        "\n",
        "### 2. Add execute permissions to the user:\n",
        "\n",
        "```\n",
        "chmod u+x /content/drive/MyDrive/CP1_unit1/books.dat\n",
        "ls -ltr\n",
        "-rwxr--r-- 1 root root  114 Aug 18 18:37 books.dat\n",
        "```\n",
        "\n",
        "### 3. Remove read permissions to others:\n",
        "\n",
        "```\n",
        "chmod o-r /content/drive/MyDrive/CP1_unit1/books.dat\n",
        "ls -ltr\n",
        "-rwxr----- 1 root root  114 Aug 18 18:38 books.dat\n",
        "```\n",
        "\n",
        "### B. Numeric (Octal) Method\n",
        "\n",
        "- This method uses a three-digit number to represent the permissions for the user, group, and others.\n",
        "\n",
        "- Each digit is a sum of the numeric values for `r` (4), `w` (2), and `x` (1):\n",
        "\n",
        " - `r` (read) = 4\n",
        " - `w` (write) = 2\n",
        " - `x` (execute) = 1\n",
        "\n",
        "- You need to sum the values to set the desired permissions. For example, `rwx` is `4+2+1=7`, `rw-` is `4+2=6`, and `r-x` is `4+1=5`.\n",
        "\n",
        "**Examples:**\n",
        "\n",
        "### 1. Set 754 permissions:\n",
        "\n",
        "```\n",
        "chmod 754 /content/drive/MyDrive/CP1_unit1/books.dat\n",
        "ls -ltr\n",
        "-rwxr-xr-- 1 root root  114 Aug 18 18:42 books.dat\n",
        "```\n",
        "\n",
        "\n",
        "### 2. Set 644 permissions:\n",
        "\n",
        "```\n",
        "chmod 644 /content/drive/MyDrive/CP1_unit1/books.dat\n",
        "ls -ltr\n",
        "-rw-r--r-- 1 root root  114 Aug 18 18:44 books.dat\n",
        "```\n"
      ],
      "metadata": {
        "id": "QBWPsBE7gvmA"
      }
    },
    {
      "cell_type": "markdown",
      "source": [
        "## Extra commands:\n",
        "\n",
        "- ping: this is to check whether a remote server is responsive. Try this on a PC, it won't work on Colab.\n",
        "\n",
        "\n",
        "- top: this is used to see what jobs are running on a PC/laptop system."
      ],
      "metadata": {
        "id": "v8JwzFNwJj2t"
      }
    },
    {
      "cell_type": "code",
      "source": [
        "#!top"
      ],
      "metadata": {
        "id": "6MAJUnLPJmjq"
      },
      "execution_count": null,
      "outputs": []
    },
    {
      "cell_type": "markdown",
      "source": [
        "### Linux on Windows:\n",
        "\n",
        "If you are using Windows, I highly recommend either:\n",
        "\n",
        "1. setting up a dual partition in your hard drive with both Windows and Linux (make sure you back up your data before), or\n",
        "\n",
        "2. setting up a Virtual Machine (VM) with a linux distribution. For this:\n",
        "\n",
        "- Download VirtualBox from: https://www.virtualbox.org\n",
        "\n",
        "- Follow the instructions here: https://itsfoss.com/install-linux-in-virtualbox\n",
        "\n",
        "After the installation of the VM is successful, follow the instructions provided above for Linux/MacOSX systems to set up your Anaconda installation.\n",
        "\n",
        "In the long term, you may want to fully switch to Unix-based operating systems. Ubuntu is a popular and user-friendly option:\n",
        "\n",
        "##### Ubuntu webpage: https://ubuntu.com\n"
      ],
      "metadata": {
        "id": "J11YKgE6TFkw"
      }
    }
  ]
}