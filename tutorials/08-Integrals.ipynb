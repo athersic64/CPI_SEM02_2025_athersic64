{
 "cells": [
  {
   "cell_type": "markdown",
   "id": "b22fae17-4800-4647-b846-d0c4d45042eb",
   "metadata": {},
   "source": [
    "# Tutorial 8: Integrals"
   ]
  },
  {
   "cell_type": "markdown",
   "id": "ee38b713-ad92-45f2-8281-67ac0f312dc9",
   "metadata": {},
   "source": [
    "In this exercise, we will read, plot and analyze a **VTR file** (i.e. VTK Rectilinear Grid) containing the density of $3$ spherical moons via numerical integration, which allows us to easily calculate mass, column densities and center of masses. \n",
    "\n",
    "**Data**: The VTR file can be found [here](https://github.com/wbandabarragan/physics-teaching-data/blob/main/3D-data/moons.zip)."
   ]
  },
  {
   "cell_type": "markdown",
   "id": "e22dab5c-80f4-4b89-b70f-eff29c4f9afe",
   "metadata": {},
   "source": [
    "### (a) Create a simple function which reads the file and returns the reshaped $256\\times256\\times256$ cube along with the appropiate coordinates. Then, plot a $2\\rm D$ slice. What do you notice when changing the index of the slice?\n",
    "\n",
    "Assume the normalization factors are $1 \\rm pix$ $ = 25 \\,\\rm km$ for distance and $1\\times10^{10}\\,\\rm kg/km^{3}$ for density."
   ]
  },
  {
   "cell_type": "code",
   "execution_count": 1,
   "id": "4b84e4c1-8c93-4ad4-9d6c-0c42583f0e26",
   "metadata": {
    "execution": {
     "iopub.execute_input": "2024-11-20T17:16:51.968786Z",
     "iopub.status.busy": "2024-11-20T17:16:51.967462Z",
     "iopub.status.idle": "2024-11-20T17:16:55.596935Z",
     "shell.execute_reply": "2024-11-20T17:16:55.595054Z",
     "shell.execute_reply.started": "2024-11-20T17:16:51.968670Z"
    }
   },
   "outputs": [],
   "source": [
    "# Libraries\n",
    "import numpy as np\n",
    "import matplotlib.pyplot as plt\n",
    "import pyvista as pv\n",
    "import sympy as sp"
   ]
  },
  {
   "cell_type": "code",
   "execution_count": 2,
   "id": "67738454-4184-48ff-aadb-f7e20a2e67e9",
   "metadata": {
    "execution": {
     "iopub.execute_input": "2024-11-20T17:16:55.599912Z",
     "iopub.status.busy": "2024-11-20T17:16:55.599131Z",
     "iopub.status.idle": "2024-11-20T17:16:55.614521Z",
     "shell.execute_reply": "2024-11-20T17:16:55.612077Z",
     "shell.execute_reply.started": "2024-11-20T17:16:55.599836Z"
    }
   },
   "outputs": [],
   "source": [
    "def get_density_cube(filename):\n",
    "    \"\"\"\n",
    "    Obtain the density cube of a vtk file.\n",
    "\n",
    "    Parameters\n",
    "    ----------\n",
    "    filename : str, required\n",
    "        Location of the file.\n",
    "\n",
    "    Returns\n",
    "    -------\n",
    "    rho_3d : array\n",
    "        Density cube.\n",
    "    x, y, z : array\n",
    "        Coordinates along each direction.\n",
    "    \"\"\"\n",
    "    # Get the mesh\n",
    "    mesh = pv.read(filename)\n",
    "\n",
    "    # Extract the specified array\n",
    "    rho_1d = pv.get_array(mesh, \"density\", preference = \"cell\")\n",
    "\n",
    "    # Get the dimensions (the same for the all)\n",
    "    dims = mesh.dimensions[0] - 1\n",
    "\n",
    "    # And reshape the array\n",
    "    rho_3d = rho_1d.reshape(dims, dims, dims)\n",
    "\n",
    "    # Get the coordinates \n",
    "    x = np.linspace(mesh.bounds[0], mesh.bounds[1], mesh.dimensions[0])\n",
    "    y = np.linspace(mesh.bounds[2], mesh.bounds[3], mesh.dimensions[1])\n",
    "    z = np.linspace(mesh.bounds[4], mesh.bounds[5], mesh.dimensions[2])\n",
    "\n",
    "    return rho_3d, x, y, z"
   ]
  },
  {
   "cell_type": "code",
   "execution_count": 3,
   "id": "bd12d0b9-52bb-44df-9ddb-9dbb69828b49",
   "metadata": {
    "execution": {
     "iopub.execute_input": "2024-11-20T17:16:55.618214Z",
     "iopub.status.busy": "2024-11-20T17:16:55.617413Z",
     "iopub.status.idle": "2024-11-20T17:16:56.682440Z",
     "shell.execute_reply": "2024-11-20T17:16:56.680473Z",
     "shell.execute_reply.started": "2024-11-20T17:16:55.618149Z"
    }
   },
   "outputs": [],
   "source": [
    "# Call it\n",
    "rho_3d, x, y, z = get_density_cube(\"./Data/moons.vtr\")"
   ]
  },
  {
   "cell_type": "code",
   "execution_count": 4,
   "id": "59af91eb-0ac9-4efe-b20d-9e3d0726835c",
   "metadata": {
    "execution": {
     "iopub.execute_input": "2024-11-20T17:16:56.685728Z",
     "iopub.status.busy": "2024-11-20T17:16:56.685048Z",
     "iopub.status.idle": "2024-11-20T17:16:56.747340Z",
     "shell.execute_reply": "2024-11-20T17:16:56.745233Z",
     "shell.execute_reply.started": "2024-11-20T17:16:56.685666Z"
    }
   },
   "outputs": [],
   "source": [
    "# Create a 2d meshgrid\n",
    "x_2d, y_2d = np.meshgrid(x, y)"
   ]
  },
  {
   "cell_type": "code",
   "execution_count": 5,
   "id": "a0b3e3d7-6dd6-422c-84ad-aba00ab940ff",
   "metadata": {
    "execution": {
     "iopub.execute_input": "2024-11-20T17:16:56.750432Z",
     "iopub.status.busy": "2024-11-20T17:16:56.749719Z",
     "iopub.status.idle": "2024-11-20T17:16:56.813826Z",
     "shell.execute_reply": "2024-11-20T17:16:56.811342Z",
     "shell.execute_reply.started": "2024-11-20T17:16:56.750368Z"
    }
   },
   "outputs": [],
   "source": [
    "# Get a slice \n",
    "slice_2d = rho_3d[:, :, 128]"
   ]
  },
  {
   "cell_type": "code",
   "execution_count": 6,
   "id": "b688f928-579e-418b-8263-4a45d348a5dc",
   "metadata": {
    "execution": {
     "iopub.execute_input": "2024-11-20T17:16:56.822806Z",
     "iopub.status.busy": "2024-11-20T17:16:56.821975Z",
     "iopub.status.idle": "2024-11-20T17:16:57.615342Z",
     "shell.execute_reply": "2024-11-20T17:16:57.612832Z",
     "shell.execute_reply.started": "2024-11-20T17:16:56.822733Z"
    }
   },
   "outputs": [
    {
     "data": {
      "image/png": "[encoded data removed]",
      "text/plain": [
       "<Figure size 500x500 with 2 Axes>"
      ]
     },
     "metadata": {},
     "output_type": "display_data"
    }
   ],
   "source": [
    "# Plot the slice\n",
    "plt.figure(figsize = (5, 5))\n",
    "\n",
    "plot = plt.pcolormesh(x_2d, y_2d, np.log(slice_2d + 1),\n",
    "                      cmap = 'magma', shading = 'auto')\n",
    "plt.colorbar(plot, shrink = 0.80, label = 'Density')\n",
    "\n",
    "plt.title('Slice')\n",
    "plt.xlabel('x [km]')\n",
    "plt.ylabel('y [km]')\n",
    "\n",
    "plt.gca().set_aspect('equal')\n",
    "plt.show()\n",
    "plt.close()"
   ]
  },
  {
   "cell_type": "markdown",
   "id": "bc06acae-9900-4a28-89b6-085a5515b36c",
   "metadata": {},
   "source": [
    "### (b) Knowing the density of each moon is constant and different, create a function which returns the mass of each of them. Then, get the total mass."
   ]
  },
  {
   "cell_type": "code",
   "execution_count": 7,
   "id": "9b9d6756-8a87-4c9d-85a3-75d0814e6391",
   "metadata": {
    "execution": {
     "iopub.execute_input": "2024-11-20T17:16:57.618811Z",
     "iopub.status.busy": "2024-11-20T17:16:57.618116Z",
     "iopub.status.idle": "2024-11-20T17:16:57.630821Z",
     "shell.execute_reply": "2024-11-20T17:16:57.628061Z",
     "shell.execute_reply.started": "2024-11-20T17:16:57.618748Z"
    }
   },
   "outputs": [],
   "source": [
    "# Function\n",
    "def get_mass(density_3d, density, dx):\n",
    "    \"\"\"\n",
    "    Compute the mass of each moon.\n",
    "    \"\"\"\n",
    "    # Get a moon\n",
    "    moon = density_3d[density_3d == density]\n",
    "\n",
    "    # Calculate the mass by integrating\n",
    "    mass = np.sum(moon)*dx**3\n",
    "\n",
    "    return mass"
   ]
  },
  {
   "cell_type": "code",
   "execution_count": 8,
   "id": "a6c5a06b-d94f-4f1b-9f41-81aceba5f139",
   "metadata": {
    "execution": {
     "iopub.execute_input": "2024-11-20T17:16:57.634119Z",
     "iopub.status.busy": "2024-11-20T17:16:57.633414Z",
     "iopub.status.idle": "2024-11-20T17:16:57.698507Z",
     "shell.execute_reply": "2024-11-20T17:16:57.696151Z",
     "shell.execute_reply.started": "2024-11-20T17:16:57.634056Z"
    }
   },
   "outputs": [],
   "source": [
    "# Calculate the differentials\n",
    "dx = abs(x[1]-x[0])\n",
    "dy = abs(y[1]-y[0])\n",
    "dz = abs(z[1]-z[0])"
   ]
  },
  {
   "cell_type": "code",
   "execution_count": 9,
   "id": "f08891c3-cac7-4729-933e-5b9eda75413e",
   "metadata": {
    "execution": {
     "iopub.execute_input": "2024-11-20T17:16:57.702340Z",
     "iopub.status.busy": "2024-11-20T17:16:57.701448Z",
     "iopub.status.idle": "2024-11-20T17:17:02.840971Z",
     "shell.execute_reply": "2024-11-20T17:17:02.838857Z",
     "shell.execute_reply.started": "2024-11-20T17:16:57.702264Z"
    }
   },
   "outputs": [],
   "source": [
    "# Call the function for each\n",
    "mass_1 = get_mass(density_3d = rho_3d, density = np.unique(rho_3d)[-1], dx = dx)\n",
    "mass_2 = get_mass(density_3d = rho_3d, density = np.unique(rho_3d)[-2], dx = dx)\n",
    "mass_3 = get_mass(density_3d = rho_3d, density = np.unique(rho_3d)[-3], dx = dx)"
   ]
  },
  {
   "cell_type": "markdown",
   "id": "b6ddcc5a-87ba-476b-b698-e892e1597de6",
   "metadata": {},
   "source": [
    "### (c) Calculate the $2\\rm D$ and $1\\rm D$ column densities of all moons and visualize them."
   ]
  },
  {
   "cell_type": "code",
   "execution_count": 10,
   "id": "e3a8861b-a3f7-4a0c-afa5-8be24cb0c05f",
   "metadata": {
    "execution": {
     "iopub.execute_input": "2024-11-20T17:17:02.844175Z",
     "iopub.status.busy": "2024-11-20T17:17:02.843466Z",
     "iopub.status.idle": "2024-11-20T17:17:02.882732Z",
     "shell.execute_reply": "2024-11-20T17:17:02.880742Z",
     "shell.execute_reply.started": "2024-11-20T17:17:02.844116Z"
    }
   },
   "outputs": [],
   "source": [
    "# In 2D\n",
    "column_density_2d = np.sum(rho_3d, axis = 2)*dz"
   ]
  },
  {
   "cell_type": "code",
   "execution_count": 11,
   "id": "400e67ec-e588-4793-bfff-e1e7e0ad33da",
   "metadata": {
    "execution": {
     "iopub.execute_input": "2024-11-20T17:17:02.886036Z",
     "iopub.status.busy": "2024-11-20T17:17:02.885271Z",
     "iopub.status.idle": "2024-11-20T17:17:04.819414Z",
     "shell.execute_reply": "2024-11-20T17:17:04.817869Z",
     "shell.execute_reply.started": "2024-11-20T17:17:02.885969Z"
    }
   },
   "outputs": [
    {
     "data": {
      "image/png": "[encoded data removed]",
      "text/plain": [
       "<Figure size 500x500 with 2 Axes>"
      ]
     },
     "metadata": {},
     "output_type": "display_data"
    }
   ],
   "source": [
    "# Plot!\n",
    "plt.figure(figsize = (5,5))\n",
    "plot = plt.pcolor(x_2d, y_2d, column_density_2d,\n",
    "                  cmap = 'magma_r', shading = 'auto')\n",
    "plt.colorbar(plot, shrink = 0.80, label = '2D column density')\n",
    "\n",
    "plt.title('2D Column density')\n",
    "plt.xlabel('x')\n",
    "plt.ylabel('y')\n",
    "\n",
    "plt.gca().set_aspect('equal')\n",
    "plt.show()\n",
    "plt.close()"
   ]
  },
  {
   "cell_type": "code",
   "execution_count": 12,
   "id": "90d9b6fb-0dfe-4eb5-84cb-a4c3223a8752",
   "metadata": {
    "execution": {
     "iopub.execute_input": "2024-11-20T17:17:04.822193Z",
     "iopub.status.busy": "2024-11-20T17:17:04.821601Z",
     "iopub.status.idle": "2024-11-20T17:17:04.832032Z",
     "shell.execute_reply": "2024-11-20T17:17:04.830070Z",
     "shell.execute_reply.started": "2024-11-20T17:17:04.822139Z"
    }
   },
   "outputs": [],
   "source": [
    "# And 1D\n",
    "column_density_1d = np.sum(column_density_2d, axis = 1) * dx"
   ]
  },
  {
   "cell_type": "code",
   "execution_count": 13,
   "id": "ceeb15a0-f759-45dd-8504-fcf11169fb29",
   "metadata": {
    "execution": {
     "iopub.execute_input": "2024-11-20T17:17:04.836286Z",
     "iopub.status.busy": "2024-11-20T17:17:04.834612Z",
     "iopub.status.idle": "2024-11-20T17:17:05.670884Z",
     "shell.execute_reply": "2024-11-20T17:17:05.669324Z",
     "shell.execute_reply.started": "2024-11-20T17:17:04.836217Z"
    }
   },
   "outputs": [
    {
     "data": {
      "image/png": "[encoded data removed]",
      "text/plain": [
       "<Figure size 800x500 with 1 Axes>"
      ]
     },
     "metadata": {},
     "output_type": "display_data"
    }
   ],
   "source": [
    "# And plot it\n",
    "plt.figure(figsize = (8, 5))\n",
    "plt.plot(column_density_1d, ls = '--', color = 'peru')\n",
    "\n",
    "plt.title('1D Column density')\n",
    "plt.ylabel('1D C.d.')\n",
    "plt.xlabel('y')\n",
    "\n",
    "plt.grid(ls = '-.', alpha = 0.5)\n",
    "plt.show()\n",
    "plt.close()"
   ]
  },
  {
   "cell_type": "markdown",
   "id": "0ce2140a-98ea-47ef-b5d6-2ce160b73919",
   "metadata": {},
   "source": [
    "### (d) Calculate the center of mass of the system, and of each individual moon. Then, compute the distance and determine which one is the closest to the system center of mass."
   ]
  },
  {
   "cell_type": "code",
   "execution_count": 14,
   "id": "f1be126a-d745-47de-a6b3-75d856ccb6fb",
   "metadata": {
    "execution": {
     "iopub.execute_input": "2024-11-20T17:17:05.673442Z",
     "iopub.status.busy": "2024-11-20T17:17:05.672822Z",
     "iopub.status.idle": "2024-11-20T17:17:05.683162Z",
     "shell.execute_reply": "2024-11-20T17:17:05.680622Z",
     "shell.execute_reply.started": "2024-11-20T17:17:05.673390Z"
    }
   },
   "outputs": [],
   "source": [
    "# Define these\n",
    "x_mid = (x[1:] + x[:-1])/2\n",
    "y_mid = (y[1:] + y[:-1])/2\n",
    "z_mid = (z[1:] + z[:-1])/2"
   ]
  },
  {
   "cell_type": "code",
   "execution_count": 15,
   "id": "315b82cc-f27c-4d40-b4d6-7ae1b5594182",
   "metadata": {
    "execution": {
     "iopub.execute_input": "2024-11-20T17:17:05.686345Z",
     "iopub.status.busy": "2024-11-20T17:17:05.685665Z",
     "iopub.status.idle": "2024-11-20T17:17:05.758915Z",
     "shell.execute_reply": "2024-11-20T17:17:05.756434Z",
     "shell.execute_reply.started": "2024-11-20T17:17:05.686288Z"
    }
   },
   "outputs": [],
   "source": [
    "# Create a function for calculating 3D center of masses\n",
    "def get_cm(array_3d):\n",
    "    \"\"\"\n",
    "    Get the center of mass of a given 3D array.\n",
    "    \"\"\"\n",
    "    # Calculate the center of mass for the moon\n",
    "    cm_x = np.sum(np.sum(np.sum(array_3d, axis = 2), axis = 1)*(x_mid))/np.sum(array_3d)\n",
    "    cm_y = np.sum(np.sum(np.sum(array_3d, axis = 2), axis = 0)*(y_mid))/np.sum(array_3d)\n",
    "    cm_z = np.sum(np.sum(np.sum(array_3d, axis = 1), axis = 0)*(z_mid))/np.sum(array_3d) \n",
    "\n",
    "    return np.array([cm_x, cm_y, cm_z])"
   ]
  },
  {
   "cell_type": "code",
   "execution_count": 16,
   "id": "39ae539b-051b-4aa1-b964-cee8b4a74154",
   "metadata": {
    "execution": {
     "iopub.execute_input": "2024-11-20T17:17:05.762509Z",
     "iopub.status.busy": "2024-11-20T17:17:05.761782Z",
     "iopub.status.idle": "2024-11-20T17:17:06.026503Z",
     "shell.execute_reply": "2024-11-20T17:17:06.023321Z",
     "shell.execute_reply.started": "2024-11-20T17:17:05.762448Z"
    }
   },
   "outputs": [],
   "source": [
    "# Get the total center of mass\n",
    "cm_all_moons = get_cm(rho_3d)"
   ]
  },
  {
   "cell_type": "code",
   "execution_count": 17,
   "id": "4478e6a6-7d6f-455a-9292-ad341ba89417",
   "metadata": {
    "execution": {
     "iopub.execute_input": "2024-11-20T17:17:06.031337Z",
     "iopub.status.busy": "2024-11-20T17:17:06.030207Z",
     "iopub.status.idle": "2024-11-20T17:17:06.046448Z",
     "shell.execute_reply": "2024-11-20T17:17:06.043253Z",
     "shell.execute_reply.started": "2024-11-20T17:17:06.031240Z"
    }
   },
   "outputs": [],
   "source": [
    "# Function to get a moon\n",
    "def get_moon_cm(density_3d, density, dx):\n",
    "    \"\"\"\n",
    "    Compute the mass of a moon within the whole domain.\n",
    "    \"\"\"\n",
    "    # Get a moon by removing the other two\n",
    "    moon = np.where(density_3d != density, 0, density_3d)\n",
    "        \n",
    "    # Calculate the center of mass array\n",
    "    cm_array = get_cm(moon)\n",
    "\n",
    "    return cm_array"
   ]
  },
  {
   "cell_type": "code",
   "execution_count": 18,
   "id": "fba9af30-c78c-467d-b74c-cdf441f1a7c7",
   "metadata": {
    "execution": {
     "iopub.execute_input": "2024-11-20T17:17:06.050488Z",
     "iopub.status.busy": "2024-11-20T17:17:06.049584Z",
     "iopub.status.idle": "2024-11-20T17:17:12.302690Z",
     "shell.execute_reply": "2024-11-20T17:17:12.301200Z",
     "shell.execute_reply.started": "2024-11-20T17:17:06.050418Z"
    }
   },
   "outputs": [],
   "source": [
    "# Get the individual center of masses\n",
    "cm_1 = get_moon_cm(density_3d = rho_3d, density = np.unique(rho_3d)[-1], dx = dx)\n",
    "cm_2 = get_moon_cm(density_3d = rho_3d, density = np.unique(rho_3d)[-2], dx = dx)\n",
    "cm_3 = get_moon_cm(density_3d = rho_3d, density = np.unique(rho_3d)[-3], dx = dx)"
   ]
  },
  {
   "cell_type": "code",
   "execution_count": 19,
   "id": "2d8a02ee-46ca-4116-ab40-9bc698c1d97f",
   "metadata": {
    "execution": {
     "iopub.execute_input": "2024-11-20T17:17:12.304860Z",
     "iopub.status.busy": "2024-11-20T17:17:12.304256Z",
     "iopub.status.idle": "2024-11-20T17:17:13.801849Z",
     "shell.execute_reply": "2024-11-20T17:17:13.800169Z",
     "shell.execute_reply.started": "2024-11-20T17:17:12.304815Z"
    }
   },
   "outputs": [
    {
     "data": {
      "image/png": "[encoded data removed]",
      "text/plain": [
       "<Figure size 500x500 with 2 Axes>"
      ]
     },
     "metadata": {},
     "output_type": "display_data"
    }
   ],
   "source": [
    "# Plot along with the column density\n",
    "plt.figure(figsize = (5,5))\n",
    "plot = plt.pcolor(x_2d, y_2d, column_density_2d,\n",
    "                  cmap = 'magma_r', shading = 'auto')\n",
    "plt.colorbar(plot, shrink = 0.80, label = '2D column density [$kg/km^2$]')\n",
    "\n",
    "plt.title('2D Column density')\n",
    "plt.xlabel('x')\n",
    "plt.ylabel('y')\n",
    "\n",
    "plt.gca().set_aspect('equal')\n",
    "plt.show()\n",
    "plt.close()"
   ]
  },
  {
   "cell_type": "code",
   "execution_count": 20,
   "id": "a61370b6-98f3-4afd-8e96-cfd379a1ad41",
   "metadata": {
    "execution": {
     "iopub.execute_input": "2024-11-20T17:17:13.804770Z",
     "iopub.status.busy": "2024-11-20T17:17:13.804029Z",
     "iopub.status.idle": "2024-11-20T17:17:13.812619Z",
     "shell.execute_reply": "2024-11-20T17:17:13.810764Z",
     "shell.execute_reply.started": "2024-11-20T17:17:13.804695Z"
    }
   },
   "outputs": [],
   "source": [
    "# For distance, define\n",
    "d = lambda x, y: np.linalg.norm(x - y)"
   ]
  },
  {
   "cell_type": "code",
   "execution_count": 21,
   "id": "d27775f7-f627-4f92-ae69-5032dc5d8979",
   "metadata": {
    "execution": {
     "iopub.execute_input": "2024-11-20T17:17:13.823482Z",
     "iopub.status.busy": "2024-11-20T17:17:13.822272Z",
     "iopub.status.idle": "2024-11-20T17:17:13.887555Z",
     "shell.execute_reply": "2024-11-20T17:17:13.885673Z",
     "shell.execute_reply.started": "2024-11-20T17:17:13.823422Z"
    }
   },
   "outputs": [
    {
     "name": "stdout",
     "output_type": "stream",
     "text": [
      "Moon 1: 69.9\n",
      "Moon 2: 54.0\n",
      "Moon 3: 75.7\n"
     ]
    }
   ],
   "source": [
    "# Print!\n",
    "print(f'Moon 1: {d(cm_1, cm_all_moons):.3}')\n",
    "print(f'Moon 2: {d(cm_2, cm_all_moons):.3}')\n",
    "print(f'Moon 3: {d(cm_3, cm_all_moons):.3}')"
   ]
  },
  {
   "cell_type": "markdown",
   "id": "8a85d8e4-3c00-482a-99f8-d0ec5c89db85",
   "metadata": {},
   "source": [
    "What if we remove the largest and lowest density moon from the system (Moon 3)?"
   ]
  },
  {
   "cell_type": "markdown",
   "id": "d4e22f65-80a5-4582-847a-6250e162e310",
   "metadata": {},
   "source": [
    "### (e) Given the radii of each moon in pixels: $r_1 = 10\\, \\rm pix$, $r_2 = 20\\, \\rm pix$ and $r_3 = 28\\, \\rm pix$, calculate the mass of each moon *analytically* via integration. Compare results!"
   ]
  },
  {
   "attachments": {},
   "cell_type": "markdown",
   "id": "d99e3d31-03fb-45d1-a70f-97a92fda2e97",
   "metadata": {},
   "source": [
    "The mass can be obtained with\n",
    "$$\n",
    "m = \\int_V \\rho \\,dV \\,\\text{, where}\\,\\,\\, dV = r^{2} \\sin \\theta \\,dr\\, d\\theta \\,d\\phi.\n",
    "$$\n",
    "Since $\\rho$ is constant, the integral to do is\n",
    "$$\n",
    "m = \\rho \\int_0^{2\\pi}\\int_0^{\\pi}\\int_0^{R} r^{2} \\sin \\theta \\,dr\\, d\\theta \\,d\\phi\n",
    "$$\n",
    "To practice, we'll solve the integral with `sympy`. \n",
    "\n",
    "---\n",
    "The steps to follow are always the same:\n",
    "\n",
    "1. Define the symbols (variables). Like this:\n",
    "\n",
    "```python\n",
    "x, y = sp.symbols('x y')\n",
    "```\n",
    "\n",
    "2. Define the expression with `sympy` functions only. For example:\n",
    "\n",
    "```python\n",
    "z = 21 * sp.sin(x) + 5 * sp.cos(y)\n",
    "```\n",
    "\n",
    "3. Now we can use any function the library provides. The following finds the Taylor expansion of $z$ around $y=2$ up to $10$ terms:\n",
    "\n",
    "```python\n",
    "taylor_expansion = z.series(y, 2, 10).removeO() # removeO() removes the remainder O-term\n",
    "```\n",
    "\n",
    "If you later want to evaluate the expression, I recommend doing something like\n",
    "\n",
    "```python\n",
    "# Get an evaluable function\n",
    "taylor_function = sp.lambdify((x, y), taylor_expansion, 'numpy')\n",
    "\n",
    "# And simply evaluate\n",
    "z_0 = taylor_function(x = np.pi, y = 31)\n",
    "```\n",
    "That's it :).\n",
    "\n",
    "---"
   ]
  },
  {
   "cell_type": "code",
   "execution_count": 22,
   "id": "25e6719a-d8a8-4b35-8de8-2f908cb73311",
   "metadata": {
    "execution": {
     "iopub.execute_input": "2024-11-20T17:17:13.890891Z",
     "iopub.status.busy": "2024-11-20T17:17:13.890255Z",
     "iopub.status.idle": "2024-11-20T17:17:13.985788Z",
     "shell.execute_reply": "2024-11-20T17:17:13.983279Z",
     "shell.execute_reply.started": "2024-11-20T17:17:13.890834Z"
    }
   },
   "outputs": [],
   "source": [
    "# Coming back, define our variables\n",
    "r, R, theta, phi, rho = sp.symbols('r R theta phi rho')"
   ]
  },
  {
   "cell_type": "code",
   "execution_count": 23,
   "id": "1b99858f-ec6d-486d-a412-a86013ee79e0",
   "metadata": {
    "execution": {
     "iopub.execute_input": "2024-11-20T17:17:13.988606Z",
     "iopub.status.busy": "2024-11-20T17:17:13.987665Z",
     "iopub.status.idle": "2024-11-20T17:17:14.087361Z",
     "shell.execute_reply": "2024-11-20T17:17:14.085589Z",
     "shell.execute_reply.started": "2024-11-20T17:17:13.988539Z"
    }
   },
   "outputs": [],
   "source": [
    "# Define the integrand (volume element in spherical coordinates)\n",
    "integrand = rho * r**2 * sp.sin(theta)"
   ]
  },
  {
   "cell_type": "code",
   "execution_count": 24,
   "id": "7b76cd43-e230-4605-a24c-340dbb4ff42f",
   "metadata": {
    "execution": {
     "iopub.execute_input": "2024-11-20T17:17:14.091180Z",
     "iopub.status.busy": "2024-11-20T17:17:14.089842Z",
     "iopub.status.idle": "2024-11-20T17:17:15.554431Z",
     "shell.execute_reply": "2024-11-20T17:17:15.551774Z",
     "shell.execute_reply.started": "2024-11-20T17:17:14.091118Z"
    }
   },
   "outputs": [
    {
     "data": {
      "text/latex": [
       "$\\displaystyle \\frac{4 \\pi R^{3} \\rho}{3}$"
      ],
      "text/plain": [
       "4*pi*R**3*rho/3"
      ]
     },
     "execution_count": 24,
     "metadata": {},
     "output_type": "execute_result"
    }
   ],
   "source": [
    "# Integral over r\n",
    "integral_1 = sp.integrate(integrand, (r, 0, R))\n",
    "\n",
    "# Integral over theta\n",
    "integral_2 = sp.integrate(integral_1, (theta, 0, sp.pi))\n",
    "\n",
    "# Final integral over phi\n",
    "mass_expression = sp.integrate(integral_2, (phi, 0, 2*sp.pi))\n",
    "\n",
    "# See\n",
    "mass_expression"
   ]
  },
  {
   "cell_type": "code",
   "execution_count": 25,
   "id": "d532ad44-d2da-4488-9bd2-3ab3fd77ffa1",
   "metadata": {
    "execution": {
     "iopub.execute_input": "2024-11-20T17:17:15.559483Z",
     "iopub.status.busy": "2024-11-20T17:17:15.558507Z",
     "iopub.status.idle": "2024-11-20T17:17:15.593061Z",
     "shell.execute_reply": "2024-11-20T17:17:15.591102Z",
     "shell.execute_reply.started": "2024-11-20T17:17:15.559417Z"
    }
   },
   "outputs": [],
   "source": [
    "# Since we want to evaluate it\n",
    "mass_function = sp.lambdify((R, rho), mass_expression, 'numpy')"
   ]
  },
  {
   "cell_type": "code",
   "execution_count": 26,
   "id": "b2e659ab-f62c-4be5-b40b-80b23c58460c",
   "metadata": {
    "execution": {
     "iopub.execute_input": "2024-11-20T17:17:15.596636Z",
     "iopub.status.busy": "2024-11-20T17:17:15.595715Z",
     "iopub.status.idle": "2024-11-20T17:17:20.223843Z",
     "shell.execute_reply": "2024-11-20T17:17:20.222091Z",
     "shell.execute_reply.started": "2024-11-20T17:17:15.596547Z"
    }
   },
   "outputs": [],
   "source": [
    "# Evaluate for each moon\n",
    "mass_1_sympy = mass_function(R = 10, rho = np.unique(rho_3d)[-1])\n",
    "mass_2_sympy = mass_function(R = 20, rho = np.unique(rho_3d)[-2])\n",
    "mass_3_sympy = mass_function(R = 28, rho = np.unique(rho_3d)[-3])"
   ]
  },
  {
   "cell_type": "code",
   "execution_count": 27,
   "id": "3f12e0e3-5baf-44b8-8d51-8fe14c4fd9eb",
   "metadata": {
    "execution": {
     "iopub.execute_input": "2024-11-20T17:17:20.226481Z",
     "iopub.status.busy": "2024-11-20T17:17:20.225884Z",
     "iopub.status.idle": "2024-11-20T17:17:20.236485Z",
     "shell.execute_reply": "2024-11-20T17:17:20.234742Z",
     "shell.execute_reply.started": "2024-11-20T17:17:20.226430Z"
    }
   },
   "outputs": [
    {
     "name": "stdout",
     "output_type": "stream",
     "text": [
      "The ratios between analytical and numerical calculated masses are:\n",
      "\n",
      "Moon 1: 1.005.\n",
      "Moon 2: 1.003.\n",
      "Moon 3: 0.9999.\n"
     ]
    }
   ],
   "source": [
    "# Print comparison (ratio)\n",
    "print('The ratios between analytical and numerical calculated masses are:')\n",
    "print()\n",
    "print(f'Moon 1: {mass_1_sympy/mass_1:.4}.')\n",
    "print(f'Moon 2: {mass_2_sympy/mass_2:.4}.')\n",
    "print(f'Moon 3: {mass_3_sympy/mass_3:.4}.')"
   ]
  },
  {
   "cell_type": "markdown",
   "id": "97f7ca67-daa8-481e-8724-f7dcbd44b45c",
   "metadata": {},
   "source": [
    "## Appendix: Spheres (moons) and VTK generation\n",
    "You might take a quick look. "
   ]
  },
  {
   "cell_type": "markdown",
   "id": "7442a97b-995a-436c-9c84-dfab19af3aee",
   "metadata": {},
   "source": [
    "### Spheres"
   ]
  },
  {
   "cell_type": "code",
   "execution_count": 28,
   "id": "3f5b2f11-9bc9-4b8d-90e0-82fdb2551d11",
   "metadata": {
    "execution": {
     "iopub.execute_input": "2024-11-20T17:17:20.238774Z",
     "iopub.status.busy": "2024-11-20T17:17:20.238239Z",
     "iopub.status.idle": "2024-11-20T17:17:20.349239Z",
     "shell.execute_reply": "2024-11-20T17:17:20.347517Z",
     "shell.execute_reply.started": "2024-11-20T17:17:20.238728Z"
    }
   },
   "outputs": [],
   "source": [
    "# Little function\n",
    "def get_sphere(size, radius, interval):\n",
    "    \"\"\"\n",
    "    It creates a 3D cube containing a sphere.\n",
    "    \n",
    "    Parameters\n",
    "    ----------\n",
    "    size : int, required\n",
    "        Size of the 3D cube domain.\n",
    "    radius : int, required\n",
    "        Radius of the sphere. Should be =< size//2.\n",
    "    interval : list, float, required\n",
    "        Two-element list which defines the interval\n",
    "        of values inside the sphere.\n",
    "\n",
    "    Returns\n",
    "    -------\n",
    "    sphere : array\n",
    "        3D cube with a sphere inside it.\n",
    "    \"\"\"\n",
    "    # Create coordinates arrays (similar to np.meshgrid)\n",
    "    x, y, z = np.ogrid[:size, :size, :size]\n",
    "    \n",
    "    # Get the center point\n",
    "    center = size / 2\n",
    "    \n",
    "    # Calculate distance from center for each point\n",
    "    distance = np.sqrt((x - center)**2 + (y - center)**2 + (z - center)**2)\n",
    "    \n",
    "    # Create the sphere mask defined with the radius (it's a condition!)\n",
    "    sphere_mask = distance <= radius\n",
    "    \n",
    "    # Create the domain where the sphere is going to be\n",
    "    sphere = np.zeros((size, size, size))\n",
    "\n",
    "    # Count the number of points to be filled\n",
    "    points = np.sum(sphere_mask)\n",
    "    \n",
    "    # Fill the sphere with random values in the specified interval\n",
    "    sphere[sphere_mask] = np.random.uniform(interval[0], interval[1], size = points)\n",
    "    \n",
    "    return sphere"
   ]
  },
  {
   "cell_type": "code",
   "execution_count": 29,
   "id": "98c3df90-e167-4255-a276-adc7015ff195",
   "metadata": {
    "execution": {
     "iopub.execute_input": "2024-11-20T17:17:20.352766Z",
     "iopub.status.busy": "2024-11-20T17:17:20.351361Z",
     "iopub.status.idle": "2024-11-20T17:17:20.438608Z",
     "shell.execute_reply": "2024-11-20T17:17:20.436651Z",
     "shell.execute_reply.started": "2024-11-20T17:17:20.352708Z"
    }
   },
   "outputs": [],
   "source": [
    "# Get 3 spheres with fixed density (interval[0] = interval[1])\n",
    "low_density_3d = get_sphere(size = 60, radius = 28, interval = [2, 2])\n",
    "med_density_3d = get_sphere(size = 50, radius = 20, interval = [6, 6])\n",
    "hig_density_3d = get_sphere(size = 26, radius = 10, interval = [70, 70])"
   ]
  },
  {
   "cell_type": "code",
   "execution_count": 30,
   "id": "88dec559-db42-485f-8731-32788cf69833",
   "metadata": {
    "execution": {
     "iopub.execute_input": "2024-11-20T17:17:20.441810Z",
     "iopub.status.busy": "2024-11-20T17:17:20.441007Z",
     "iopub.status.idle": "2024-11-20T17:17:20.541909Z",
     "shell.execute_reply": "2024-11-20T17:17:20.540353Z",
     "shell.execute_reply.started": "2024-11-20T17:17:20.441734Z"
    }
   },
   "outputs": [],
   "source": [
    "# Create a greater empty domain\n",
    "domain_3d = np.zeros((256, 256, 256))\n",
    "\n",
    "# And append each sphere in a different spot\n",
    "domain_3d[128 - 30:128 + 30, 150 - 30:150 + 30, 90 - 30:90 + 30] = low_density_3d\n",
    "domain_3d[100 - 25:100 + 25, 200 - 25:200 + 25, 140 - 25:140 + 25] = med_density_3d\n",
    "domain_3d[200 - 13:200 + 13, 200 - 13:200 + 13, 200 - 13:200 + 13] = hig_density_3d"
   ]
  },
  {
   "cell_type": "markdown",
   "id": "f6b3ba26-dd00-4ab8-9181-43f9890a8daf",
   "metadata": {},
   "source": [
    "#### Projection\n",
    "To see the result, we'll get a projection by adding matrices along some direction."
   ]
  },
  {
   "cell_type": "code",
   "execution_count": 31,
   "id": "881b5024-360a-429e-b58c-e3588baa42f9",
   "metadata": {
    "execution": {
     "iopub.execute_input": "2024-11-20T17:17:20.543862Z",
     "iopub.status.busy": "2024-11-20T17:17:20.543261Z",
     "iopub.status.idle": "2024-11-20T17:17:20.666259Z",
     "shell.execute_reply": "2024-11-20T17:17:20.664935Z",
     "shell.execute_reply.started": "2024-11-20T17:17:20.543795Z"
    }
   },
   "outputs": [],
   "source": [
    "# Get it with\n",
    "projection_2d = np.sum(domain_3d, axis = 0)"
   ]
  },
  {
   "cell_type": "code",
   "execution_count": 32,
   "id": "444bbf44-6f25-4217-8221-09f5b5e1247d",
   "metadata": {
    "execution": {
     "iopub.execute_input": "2024-11-20T17:17:20.669058Z",
     "iopub.status.busy": "2024-11-20T17:17:20.668409Z",
     "iopub.status.idle": "2024-11-20T17:17:21.171111Z",
     "shell.execute_reply": "2024-11-20T17:17:21.169794Z",
     "shell.execute_reply.started": "2024-11-20T17:17:20.668999Z"
    }
   },
   "outputs": [
    {
     "data": {
      "image/png": "[encoded data removed]",
      "text/plain": [
       "<Figure size 600x600 with 2 Axes>"
      ]
     },
     "metadata": {},
     "output_type": "display_data"
    }
   ],
   "source": [
    "# Plot it!\n",
    "plt.figure(figsize = (6, 6))\n",
    "\n",
    "plot = plt.imshow(projection_2d, cmap = \"Greys_r\")\n",
    "plt.colorbar(plot, label = 'Column density', shrink = 0.8)\n",
    "\n",
    "plt.title('Projection by adding')\n",
    "plt.xlabel('x [pixel]')\n",
    "plt.ylabel('y [pixel]')\n",
    "\n",
    "plt.gca().set_aspect('equal')\n",
    "plt.show()\n",
    "plt.close()"
   ]
  },
  {
   "cell_type": "markdown",
   "id": "7b190e74-ceda-4b0a-a0ed-2a8e38378c2b",
   "metadata": {},
   "source": [
    "They look like little moons :)."
   ]
  },
  {
   "cell_type": "markdown",
   "id": "9bf72af8-67d5-46ea-8a3e-3d9b29d5f83d",
   "metadata": {},
   "source": [
    "### VTK generation"
   ]
  },
  {
   "cell_type": "code",
   "execution_count": 33,
   "id": "10d4c79d-f2e8-464d-a57e-0a0edc52bf66",
   "metadata": {
    "execution": {
     "iopub.execute_input": "2024-11-20T17:17:21.173329Z",
     "iopub.status.busy": "2024-11-20T17:17:21.172763Z",
     "iopub.status.idle": "2024-11-20T17:17:21.185356Z",
     "shell.execute_reply": "2024-11-20T17:17:21.183539Z",
     "shell.execute_reply.started": "2024-11-20T17:17:21.173283Z"
    }
   },
   "outputs": [],
   "source": [
    "# Library\n",
    "from pyevtk.hl import gridToVTK"
   ]
  },
  {
   "cell_type": "code",
   "execution_count": 34,
   "id": "e1c86738-d04a-484d-b014-25a1fbe9eba0",
   "metadata": {
    "execution": {
     "iopub.execute_input": "2024-11-20T17:17:21.187731Z",
     "iopub.status.busy": "2024-11-20T17:17:21.187194Z",
     "iopub.status.idle": "2024-11-20T17:17:27.446846Z",
     "shell.execute_reply": "2024-11-20T17:17:27.444126Z",
     "shell.execute_reply.started": "2024-11-20T17:17:21.187683Z"
    }
   },
   "outputs": [
    {
     "data": {
      "text/plain": [
       "'/home/whyyorlantaken/Documents/Yachay-Tech/Physics/05-Tutorials-Comp-Phys-I/Data/moons.vtr'"
      ]
     },
     "execution_count": 34,
     "metadata": {},
     "output_type": "execute_result"
    }
   ],
   "source": [
    "# Define the coordinates (Notice the + 1 in shape!)\n",
    "x = np.linspace(0, domain_3d.shape[0], domain_3d.shape[0] + 1)\n",
    "y = np.linspace(0, domain_3d.shape[1], domain_3d.shape[1] + 1)\n",
    "z = np.linspace(0, domain_3d.shape[2], domain_3d.shape[2] + 1)\n",
    "\n",
    "# And export it\n",
    "gridToVTK(path = './Data/moons', x = x, y = y, z = z, cellData = {'density': domain_3d})"
   ]
  }
 ],
 "metadata": {
  "kernelspec": {
   "display_name": "Python 3 (ipykernel)",
   "language": "python",
   "name": "python3"
  },
  "language_info": {
   "codemirror_mode": {
    "name": "ipython",
    "version": 3
   },
   "file_extension": ".py",
   "mimetype": "text/x-python",
   "name": "python",
   "nbconvert_exporter": "python",
   "pygments_lexer": "ipython3",
   "version": "3.12.3"
  }
 },
 "nbformat": 4,
 "nbformat_minor": 5
}
