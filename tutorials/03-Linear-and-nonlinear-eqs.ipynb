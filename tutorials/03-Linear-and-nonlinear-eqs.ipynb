{
 "cells": [
  {
   "cell_type": "markdown",
   "id": "608619fe-e8cb-45eb-8827-a7d2e725c838",
   "metadata": {},
   "source": [
    "# Tutorial 3: Linear and nonlinear equations"
   ]
  },
  {
   "cell_type": "markdown",
   "id": "1f5cf57d-e0d0-447d-a1ce-058848254ba1",
   "metadata": {},
   "source": [
    "## 1. Linear equations: Gauss-Seidel implementation to find missing data!"
   ]
  },
  {
   "cell_type": "markdown",
   "id": "5eeca495-0691-4018-ba90-0a6d94b4fc9b",
   "metadata": {},
   "source": [
    "Linear equations are everywhere. \n",
    "\n",
    "In this exercise, we'll make use of the Gauss-Seidel method to find missing coefficients of a matrix, and we'll check our results graphically."
   ]
  },
  {
   "cell_type": "markdown",
   "id": "eea5c330-22b7-4512-a3fc-0a6c36be0f87",
   "metadata": {},
   "source": [
    "### Problem"
   ]
  },
  {
   "cell_type": "markdown",
   "id": "df5ee464-58f8-47b0-b3e8-fd269a4b345d",
   "metadata": {},
   "source": [
    "Consider the following $5\\times5$ matrix with $4$ missing terms ($M_{21}, M_{22}, M_{31}, M_{32}$):\n",
    "$$ M = \\begin{bmatrix}\n",
    "10 & 20 & 30 & 40 & 50 \\\\\n",
    "20 & 30 & 40 & 50 & 60 \\\\\n",
    "30 & ? & ? & 60 & 70 \\\\\n",
    "40 & ? & ? & 70 & 80 \\\\\n",
    "50 & 60 & 70 & 80 & 90\n",
    "\\end{bmatrix}.\n",
    "$$\n",
    "Indexing starts from $0$. Now, how do we find them? \n",
    "\n",
    "To estimate the missing pixels values, we can use the **average of its neighboring pixels** as an approximate value. By doing that for each of them, we find the following $4$ linear equations:\n",
    "$$ M_{21} = \\frac{60+M_{22}+M_{31}}{4} $$\n",
    "$$ M_{22} = \\frac{100+M_{21}+M_{32}}{4} $$\n",
    "$$ M_{31} = \\frac{100+M_{21}+M_{32}}{4} $$\n",
    "$$ M_{32} = \\frac{140+M_{22}+M_{31}}{4}. $$\n",
    "And this is a perfect scenario to use the Gauss-Seidel method to get estimates of them! :)"
   ]
  },
  {
   "cell_type": "markdown",
   "id": "bceb4ad4-6b63-4d95-8f26-3cc8a7cf8e10",
   "metadata": {},
   "source": [
    "### Solution"
   ]
  },
  {
   "cell_type": "markdown",
   "id": "b3a1badf-5319-4022-9bc8-26dcc84166d1",
   "metadata": {},
   "source": [
    "#### Matrix with missing coefficients"
   ]
  },
  {
   "cell_type": "code",
   "execution_count": 1,
   "id": "5ab58e23-ccd1-4328-b23f-c4ab871f1170",
   "metadata": {},
   "outputs": [],
   "source": [
    "# Import the libraries\n",
    "import numpy as np\n",
    "import matplotlib.pyplot as plt"
   ]
  },
  {
   "cell_type": "code",
   "execution_count": 2,
   "id": "cec4007b-5478-4bcb-9338-aecc997b6eb9",
   "metadata": {},
   "outputs": [],
   "source": [
    "# Define the original matrix as\n",
    "incomplete_matrix = np.array([\n",
    "    [10, 20, 30, 40, 50],\n",
    "    [20, 30, 40, 50, 60],\n",
    "    [30, np.nan, np.nan, 60, 70],\n",
    "    [40, np.nan, np.nan, 70, 80],\n",
    "    [50, 60, 70, 80, 90]\n",
    "])"
   ]
  },
  {
   "cell_type": "code",
   "execution_count": 3,
   "id": "bd663f73-0fc9-447c-8d97-6f65ad24abe6",
   "metadata": {},
   "outputs": [
    {
     "data": {
      "image/png": "[encoded data removed]",
      "text/plain": [
       "<Figure size 500x500 with 2 Axes>"
      ]
     },
     "metadata": {},
     "output_type": "display_data"
    }
   ],
   "source": [
    "# And let's see it\n",
    "plt.figure(figsize=(5,5))\n",
    "plt.imshow(incomplete_matrix, cmap = 'Blues')\n",
    "plt.colorbar()\n",
    "plt.title('Matrix with missing elements')\n",
    "plt.xlabel('x [pixel]')\n",
    "plt.ylabel('y [pixel]')\n",
    "plt.show()"
   ]
  },
  {
   "cell_type": "markdown",
   "id": "38b3d7ab-f71c-4717-906c-afb364eff0fb",
   "metadata": {},
   "source": [
    "#### Gauss-Seidel method\n",
    "Here we construct a function that adresses the problem."
   ]
  },
  {
   "cell_type": "code",
   "execution_count": 4,
   "id": "b03f2e0b-02de-41f0-8293-19900d89111f",
   "metadata": {},
   "outputs": [],
   "source": [
    "def get_missing_data(tolerance, m_guesses, max_iterations):\n",
    "    \"\"\"\n",
    "    Obtains missing coefficients by using their neighbours. \n",
    "    Inputs: tolerance (float): parameter to determine convergence.\n",
    "            m_guesses (array, float): array with initial guesses.\n",
    "            max_iterations (int): maximum number of allowed iterations.\n",
    "            \n",
    "    Outputs: m_iterated (array, float): array containing final results.\n",
    "    \"\"\"\n",
    "    # Initialize the convergence value to False\n",
    "    convergence = False\n",
    "    \n",
    "    # Loop:\n",
    "    for i in range(max_iterations):\n",
    "\n",
    "        # Assign each missing element a more suggestive name\n",
    "        m_21 = m_guesses[0]\n",
    "        m_22 = m_guesses[1]\n",
    "        m_31 = m_guesses[2]\n",
    "        m_32 = m_guesses[3]\n",
    "            \n",
    "        # Define the equations for each (avg)\n",
    "        m_21 = (60  + m_22 + m_31)/4\n",
    "        m_22 = (100 + m_21 + m_32)/4\n",
    "        m_31 = (100 + m_21 + m_32)/4\n",
    "        m_32 = (140 + m_22 + m_31)/4\n",
    "\n",
    "        # Store the new values\n",
    "        m_iterated = np.array([m_21, m_22, m_31, m_32])\n",
    "\n",
    "        # Check if the tolerance level has been reached\n",
    "        difference = np.sqrt(np.dot(m_iterated - m_guesses, m_iterated - m_guesses))\n",
    "\n",
    "        if difference < tolerance:\n",
    "            convergence = True\n",
    "            break\n",
    "\n",
    "        # Assign the latest obtained values to be the new guesses\n",
    "        m_guesses = m_iterated\n",
    "        \n",
    "    # If tolerance level was not achieved, tell to increase the number of max iterations\n",
    "    if not convergence:\n",
    "        print('Process did not converge :(. Try increasing the number of maximum iterations.')\n",
    "\n",
    "    return m_iterated"
   ]
  },
  {
   "cell_type": "code",
   "execution_count": 5,
   "id": "a6d0650f-a7aa-40ab-b763-6639f72e36ac",
   "metadata": {},
   "outputs": [],
   "source": [
    "# Tolerance\n",
    "tolerance = 1e-8\n",
    "\n",
    "# Initial guesses\n",
    "m_21 = 30\n",
    "m_22 = 40\n",
    "m_31 = 30\n",
    "m_32 = -75\n",
    "\n",
    "m_array = np.array([m_21, m_22, m_31, m_32]) "
   ]
  },
  {
   "cell_type": "code",
   "execution_count": 6,
   "id": "9b78c208-82a8-461f-8164-ceffb671446e",
   "metadata": {},
   "outputs": [],
   "source": [
    "missing_elements= get_missing_data(tolerance, m_array, max_iterations = 50)"
   ]
  },
  {
   "cell_type": "markdown",
   "id": "16f70d15-f126-41c8-b59e-15711472feab",
   "metadata": {},
   "source": [
    "#### Matrix with the found coefficients\n",
    "Let's check if they values are correct."
   ]
  },
  {
   "cell_type": "code",
   "execution_count": 7,
   "id": "2b07983d-df57-4191-9958-becd0fefb29b",
   "metadata": {},
   "outputs": [],
   "source": [
    "# Relabel each\n",
    "m_21 = missing_elements[0]\n",
    "m_22 = missing_elements[1]\n",
    "m_31 = missing_elements[2]\n",
    "m_32 = missing_elements[3]\n",
    "\n",
    "# And plug them into the matrix!\n",
    "matrix = np.array([\n",
    "    [10, 20, 30, 40, 50],\n",
    "    [20, 30, 40, 50, 60],\n",
    "    [30, m_21, m_22, 60, 70],\n",
    "    [40, m_31, m_32, 70, 80],\n",
    "    [50, 60, 70, 80, 90]\n",
    "])"
   ]
  },
  {
   "cell_type": "code",
   "execution_count": 8,
   "id": "0f415206-2da4-4a6d-b9d5-09c1ca8044a4",
   "metadata": {},
   "outputs": [
    {
     "data": {
      "image/png": "[encoded data removed]",
      "text/plain": [
       "<Figure size 500x500 with 2 Axes>"
      ]
     },
     "metadata": {},
     "output_type": "display_data"
    }
   ],
   "source": [
    "# Finally plot\n",
    "plt.figure(figsize=(5,5))\n",
    "plt.imshow(matrix, cmap = 'Blues')\n",
    "plt.colorbar()\n",
    "plt.title('Matrix with found coefficients')\n",
    "plt.xlabel('x [pixel]')\n",
    "plt.ylabel('y [pixel]')\n",
    "plt.show()"
   ]
  },
  {
   "cell_type": "markdown",
   "id": "0af9905b-c436-4fb2-b81f-dd4c6b17be54",
   "metadata": {},
   "source": [
    "The result is perfect!"
   ]
  },
  {
   "cell_type": "markdown",
   "id": "f6fbdf40-dafb-4595-bea5-5f72e7718007",
   "metadata": {},
   "source": [
    "## 2. Nonlinear equations: Points of possible collision with Bennu!"
   ]
  },
  {
   "cell_type": "markdown",
   "id": "5425233f-4d19-43d7-9bf3-52e33db32ed2",
   "metadata": {},
   "source": [
    "Bennu is an asteroid that was discovered in $1999$ by LINEAR Project. It also orbits the sun, and there's a small chance (there is!) of collision with Earth in the years $2135$ and $2182$. Here, we're going to find the points of intersection of the orbits."
   ]
  },
  {
   "cell_type": "markdown",
   "id": "4f933666-a843-42ce-ae21-bbd94030314a",
   "metadata": {},
   "source": [
    "### Problem"
   ]
  },
  {
   "cell_type": "markdown",
   "id": "66bf5b26-2685-4440-a5bd-d3926a54a6b4",
   "metadata": {},
   "source": [
    "Given the eccentricity of Bennu's orbit, $e = 0.204$, and the semi-major axis, $a = 1.13\\,\\text{au}$: \n",
    "\n",
    "(a) Find the expression for the asteroid's orbit.\n",
    "\n",
    "(b) Find the points of intersection with Earth's orbit (assume it's circular).\n",
    "\n",
    "(c) Make a plot with the Sun at the center, the two orbits around it and also indicate the points of intersection."
   ]
  },
  {
   "cell_type": "markdown",
   "id": "d0969251-4d33-4b76-a1c3-ea9c78c7ed7b",
   "metadata": {},
   "source": [
    "### Solution"
   ]
  },
  {
   "cell_type": "markdown",
   "id": "dc14ae71-431a-4f38-a4bb-0922b20b37d0",
   "metadata": {},
   "source": [
    "#### (a) Find the elliptical expression for the asteroid."
   ]
  },
  {
   "cell_type": "markdown",
   "id": "869cfbdd-1c30-4cbb-a303-edf8ce8230d6",
   "metadata": {},
   "source": [
    "The expression for an ellipse with center $(h, k)$ is\n",
    "$$\n",
    "\\left(\\frac{x-h}{a}\\right)^{2}+\\left(\\frac{y-k}{b}\\right)^{2}=1,\n",
    "$$\n",
    "and the eccentricity allows us to get $b$ (semi-minor axis) as follows\n",
    "$$\n",
    "e = \\sqrt{1-\\frac{b^{2}}{a^{2}}} \\implies b = \\sqrt{a^{2}(1-e^{2})}.\n",
    "$$\n",
    "\n",
    "In principle, we need $b$, $h$ and $k$, but since Earth's orbit can be taken as a circle with respect to the sun, the expression for the asteroid can be reduced to\n",
    "$$\n",
    "\\left(\\frac{x-c}{a}\\right)^{2}+\\left(\\frac{y}{b}\\right)^{2}=1, \\text{ where } c = ae.\n",
    "$$\n",
    "\n",
    "Now, let's obtain them!"
   ]
  },
  {
   "cell_type": "code",
   "execution_count": 9,
   "id": "e08e7ede-0b71-4f9c-af0c-e74d621f83ca",
   "metadata": {},
   "outputs": [],
   "source": [
    "# Function for b\n",
    "def get_b(a, e):\n",
    "    return np.sqrt(a**2*(1-e**2))"
   ]
  },
  {
   "cell_type": "code",
   "execution_count": 10,
   "id": "b6f1839c-4e5c-47ad-86f0-d9a1afe99b72",
   "metadata": {},
   "outputs": [],
   "source": [
    "# Define parameters\n",
    "a = 1.13\n",
    "e = 0.204\n",
    "\n",
    "# And call the function\n",
    "b = get_b(a, e)"
   ]
  },
  {
   "cell_type": "code",
   "execution_count": 11,
   "id": "45aa7725-cb0c-4288-8b67-51436e73c964",
   "metadata": {},
   "outputs": [],
   "source": [
    "# Simply compute c \n",
    "c = a*e"
   ]
  },
  {
   "cell_type": "markdown",
   "id": "d7df2905-5258-48bc-b556-f77176265ccb",
   "metadata": {},
   "source": [
    "#### (b) Find the points of intersection with Earth's orbit (assume it's circular)."
   ]
  },
  {
   "cell_type": "markdown",
   "id": "ebd7556d-d7f6-4e58-b7a9-015803bff22f",
   "metadata": {
    "jp-MarkdownHeadingCollapsed": true
   },
   "source": [
    "We do not need to solve for $x$ and $y$ at the same time; we can just solve for one of them and then replace the result to get the other value. \n",
    "\n",
    "Since we'll solve for $x$, the equations are\n",
    "$$\n",
    "y_{\\text{E}} = \\sqrt{1-x^{2}}\n",
    "$$\n",
    "$$\n",
    "y_{\\text{B}} = b\\sqrt{1-\\left(\\frac{x-c}{a}\\right)^{2}}.\n",
    "$$"
   ]
  },
  {
   "cell_type": "code",
   "execution_count": 12,
   "id": "14d66d29-c283-4b10-a5d9-6a61f2d4f4ac",
   "metadata": {},
   "outputs": [],
   "source": [
    "# Libraries\n",
    "import sympy as sp\n",
    "from sympy.solvers import solve"
   ]
  },
  {
   "cell_type": "code",
   "execution_count": 13,
   "id": "37bc057f-21b5-4b26-a95f-61aff74637f4",
   "metadata": {},
   "outputs": [],
   "source": [
    "# Define symbols\n",
    "x = sp.symbols('x')"
   ]
  },
  {
   "cell_type": "code",
   "execution_count": 14,
   "id": "58db4623-df9f-4f72-bded-8a637e112e43",
   "metadata": {},
   "outputs": [],
   "source": [
    "# Define equations\n",
    "y_circle = sp.sqrt(1-x**2)\n",
    "y_ellipse = b*sp.sqrt(1-((x-c)/a)**2)"
   ]
  },
  {
   "cell_type": "code",
   "execution_count": 15,
   "id": "34585e5c-f26a-4529-a80b-1c29b7331386",
   "metadata": {},
   "outputs": [],
   "source": [
    "# And simply solve them\n",
    "solution_x = solve(y_circle - y_ellipse, x)\n",
    "x_int = float(solution_x[1])"
   ]
  },
  {
   "cell_type": "code",
   "execution_count": 16,
   "id": "1ee09474-408d-4fe1-8a18-3ece66544ce0",
   "metadata": {},
   "outputs": [],
   "source": [
    "# Now get the value in y\n",
    "y_int = np.sqrt(1-x_int**2)"
   ]
  },
  {
   "cell_type": "markdown",
   "id": "7bec947a-384c-4ace-a381-624779b10146",
   "metadata": {},
   "source": [
    "#### (c) Make a plot with the Sun at the center, the two orbits around it and also indicate the points of intersection.\n",
    "When having to plot, working with parametric equations is easier."
   ]
  },
  {
   "cell_type": "code",
   "execution_count": 17,
   "id": "4c2e44ab-fc36-4083-b752-f7a34f5592d2",
   "metadata": {},
   "outputs": [],
   "source": [
    "# Temporal array\n",
    "t_array = np.linspace(0, 2*np.pi, 1000)"
   ]
  },
  {
   "cell_type": "code",
   "execution_count": 18,
   "id": "e6cd16eb-cfe6-4b5a-ba2a-a8f84c9ba3cc",
   "metadata": {},
   "outputs": [],
   "source": [
    "# Feed the parametric equations\n",
    "# Bennu:\n",
    "x_bennu = a*np.cos(t_array) + c\n",
    "y_bennu = b*np.sin(t_array)\n",
    "\n",
    "# Earth:\n",
    "x_earth = np.cos(t_array)\n",
    "y_earth = np.sin(t_array)"
   ]
  },
  {
   "cell_type": "code",
   "execution_count": 19,
   "id": "a2a0b27c-9469-4ef2-9dba-12a44a0b338f",
   "metadata": {},
   "outputs": [
    {
     "data": {
      "image/png": "[encoded data removed]",
      "text/plain": [
       "<Figure size 500x500 with 1 Axes>"
      ]
     },
     "metadata": {},
     "output_type": "display_data"
    }
   ],
   "source": [
    "# Plotting\n",
    "plt.figure(figsize=(5, 5))\n",
    "\n",
    "plt.plot(0, 0, 'o', color='#FFD700', markersize=12, label='Sun')\n",
    "plt.plot(x_earth, y_earth, label = 'Earth', color='#FF00FF')\n",
    "plt.plot(x_bennu, y_bennu, label='Bennu', color='#00FFFF', linestyle = '--')\n",
    "\n",
    "plt.gca().set_aspect('equal', adjustable='box')\n",
    "\n",
    "plt.title(r'$Intersections\\, of\\, orbits$')\n",
    "plt.xlabel(r'$Distance\\, [au]$')\n",
    "plt.ylabel(r'$Distance\\, [au]$')\n",
    "\n",
    "plt.grid()\n",
    "plt.show()"
   ]
  }
 ],
 "metadata": {
  "kernelspec": {
   "display_name": "Python 3 (ipykernel)",
   "language": "python",
   "name": "python3"
  },
  "language_info": {
   "codemirror_mode": {
    "name": "ipython",
    "version": 3
   },
   "file_extension": ".py",
   "mimetype": "text/x-python",
   "name": "python",
   "nbconvert_exporter": "python",
   "pygments_lexer": "ipython3",
   "version": "3.12.3"
  }
 },
 "nbformat": 4,
 "nbformat_minor": 5
}
