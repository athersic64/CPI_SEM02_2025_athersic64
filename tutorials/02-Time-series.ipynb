{
 "cells": [
  {
   "cell_type": "markdown",
   "id": "3c6ba83f-8908-46f7-9b18-68c7e0e00aa6",
   "metadata": {},
   "source": [
    "# Tutorial 2: Time series"
   ]
  },
  {
   "cell_type": "markdown",
   "id": "9f862d16-d7b2-4ced-b476-34bf62683dfe",
   "metadata": {},
   "source": [
    "## Data I/O and analysis\n",
    "Read, display and analize book data. \n",
    "\n",
    "The data file for the exercise was obtained in http://ourworldindata.com. \n",
    "\n",
    "It is available at https://github.com/wbandabarragan/physics-teaching-data/blob/main/1D-data/new-books-per-million.csv.\n",
    "\n",
    "### Activities to do:\n",
    "\n",
    "Write Python functions that: \n",
    "\n",
    "(a) Read in the **new-books-per-million.csv** file, and place the data into a pandas dataframe. Inspect the data tables to check how they are organised.\n",
    "\n",
    "\n",
    "(b) Create 3 new data objects (time series) that contain only the information (rows) for the 3 countries with most entries.\n",
    "\n",
    "\n",
    "(c) Inspect the data, compare the time ranges (in years), and adjust the data series (if necessary) so that each object/series contains information for the same number of years.\n",
    "\n",
    "\n",
    "(d) Calculate the average and standard deviation of the annual number of books per million people of these 3 countries. Create and export (in CSV format) a new pandas data frame that contains 6 columns:\n",
    "\n",
    "- Year\n",
    "\n",
    "- Books per million people in each (three different arrays)\n",
    "\n",
    "- Average of books (of these 3 countries)\n",
    "\n",
    "- Standard deviation of books (of these 3 countries)"
   ]
  },
  {
   "cell_type": "markdown",
   "id": "f81cace8-156e-4546-810b-eb3ecd9fb791",
   "metadata": {},
   "source": [
    "### (a) Read in the **new-books-per-million.csv** file, and place the data into a pandas dataframe. Inspect the data tables to check how they are organised."
   ]
  },
  {
   "cell_type": "code",
   "execution_count": 1,
   "id": "d8188386-938c-40ed-8ac7-19e99d5d5508",
   "metadata": {},
   "outputs": [],
   "source": [
    "# Import the libraries to use\n",
    "import numpy as np\n",
    "import pandas as pd\n",
    "import matplotlib.pyplot as plt"
   ]
  },
  {
   "cell_type": "code",
   "execution_count": 2,
   "id": "282c3ec5-bb85-47b9-a147-53729ad22b00",
   "metadata": {},
   "outputs": [],
   "source": [
    "# Function\n",
    "def read_file(path):\n",
    "    \"\"\"\n",
    "    \"\"\"\n",
    "    return pd.read_csv(path)"
   ]
  },
  {
   "cell_type": "code",
   "execution_count": 3,
   "id": "f75274b6-e69a-439c-a0d3-1fe010f19d08",
   "metadata": {},
   "outputs": [],
   "source": [
    "# Give the path\n",
    "path = '/home/whyyorlantaken/Documents/Yachay-Tech/Physics/Tutorials-Comp-Phys-I/Data/new-books-per-million.csv'\n",
    "\n",
    "# And call the function\n",
    "dataframe = read_file(path)"
   ]
  },
  {
   "cell_type": "markdown",
   "id": "d9ca7097-28c0-4fb6-b86f-138562a588f2",
   "metadata": {},
   "source": [
    "### (b) Create 3 new data objects (time series) that contain only the information for the 3 countries with most entries."
   ]
  },
  {
   "cell_type": "markdown",
   "id": "8d5a32c8-78ed-425f-a953-9d82869e52a9",
   "metadata": {},
   "source": [
    "#### Count the countries with most entries"
   ]
  },
  {
   "cell_type": "code",
   "execution_count": 4,
   "id": "68dfc3d9-63db-48ae-bf5d-d04bf55deb7d",
   "metadata": {},
   "outputs": [],
   "source": [
    "# To choose appropiate countries, we have to count how many times they appear\n",
    "entity = dataframe.iloc[:,0]"
   ]
  },
  {
   "cell_type": "code",
   "execution_count": 5,
   "id": "1cb751d9-b96a-47da-891d-7c0402be1560",
   "metadata": {},
   "outputs": [],
   "source": [
    "# Now let's see which ones appear the most with the following function\n",
    "def count_elements(array):\n",
    "    \"\"\"\n",
    "    \"\"\"\n",
    "    # Create a dictionary\n",
    "    count = {}\n",
    "     \n",
    "    # And run this simple loop to count the elements\n",
    "    for i in array:\n",
    "        if i in count:\n",
    "            count[i] = count[i] + 1\n",
    "        else:\n",
    "            count[i] = 1\n",
    "    \n",
    "    return count"
   ]
  },
  {
   "cell_type": "code",
   "execution_count": 6,
   "id": "a1f95740-d6e2-410f-b50d-6d40be4d7ced",
   "metadata": {},
   "outputs": [
    {
     "data": {
      "text/plain": [
       "{'Algeria': 18,\n",
       " 'Argentina': 50,\n",
       " 'Armenia': 67,\n",
       " 'Australia': 52,\n",
       " 'Austria': 51,\n",
       " 'Azerbaijan': 67,\n",
       " 'Belarus': 67,\n",
       " 'Belgium': 431,\n",
       " 'Brazil': 28,\n",
       " 'Bulgaria': 56,\n",
       " 'Canada': 32,\n",
       " 'Chile': 34,\n",
       " 'Croatia': 5,\n",
       " 'Cyprus': 26,\n",
       " 'Denmark': 210,\n",
       " 'Egypt': 36,\n",
       " 'Estonia': 57,\n",
       " 'Finland': 61,\n",
       " 'France': 361,\n",
       " 'Georgia': 67,\n",
       " 'Germany': 352,\n",
       " 'Greece': 47,\n",
       " 'Hungary': 52,\n",
       " 'Iceland': 37,\n",
       " 'India': 102,\n",
       " 'Indonesia': 89,\n",
       " 'Ireland': 336,\n",
       " 'Israel': 24,\n",
       " 'Italy': 360,\n",
       " 'Japan': 164,\n",
       " 'Jordan': 17,\n",
       " 'Kazakhstan': 67,\n",
       " 'Kenya': 21,\n",
       " 'Kyrgyzstan': 67,\n",
       " 'Latvia': 57,\n",
       " 'Lithuania': 56,\n",
       " 'Malaysia': 32,\n",
       " 'Malta': 28,\n",
       " 'Mexico': 289,\n",
       " 'Moldova': 51,\n",
       " 'Morocco': 14,\n",
       " 'Netherlands': 510,\n",
       " 'New Zealand': 35,\n",
       " 'Nigeria': 25,\n",
       " 'North Macedonia': 4,\n",
       " 'Norway': 209,\n",
       " 'Peru': 216,\n",
       " 'Philippines': 31,\n",
       " 'Poland': 351,\n",
       " 'Portugal': 47,\n",
       " 'Romania': 44,\n",
       " 'Russia': 187,\n",
       " 'Saudi Arabia': 7,\n",
       " 'Slovenia': 6,\n",
       " 'South Africa': 23,\n",
       " 'South Korea': 36,\n",
       " 'Spain': 360,\n",
       " 'Sweden': 510,\n",
       " 'Switzerland': 397,\n",
       " 'Tajikistan': 67,\n",
       " 'Thailand': 34,\n",
       " 'Tunisia': 26,\n",
       " 'Turkey': 151,\n",
       " 'Turkmenistan': 67,\n",
       " 'USSR': 83,\n",
       " 'Ukraine': 67,\n",
       " 'United Arab Emirates': 13,\n",
       " 'United Kingdom': 509,\n",
       " 'United States': 154,\n",
       " 'Uzbekistan': 67,\n",
       " 'Yugoslavia': 38}"
      ]
     },
     "execution_count": 6,
     "metadata": {},
     "output_type": "execute_result"
    }
   ],
   "source": [
    "# Let's use it!\n",
    "count_elements(entity)"
   ]
  },
  {
   "cell_type": "markdown",
   "id": "5d80bcd8-9a9e-422b-9a26-8c6eee2dc936",
   "metadata": {},
   "source": [
    "The countries with most entries are the Netherlands, the UK and Sweden."
   ]
  },
  {
   "cell_type": "markdown",
   "id": "1977f19d-55c5-4f0e-92c5-6b51dffafa8e",
   "metadata": {},
   "source": [
    "#### Selecting the data for those three countries"
   ]
  },
  {
   "cell_type": "code",
   "execution_count": 7,
   "id": "94826bf3-c2dd-45fc-9a14-3cccc5ea4894",
   "metadata": {},
   "outputs": [],
   "source": [
    "# Funtion\n",
    "def slice_data(dataset, column_name, country_name):\n",
    "    \"\"\"\n",
    "    \"\"\"\n",
    "    # Simply\n",
    "    country_data = dataset[dataset[column_name] == country_name]\n",
    "\n",
    "    return country_data"
   ]
  },
  {
   "cell_type": "code",
   "execution_count": 8,
   "id": "9017c568-4ab5-40eb-95ea-c8e95be4e111",
   "metadata": {},
   "outputs": [],
   "source": [
    "# Column\n",
    "column = 'Entity'\n",
    "\n",
    "# Country data\n",
    "nether_data = slice_data(dataframe, column, 'Netherlands')\n",
    "uk_data = slice_data(dataframe, column, 'United Kingdom')\n",
    "sweden_data = slice_data(dataframe, column, 'Sweden')"
   ]
  },
  {
   "cell_type": "markdown",
   "id": "1c7b26ca-34bb-49fc-a12d-c241b86760fa",
   "metadata": {},
   "source": [
    "### (c) Inspect the data, compare the time ranges (in years), and adjust the data series (if necessary) so that each object/series contains information for the same number of years."
   ]
  },
  {
   "cell_type": "markdown",
   "id": "abbb93f9-e8dc-4bba-bd4d-2b2c574ce648",
   "metadata": {},
   "source": [
    "#### Checking if everything is right (Spoiler: It's not!)"
   ]
  },
  {
   "cell_type": "code",
   "execution_count": 9,
   "id": "6ab7209a-4813-4c80-ab29-04831812b590",
   "metadata": {},
   "outputs": [
    {
     "name": "stdout",
     "output_type": "stream",
     "text": [
      "(510, 4) (509, 4) (510, 4)\n"
     ]
    }
   ],
   "source": [
    "# Before continuing, check the shapes of each\n",
    "print(nether_data.shape, uk_data.shape, sweden_data.shape)"
   ]
  },
  {
   "cell_type": "code",
   "execution_count": 10,
   "id": "0556dbb7-af9c-4246-8d9a-b416c0afe501",
   "metadata": {},
   "outputs": [
    {
     "name": "stdout",
     "output_type": "stream",
     "text": [
      "Entity                                       Netherlands\n",
      "Code                                                 NLD\n",
      "Year                                                1500\n",
      "Book titles per capita (Fink-Jensen 2015)       0.841543\n",
      "dtype: object Entity                                       Netherlands\n",
      "Code                                                 NLD\n",
      "Year                                                2009\n",
      "Book titles per capita (Fink-Jensen 2015)    3401.566487\n",
      "dtype: object\n"
     ]
    }
   ],
   "source": [
    "# Check the mins and maxs\n",
    "print(nether_data.min(), nether_data.max())"
   ]
  },
  {
   "cell_type": "markdown",
   "id": "ddcf3b41-8057-45fd-9648-4a85af0711e3",
   "metadata": {},
   "source": [
    "What do you think? How can we find that missing element and its position?"
   ]
  },
  {
   "cell_type": "code",
   "execution_count": 11,
   "id": "b6980b6a-b40c-4bc3-873d-8419fb29019c",
   "metadata": {},
   "outputs": [],
   "source": [
    "# Get the year UK array\n",
    "uk_years = np.array(uk_data.iloc[:,2])"
   ]
  },
  {
   "cell_type": "code",
   "execution_count": 12,
   "id": "ed0d1a21-fcc8-4dae-a9d0-cd40c8f93897",
   "metadata": {},
   "outputs": [],
   "source": [
    "# Create a convenient array\n",
    "convenient_array = np.linspace(uk_years[0]+1, uk_years[-1], len(uk_years))\n",
    "\n",
    "# And get the difference\n",
    "diff_array = convenient_array - uk_years"
   ]
  },
  {
   "cell_type": "code",
   "execution_count": 13,
   "id": "80967288-427b-443f-95f4-877cf278481e",
   "metadata": {},
   "outputs": [
    {
     "name": "stdout",
     "output_type": "stream",
     "text": [
      "The index of the element is 483.\n"
     ]
    }
   ],
   "source": [
    "# Find the index of the first 0\n",
    "index_0 = diff_array.tolist().index(0)\n",
    "\n",
    "print(f'The index of the element is {index_0}.')"
   ]
  },
  {
   "cell_type": "markdown",
   "id": "a752a261-521c-49a0-8a0b-83c19cd521c1",
   "metadata": {},
   "source": [
    "#### Cleaning the data"
   ]
  },
  {
   "cell_type": "code",
   "execution_count": 14,
   "id": "ff911fa2-12d6-437a-9b9b-42d38d00d58a",
   "metadata": {},
   "outputs": [],
   "source": [
    "# Change the arrays\n",
    "def clean_data(data):\n",
    "    \"\"\"\n",
    "    \"\"\"\n",
    "    # Simply\n",
    "    return data[data['Year'] != 1983]"
   ]
  },
  {
   "cell_type": "code",
   "execution_count": 15,
   "id": "e62a2afd-3ee4-49b5-8bf3-9d0db0e70920",
   "metadata": {},
   "outputs": [],
   "source": [
    "# Call the function\n",
    "nether_data = clean_data(nether_data)\n",
    "sweden_data = clean_data(sweden_data)"
   ]
  },
  {
   "cell_type": "code",
   "execution_count": 16,
   "id": "9d73947c-07b9-46c7-a046-2178f2c74c7a",
   "metadata": {},
   "outputs": [],
   "source": [
    "# Now we're in position of selecting the arrays\n",
    "def select_array(dataset, key):\n",
    "    \"\"\"\n",
    "    \"\"\"\n",
    "    return np.array(dataset[key])"
   ]
  },
  {
   "cell_type": "code",
   "execution_count": 17,
   "id": "48faa119-6d04-4450-a704-d621a7670e97",
   "metadata": {},
   "outputs": [],
   "source": [
    "# Get the year array\n",
    "year_array = select_array(sweden_data, 'Year')"
   ]
  },
  {
   "cell_type": "code",
   "execution_count": 18,
   "id": "3cecad2b-910a-4ea5-9d74-430a9560daf3",
   "metadata": {},
   "outputs": [],
   "source": [
    "# And the books title per capita\n",
    "nether_books = select_array(nether_data, 'Book titles per capita (Fink-Jensen 2015)')\n",
    "uk_books = select_array(uk_data, 'Book titles per capita (Fink-Jensen 2015)')\n",
    "sweden_books = select_array(sweden_data, 'Book titles per capita (Fink-Jensen 2015)')"
   ]
  },
  {
   "cell_type": "markdown",
   "id": "5548c794-9696-4c9d-b7d5-459ef73ee27d",
   "metadata": {},
   "source": [
    "### (d) Calculate the average and standard deviation of the annual number of books per million people of these 3 countries. Create and export (in CSV format) a new pandas data frame that contains 6 columns:\n",
    "\n",
    "- Year\n",
    "\n",
    "- Books per million people in each (three different arrays)\n",
    "\n",
    "- Average of books (of these 3 countries)\n",
    "\n",
    "- Standard deviation of books (of these 3 countries)"
   ]
  },
  {
   "cell_type": "markdown",
   "id": "6c34fe66-a243-48b3-9087-adbb36d7c41f",
   "metadata": {},
   "source": [
    "#### Computation"
   ]
  },
  {
   "cell_type": "code",
   "execution_count": 19,
   "id": "3379daaf-58d6-482f-a772-3906242ac050",
   "metadata": {},
   "outputs": [],
   "source": [
    "# Define a function to compute the average and the standard deviation.\n",
    "def compute_quantities(*array):\n",
    "    \"\"\"\n",
    "    \"\"\"\n",
    "    # Get the arrays together\n",
    "    data_together = np.array(array)\n",
    "\n",
    "    # Compute the quantities\n",
    "    # Mean:\n",
    "    mean = np.mean(data_together, axis = 0)\n",
    "\n",
    "    # Standard deviation\n",
    "    std = np.std(data_together, axis = 0)\n",
    "    \n",
    "    return mean, std, data_together"
   ]
  },
  {
   "cell_type": "code",
   "execution_count": 20,
   "id": "89cb8fd8-448a-4663-8ccc-0aa30e80dc32",
   "metadata": {},
   "outputs": [],
   "source": [
    "# Call the function\n",
    "mean_array, std_array, _ = compute_quantities(nether_books, uk_books, sweden_books)"
   ]
  },
  {
   "cell_type": "markdown",
   "id": "e1b67f47-cd27-42f6-91a5-e63211a03388",
   "metadata": {},
   "source": [
    "#### CSV export with pandas"
   ]
  },
  {
   "cell_type": "code",
   "execution_count": 21,
   "id": "3ea4d828-b3d0-4354-825b-045df21f9abc",
   "metadata": {},
   "outputs": [
    {
     "data": {
      "text/html": [
       "<div>\n",
       "<style scoped>\n",
       "    .dataframe tbody tr th:only-of-type {\n",
       "        vertical-align: middle;\n",
       "    }\n",
       "\n",
       "    .dataframe tbody tr th {\n",
       "        vertical-align: top;\n",
       "    }\n",
       "\n",
       "    .dataframe thead th {\n",
       "        text-align: right;\n",
       "    }\n",
       "</style>\n",
       "<table border=\"1\" class=\"dataframe\">\n",
       "  <thead>\n",
       "    <tr style=\"text-align: right;\">\n",
       "      <th></th>\n",
       "      <th>Time</th>\n",
       "      <th>Netherlands</th>\n",
       "      <th>UK</th>\n",
       "      <th>Sweden</th>\n",
       "      <th>Average</th>\n",
       "      <th>Standard Dev</th>\n",
       "    </tr>\n",
       "  </thead>\n",
       "  <tbody>\n",
       "    <tr>\n",
       "      <th>0</th>\n",
       "      <td>1500</td>\n",
       "      <td>39.545799</td>\n",
       "      <td>13.448084</td>\n",
       "      <td>0.0</td>\n",
       "      <td>17.664627</td>\n",
       "      <td>16.417511</td>\n",
       "    </tr>\n",
       "    <tr>\n",
       "      <th>1</th>\n",
       "      <td>1501</td>\n",
       "      <td>33.566862</td>\n",
       "      <td>2.783017</td>\n",
       "      <td>0.0</td>\n",
       "      <td>12.116626</td>\n",
       "      <td>15.210101</td>\n",
       "    </tr>\n",
       "    <tr>\n",
       "      <th>2</th>\n",
       "      <td>1502</td>\n",
       "      <td>59.800260</td>\n",
       "      <td>8.579193</td>\n",
       "      <td>0.0</td>\n",
       "      <td>22.793151</td>\n",
       "      <td>26.401328</td>\n",
       "    </tr>\n",
       "    <tr>\n",
       "      <th>3</th>\n",
       "      <td>1503</td>\n",
       "      <td>58.075844</td>\n",
       "      <td>5.284888</td>\n",
       "      <td>0.0</td>\n",
       "      <td>21.120244</td>\n",
       "      <td>26.220473</td>\n",
       "    </tr>\n",
       "    <tr>\n",
       "      <th>4</th>\n",
       "      <td>1504</td>\n",
       "      <td>46.248946</td>\n",
       "      <td>5.270956</td>\n",
       "      <td>0.0</td>\n",
       "      <td>17.173301</td>\n",
       "      <td>20.671891</td>\n",
       "    </tr>\n",
       "  </tbody>\n",
       "</table>\n",
       "</div>"
      ],
      "text/plain": [
       "   Time  Netherlands         UK  Sweden    Average  Standard Dev\n",
       "0  1500    39.545799  13.448084     0.0  17.664627     16.417511\n",
       "1  1501    33.566862   2.783017     0.0  12.116626     15.210101\n",
       "2  1502    59.800260   8.579193     0.0  22.793151     26.401328\n",
       "3  1503    58.075844   5.284888     0.0  21.120244     26.220473\n",
       "4  1504    46.248946   5.270956     0.0  17.173301     20.671891"
      ]
     },
     "execution_count": 21,
     "metadata": {},
     "output_type": "execute_result"
    }
   ],
   "source": [
    "# Create a pandas frame with a dictionary inside\n",
    "books_df = pd.DataFrame({\"Time\": year_array, \n",
    "                      \"Netherlands\": nether_books, \n",
    "                      \"UK\": uk_books,\n",
    "                      \"Sweden\": sweden_books, \n",
    "                      \"Average\": mean_array,\n",
    "                      \"Standard Dev\": std_array})\n",
    "# Let's see\n",
    "books_df.head()"
   ]
  },
  {
   "cell_type": "code",
   "execution_count": 22,
   "id": "fd7d8254-bfd7-4128-acfa-48590897b0af",
   "metadata": {},
   "outputs": [],
   "source": [
    "# And get it as a csv file\n",
    "books_df.to_csv('./Data/books_df.csv')"
   ]
  },
  {
   "cell_type": "markdown",
   "id": "ac8f8d05-64cc-4696-a57e-f63c2799cdf2",
   "metadata": {},
   "source": [
    "#### Plot!"
   ]
  },
  {
   "cell_type": "code",
   "execution_count": 23,
   "id": "d85ff9c2-45e4-46a0-bd59-14a4cce7b1e5",
   "metadata": {},
   "outputs": [
    {
     "data": {
      "image/png": "[encoded data removed]",
      "text/plain": [
       "<Figure size 640x480 with 1 Axes>"
      ]
     },
     "metadata": {},
     "output_type": "display_data"
    }
   ],
   "source": [
    "# Plot\n",
    "plt.figure()\n",
    "\n",
    "plt.title('Books per country')\n",
    "plt.xlabel('Time [Years]')\n",
    "plt.ylabel('Books [# Books/ 1M People]')\n",
    "\n",
    "plt.plot(year_array, nether_books, color = \"k\")\n",
    "plt.plot(year_array, uk_books, color = \"b\")\n",
    "plt.plot(year_array, sweden_books, color = \"r\")\n",
    "\n",
    "# Mean and stv\n",
    "plt.errorbar(year_array, mean_array, yerr = std_array)\n",
    "\n",
    "plt.show()\n",
    "plt.close()"
   ]
  },
  {
   "cell_type": "markdown",
   "id": "70cf3be3-2755-499e-b83f-7a9f22fedee6",
   "metadata": {},
   "source": [
    "Comment the results! Discuss."
   ]
  }
 ],
 "metadata": {
  "kernelspec": {
   "display_name": "Python 3 (ipykernel)",
   "language": "python",
   "name": "python3"
  },
  "language_info": {
   "codemirror_mode": {
    "name": "ipython",
    "version": 3
   },
   "file_extension": ".py",
   "mimetype": "text/x-python",
   "name": "python",
   "nbconvert_exporter": "python",
   "pygments_lexer": "ipython3",
   "version": "3.12.3"
  }
 },
 "nbformat": 4,
 "nbformat_minor": 5
}
