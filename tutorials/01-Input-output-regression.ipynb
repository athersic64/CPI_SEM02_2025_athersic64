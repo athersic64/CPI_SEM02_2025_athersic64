{
 "cells": [
  {
   "cell_type": "markdown",
   "id": "44b2867f",
   "metadata": {},
   "source": [
    "# Tutorial 1: Damped pendulum\n",
    "## Input/Output and regression"
   ]
  },
  {
   "cell_type": "markdown",
   "id": "621de2a4",
   "metadata": {},
   "source": [
    "This problem consists of studying damped oscillations. Remember that the 2nd-order ODE describing damped oscillations is:\n",
    "\n",
    "$$m\\,\\frac{d^2y}{dt^2}+b\\,\\frac{dy}{dt}+k\\,y = 0,$$\n",
    "\n",
    "where $m=1\\,\\rm kg$ is the oscillator mass, $b$ is the damping coefficient, and $k$ is the force constant of the oscillator. The analytical solution to the above ODE, known as the the damped oscillation equation, reads:\n",
    "\n",
    "$$\\boxed{y(t)=A\\,e^{-\\beta\\,t}\\,\\cos{(\\omega\\,t)}},$$ \n",
    "\n",
    "where $A$ is  the inital oscillation amplitude, $\\beta=b/2m$ is the damping ratio, and $\\omega$ is the angular frequency of the oscillations given by:\n",
    "\n",
    "$$\\omega = \\sqrt{\\frac{k}{m}-\\frac{b^2}{4m^2}}.$$\n",
    "\n",
    "The data file given below contains a time series obtained from a damped harmonic oscillator experiment. The first column of the file has times in seconds $\\rm [s]$ and the second column has the displacements in meters $\\rm [m]$. It can be found at:\n",
    "\n",
    "https://github.com/wbandabarragan/physics-teaching-data/blob/main/1D-data/damped_pendulum.csv\n",
    "\n",
    "##### Data reference: https://www.kaggle.com/datasets/cici118/damped-harmonic-oscillator\n"
   ]
  },
  {
   "cell_type": "markdown",
   "id": "be1d4da7-9131-4f90-b0e2-83bdac2e0f52",
   "metadata": {},
   "source": [
    "### Activities to do: \n",
    "\n",
    "a) Create a python I/O function that opens the data file and returns $2$ arrays, one for times and one for displacements.\n",
    "\n",
    "b) Call your I/O function and make a high-quality labeled plot of displacement (in the Y axis) versus time (in the X axis).\n",
    "\n",
    "c) Use a physically-motivated model (i.e. the damped oscillation equation), and constrain its free parameters by carrying out a regression.\n",
    "\n",
    "d) Report the results from your regression, i.e. the best-fit values for the free parametes with their respective uncertainties. Using your results, identify or calculate the following quantities in physical units:\n",
    "\n",
    "- The initial amplitude, $A$, of the oscillations.\n",
    "- The damping ratio, $\\beta$.\n",
    "- The angular frequency, $\\omega$, of the damped pendulum.\n",
    "- The damping coefficient, $b$.\n",
    "- The force constant of the oscillator, $k$.\n",
    "\n",
    "e) Make a plot showing the empirical data and the best-fit model obtained from your regression."
   ]
  },
  {
   "cell_type": "markdown",
   "id": "74fd7e0e-6982-4d4e-9b36-04ae93503e17",
   "metadata": {},
   "source": [
    "### a) Create a python I/O function that opens the data file and returns $2$ arrays, one for times and one for displacements."
   ]
  },
  {
   "cell_type": "code",
   "execution_count": 1,
   "id": "ccad475b-89f5-49ec-aee8-a440cb6988db",
   "metadata": {},
   "outputs": [],
   "source": [
    "# Import the libraries\n",
    "import pandas as pd\n",
    "import numpy as np\n",
    "import matplotlib.pyplot as plt"
   ]
  },
  {
   "cell_type": "markdown",
   "id": "14ac9b4e-28fc-47aa-ab39-b73e504e3573",
   "metadata": {},
   "source": [
    "#### Inspection of the data"
   ]
  },
  {
   "cell_type": "code",
   "execution_count": 2,
   "id": "32b045e3-f3d4-4688-bbdc-45e41062e665",
   "metadata": {},
   "outputs": [],
   "source": [
    "# Provide the path\n",
    "path = '/home/whyyorlantaken/Documents/Yachay-Tech/Physics/Tutorials-Comp-Phys-I/Data/damped_pendulum.csv'\n",
    "\n",
    "# Get it!\n",
    "pendulum_dataset = pd.read_csv(path, sep = ',')"
   ]
  },
  {
   "cell_type": "markdown",
   "id": "9c15d900-b257-4189-8e75-3db54cc9a964",
   "metadata": {},
   "source": [
    "#### Solving it without a function"
   ]
  },
  {
   "cell_type": "code",
   "execution_count": 3,
   "id": "9623bfa7-8965-467a-bd76-84ecbf2c8e56",
   "metadata": {},
   "outputs": [],
   "source": [
    "# Get the arrays\n",
    "time_array = np.array(pendulum_dataset['time'])\n",
    "disp_array = np.array(pendulum_dataset['displacement'])"
   ]
  },
  {
   "cell_type": "markdown",
   "id": "48815ec8-52cf-4f53-9ca0-6bbdca00d47f",
   "metadata": {},
   "source": [
    "The problem has been solved, but not using a function. Let's combine this process into a function!"
   ]
  },
  {
   "cell_type": "markdown",
   "id": "5b8d4f91-06e2-4c84-b87f-4fbd9ff6b867",
   "metadata": {},
   "source": [
    "#### Function"
   ]
  },
  {
   "cell_type": "code",
   "execution_count": 4,
   "id": "03f649f7-4b04-4aea-874d-d552e1696061",
   "metadata": {},
   "outputs": [],
   "source": [
    "def io_function(filename):\n",
    "    \"\"\"\n",
    "    \"\"\"\n",
    "    # Read the file:\n",
    "    df = pd.read_csv(filename, sep = ',')\n",
    "\n",
    "    # Get data into arrays:\n",
    "    time = np.array(df['time'])\n",
    "    displacements = np.array(df['displacement'])\n",
    "\n",
    "    return time, displacements"
   ]
  },
  {
   "cell_type": "markdown",
   "id": "dd4d9910-a0c5-476f-87a8-15d7ae550916",
   "metadata": {},
   "source": [
    "### b) Call your I/O function and make a high-quality labeled plot of displacement (in the Y axis) versus time (in the X axis)."
   ]
  },
  {
   "cell_type": "code",
   "execution_count": 5,
   "id": "91895b7d-1537-42a5-84e2-4a9090d0e3a0",
   "metadata": {},
   "outputs": [],
   "source": [
    "# Use the function\n",
    "time_array, disp_array = io_function(path)"
   ]
  },
  {
   "cell_type": "code",
   "execution_count": 6,
   "id": "dbee9196-19b1-4940-9dda-ea773963d854",
   "metadata": {},
   "outputs": [
    {
     "data": {
      "image/png": "[encoded data removed]",
      "text/plain": [
       "<Figure size 640x480 with 1 Axes>"
      ]
     },
     "metadata": {},
     "output_type": "display_data"
    }
   ],
   "source": [
    "# Plotting\n",
    "plt.figure()\n",
    "\n",
    "plt.scatter(time_array, disp_array)\n",
    "\n",
    "plt.title('Damped pendulum')\n",
    "\n",
    "plt.show()\n",
    "plt.close()"
   ]
  },
  {
   "cell_type": "markdown",
   "id": "7acbfb81-511d-426e-a8bb-e44e1af80da1",
   "metadata": {},
   "source": [
    "### c) Use a physically-motivated model, and constrain its free parameters by carrying out a regression."
   ]
  },
  {
   "cell_type": "code",
   "execution_count": 7,
   "id": "752d0026-3eda-4281-92c2-c28ed9bea252",
   "metadata": {},
   "outputs": [],
   "source": [
    "# Model\n",
    "def physical_model(times, A, beta, omega):\n",
    "    \"\"\"\n",
    "    \"\"\"\n",
    "    return A*np.exp(-beta*times)*np.cos(omega*times)"
   ]
  },
  {
   "cell_type": "code",
   "execution_count": 8,
   "id": "b4146f66-3ba6-488a-88c1-bab68ee5c4b2",
   "metadata": {},
   "outputs": [],
   "source": [
    "# Import the library\n",
    "import scipy.optimize as opt"
   ]
  },
  {
   "cell_type": "code",
   "execution_count": 9,
   "id": "d41d747d-a9af-4e80-a6ba-697225737ca4",
   "metadata": {},
   "outputs": [],
   "source": [
    "# Call the curve_fit() function\n",
    "coef, cova = opt.curve_fit(physical_model, time_array, disp_array)"
   ]
  },
  {
   "cell_type": "code",
   "execution_count": 10,
   "id": "72fb918d-f53e-41a9-b4d2-acae5794a7dc",
   "metadata": {},
   "outputs": [],
   "source": [
    "# Get the regression curve:\n",
    "fit_array = physical_model(time_array, *coef)"
   ]
  },
  {
   "cell_type": "markdown",
   "id": "0bc424b6-8c40-47a5-b7cb-b138f4bd1ae0",
   "metadata": {},
   "source": [
    "### d) Report the results from your regression, i.e. the best-fit values for the free parametes with their respective uncertainties. Using your results, identify or calculate the following quantities in physical units:\n",
    "\n",
    "- The initial amplitude, $A$, of the oscillations.\n",
    "- The damping ratio, $\\beta$.\n",
    "- The angular frequency, $\\omega$, of the damped pendulum.\n",
    "- The damping coefficient, $b$.\n",
    "- The force constant of the oscillator, $k$."
   ]
  },
  {
   "cell_type": "code",
   "execution_count": 11,
   "id": "1fb4728f-8e00-4732-9e07-ea9709a45713",
   "metadata": {},
   "outputs": [
    {
     "name": "stdout",
     "output_type": "stream",
     "text": [
      "Simply, A = 1.0031306018680461, beta = 0.05012386759729784, omega = 0.9962379022570641.\n"
     ]
    }
   ],
   "source": [
    "# A, beta and omega are given directly\n",
    "A, beta, omega = coef[0], coef[1], coef[2]\n",
    "\n",
    "# Then\n",
    "print(f'Simply, A = {A}, beta = {beta}, omega = {omega}.')"
   ]
  },
  {
   "cell_type": "code",
   "execution_count": 12,
   "id": "20742082-0f01-4372-8bb6-47c04c3c2232",
   "metadata": {},
   "outputs": [
    {
     "name": "stdout",
     "output_type": "stream",
     "text": [
      "b = 0.10024773519459568.\n"
     ]
    }
   ],
   "source": [
    "# Since beta = b/2m and m = 1kg,\n",
    "b = beta*2\n",
    "\n",
    "print(f'b = {b}.')"
   ]
  },
  {
   "cell_type": "markdown",
   "id": "21895580-e36f-4137-9ee5-84e37c2de4c1",
   "metadata": {},
   "source": [
    "While $k$ should be given by\n",
    "$$\\omega = \\sqrt{\\frac{k}{m}-\\frac{b^2}{4m^2}} \\implies k = m\\left(\\omega² + \\frac{b²}{4m²}\\right).$$"
   ]
  },
  {
   "cell_type": "code",
   "execution_count": 13,
   "id": "c3102eb0-3f7c-46da-94a4-7fdf04ae6c23",
   "metadata": {},
   "outputs": [
    {
     "name": "stdout",
     "output_type": "stream",
     "text": [
      "k = 0.9950023599964671.\n"
     ]
    }
   ],
   "source": [
    "# So that\n",
    "k = omega**2+b**2/4\n",
    "print(f'k = {k}.')"
   ]
  },
  {
   "cell_type": "markdown",
   "id": "3cbbb24d-126c-41e1-a351-33eaaa916625",
   "metadata": {},
   "source": [
    "### e) Make a plot showing the empirical data and the best-fit model obtained from your regression."
   ]
  },
  {
   "cell_type": "code",
   "execution_count": 16,
   "id": "454710f7-9f1e-429a-a612-0feb3297582b",
   "metadata": {},
   "outputs": [
    {
     "data": {
      "image/png": "[encoded data removed]",
      "text/plain": [
       "<Figure size 640x480 with 1 Axes>"
      ]
     },
     "metadata": {},
     "output_type": "display_data"
    }
   ],
   "source": [
    "# Plotting:\n",
    "plt.figure()\n",
    "\n",
    "plt.scatter(time_array, disp_array, marker = 'o')\n",
    "plt.plot(time_array, fit_array)\n",
    "\n",
    "plt.title('Damped pendulum and regression')\n",
    "\n",
    "plt.show()\n",
    "plt.close()"
   ]
  }
 ],
 "metadata": {
  "kernelspec": {
   "display_name": "Python 3 (ipykernel)",
   "language": "python",
   "name": "python3"
  },
  "language_info": {
   "codemirror_mode": {
    "name": "ipython",
    "version": 3
   },
   "file_extension": ".py",
   "mimetype": "text/x-python",
   "name": "python",
   "nbconvert_exporter": "python",
   "pygments_lexer": "ipython3",
   "version": "3.12.3"
  }
 },
 "nbformat": 4,
 "nbformat_minor": 5
}
