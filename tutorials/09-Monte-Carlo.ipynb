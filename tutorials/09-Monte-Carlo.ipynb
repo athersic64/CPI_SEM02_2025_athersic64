{
 "cells": [
  {
   "cell_type": "markdown",
   "metadata": {},
   "source": [
    "# Tutorial 9: Monte Carlo\n",
    "We are going to solve some problems using the Monte Carlo approach."
   ]
  },
  {
   "cell_type": "markdown",
   "metadata": {},
   "source": [
    "## 1. Unit square"
   ]
  },
  {
   "cell_type": "markdown",
   "metadata": {},
   "source": [
    "**Comment**: In this section, I ask you to solve the problem in a couple of ways to confirm the value, but, *as long as you correctly do it once*, you're all good."
   ]
  },
  {
   "cell_type": "markdown",
   "metadata": {},
   "source": [
    "#### (a) Estimate the average distance between two random points in a unit square with bounds $[0, 1]^{2}$. Do it with `for` loops only."
   ]
  },
  {
   "cell_type": "markdown",
   "metadata": {},
   "source": [
    "#### (b) Visually show how convergence is achieved as the sample of random points gets larger."
   ]
  },
  {
   "cell_type": "markdown",
   "metadata": {},
   "source": [
    "#### (c) Confirm the value obtained by doing it without any `for` loop."
   ]
  },
  {
   "cell_type": "markdown",
   "metadata": {},
   "source": [
    "In an exam, I would recommend doing it this way."
   ]
  },
  {
   "cell_type": "markdown",
   "metadata": {},
   "source": [
    "#### (d) Calculate it analytically. No Monte Carlo."
   ]
  },
  {
   "cell_type": "markdown",
   "metadata": {},
   "source": [
    "In principle, we would calculate it with this integral\n",
    "$$\n",
    "\\int\\int\\int\\int_{[0, 1]⁴}\\sqrt{(x_{1}-x_{0})^{2}+(y_{1}-y_{0})^{2}}\\,dx_0\\,dx_1\\,dy_0\\,dy_1,\n",
    "$$\n",
    "but the operation is computationally expensive to do (try it!). **We need to look at the problem in a different way.**"
   ]
  },
  {
   "cell_type": "markdown",
   "metadata": {},
   "source": [
    "## 2. Any polygon"
   ]
  },
  {
   "cell_type": "markdown",
   "metadata": {},
   "source": [
    "**Comment**: This problem would be more suitable for homework than for a quiz.\n",
    "\n",
    "As just seen, the unit square problem isn't that hard to solve without Monte Carlo. On the contrary, the average distance of two points inside an *arbitrary polygon* is much more complex and tedious to solve analytically. In cases like this, **Monte Carlo methods are preferred.**"
   ]
  },
  {
   "cell_type": "markdown",
   "metadata": {},
   "source": [
    "#### (a) Generate random points inside a polygon of your choice (not the square), and calculate the average distance of two points in it. **Hint**: You can use the function `Polygon` from `shapely.geometry` to get polygons."
   ]
  }
 ],
 "metadata": {
  "kaggle": {
   "accelerator": "nvidiaTeslaT4",
   "dataSources": [],
   "dockerImageVersionId": 30787,
   "isGpuEnabled": true,
   "isInternetEnabled": true,
   "language": "python",
   "sourceType": "notebook"
  },
  "kernelspec": {
   "display_name": "Python 3 (ipykernel)",
   "language": "python",
   "name": "python3"
  },
  "language_info": {
   "codemirror_mode": {
    "name": "ipython",
    "version": 3
   },
   "file_extension": ".py",
   "mimetype": "text/x-python",
   "name": "python",
   "nbconvert_exporter": "python",
   "pygments_lexer": "ipython3",
   "version": "3.9.15"
  }
 },
 "nbformat": 4,
 "nbformat_minor": 4
}
