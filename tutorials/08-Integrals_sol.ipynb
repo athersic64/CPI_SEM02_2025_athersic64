{
 "cells": [
  {
   "cell_type": "markdown",
   "id": "b22fae17-4800-4647-b846-d0c4d45042eb",
   "metadata": {},
   "source": [
    "# Tutorial 8: Integrals"
   ]
  },
  {
   "cell_type": "markdown",
   "id": "ee38b713-ad92-45f2-8281-67ac0f312dc9",
   "metadata": {},
   "source": [
    "In this exercise, we will read, plot and analyze a **VTR file** (i.e. VTK Rectilinear Grid) containing the density of $3$ spherical moons via numerical integration, which allows us to easily calculate mass, column densities and center of masses. \n",
    "\n",
    "**Data**: The VTR file can be found [here](https://github.com/wbandabarragan/physics-teaching-data/blob/main/3D-data/moons.zip)."
   ]
  },
  {
   "cell_type": "markdown",
   "id": "e22dab5c-80f4-4b89-b70f-eff29c4f9afe",
   "metadata": {},
   "source": [
    "### (a) Crate a simple function which reads the file and returns the reshaped $256\\times256\\times256$ cube along with the appropiate coordinates. Then, plot a $2\\rm D$ slice. What do you notice when changing the index of the slice?\n",
    "\n",
    "Assume the normalization factors are $1 \\rm pix$ $ = 25 \\,\\rm km$ for distance and $1\\times10^{10}\\,\\rm kg/km^{3}$ for density."
   ]
  },
  {
   "cell_type": "code",
   "execution_count": 1,
   "id": "4b84e4c1-8c93-4ad4-9d6c-0c42583f0e26",
   "metadata": {
    "execution": {
     "iopub.execute_input": "2024-11-22T21:36:52.015134Z",
     "iopub.status.busy": "2024-11-22T21:36:52.014687Z",
     "iopub.status.idle": "2024-11-22T21:36:53.620202Z",
     "shell.execute_reply": "2024-11-22T21:36:53.619563Z",
     "shell.execute_reply.started": "2024-11-22T21:36:52.015091Z"
    }
   },
   "outputs": [],
   "source": [
    "# Libraries\n",
    "import numpy as np\n",
    "import matplotlib.pyplot as plt\n",
    "import pyvista as pv\n",
    "import sympy as sp"
   ]
  },
  {
   "cell_type": "code",
   "execution_count": 2,
   "id": "67738454-4184-48ff-aadb-f7e20a2e67e9",
   "metadata": {
    "execution": {
     "iopub.execute_input": "2024-11-22T21:36:53.621322Z",
     "iopub.status.busy": "2024-11-22T21:36:53.621033Z",
     "iopub.status.idle": "2024-11-22T21:36:53.772830Z",
     "shell.execute_reply": "2024-11-22T21:36:53.771482Z",
     "shell.execute_reply.started": "2024-11-22T21:36:53.621300Z"
    }
   },
   "outputs": [],
   "source": [
    "# I've recently adopted this format for writing function documentation\n",
    "def get_density_cube(filename):\n",
    "    \"\"\"\n",
    "    Obtain the density cube of a vtk file.\n",
    "\n",
    "    Parameters\n",
    "    ----------\n",
    "    filename : str, required\n",
    "        Location of the file.\n",
    "\n",
    "    Returns\n",
    "    -------\n",
    "    rho_3d : array\n",
    "        Density cube.\n",
    "    x, y, z : array\n",
    "        Coordinates along each direction.\n",
    "    \"\"\"\n",
    "    # Get the mesh\n",
    "    mesh = pv.read(filename)\n",
    "\n",
    "    # Extract the specified array\n",
    "    rho_1d = pv.get_array(mesh, \"density\", preference = \"cell\")\n",
    "\n",
    "    # Get the dimensions (the same for the all dimensions)\n",
    "    dims = mesh.dimensions[0] - 1\n",
    "\n",
    "    # And reshape the array\n",
    "    rho_3d = rho_1d.reshape(dims, dims, dims)*1e10\n",
    "\n",
    "    # Get the coordinates \n",
    "    x = np.linspace(mesh.bounds[0], mesh.bounds[1], mesh.dimensions[0])*25\n",
    "    y = np.linspace(mesh.bounds[2], mesh.bounds[3], mesh.dimensions[1])*25\n",
    "    z = np.linspace(mesh.bounds[4], mesh.bounds[5], mesh.dimensions[2])*25\n",
    "\n",
    "    return rho_3d, x, y, z"
   ]
  },
  {
   "cell_type": "code",
   "execution_count": 3,
   "id": "bd12d0b9-52bb-44df-9ddb-9dbb69828b49",
   "metadata": {
    "execution": {
     "iopub.execute_input": "2024-11-22T21:36:53.775472Z",
     "iopub.status.busy": "2024-11-22T21:36:53.774637Z",
     "iopub.status.idle": "2024-11-22T21:36:54.481808Z",
     "shell.execute_reply": "2024-11-22T21:36:54.481145Z",
     "shell.execute_reply.started": "2024-11-22T21:36:53.775436Z"
    }
   },
   "outputs": [],
   "source": [
    "# Call it\n",
    "rho_3d, x, y, z = get_density_cube(\"./Data/moons.vtr\")"
   ]
  },
  {
   "cell_type": "code",
   "execution_count": 4,
   "id": "59af91eb-0ac9-4efe-b20d-9e3d0726835c",
   "metadata": {
    "execution": {
     "iopub.execute_input": "2024-11-22T21:36:54.482807Z",
     "iopub.status.busy": "2024-11-22T21:36:54.482587Z",
     "iopub.status.idle": "2024-11-22T21:36:54.743499Z",
     "shell.execute_reply": "2024-11-22T21:36:54.741280Z",
     "shell.execute_reply.started": "2024-11-22T21:36:54.482788Z"
    }
   },
   "outputs": [
    {
     "name": "stdout",
     "output_type": "stream",
     "text": [
      "(257, 257) (257, 257)\n"
     ]
    }
   ],
   "source": [
    "# Create a 2d meshgrid with +1 in shape\n",
    "x_2d, y_2d = np.meshgrid(x, y)\n",
    "print(x_2d.shape, y_2d.shape)"
   ]
  },
  {
   "cell_type": "code",
   "execution_count": 5,
   "id": "a0b3e3d7-6dd6-422c-84ad-aba00ab940ff",
   "metadata": {
    "execution": {
     "iopub.execute_input": "2024-11-22T21:36:54.746762Z",
     "iopub.status.busy": "2024-11-22T21:36:54.746029Z",
     "iopub.status.idle": "2024-11-22T21:36:54.974474Z",
     "shell.execute_reply": "2024-11-22T21:36:54.972299Z",
     "shell.execute_reply.started": "2024-11-22T21:36:54.746700Z"
    }
   },
   "outputs": [],
   "source": [
    "# Get a slice like this since the moons are not in the same planes\n",
    "slice_2d = rho_3d[:, :, 200] + rho_3d[:, :, 128] + rho_3d[:, :, 100]"
   ]
  },
  {
   "cell_type": "code",
   "execution_count": 6,
   "id": "b688f928-579e-418b-8263-4a45d348a5dc",
   "metadata": {
    "execution": {
     "iopub.execute_input": "2024-11-22T21:36:54.982942Z",
     "iopub.status.busy": "2024-11-22T21:36:54.982026Z",
     "iopub.status.idle": "2024-11-22T21:36:57.170172Z",
     "shell.execute_reply": "2024-11-22T21:36:57.169252Z",
     "shell.execute_reply.started": "2024-11-22T21:36:54.982848Z"
    }
   },
   "outputs": [
    {
     "data": {
      "image/png": "[encoded data removed]",
      "text/plain": [
       "<Figure size 500x500 with 2 Axes>"
      ]
     },
     "metadata": {},
     "output_type": "display_data"
    }
   ],
   "source": [
    "# Plot the slice\n",
    "plt.figure(figsize = (5, 5))\n",
    "\n",
    "plot = plt.pcolor(x_2d, y_2d, np.log10(slice_2d + 1),\n",
    "                  cmap = 'magma_r', shading = 'auto')\n",
    "plt.colorbar(plot, shrink = 0.80, label = 'Density [$\\\\log(kg/km^3)$]')\n",
    "\n",
    "plt.title('Slice')\n",
    "plt.xlabel('x [km]')\n",
    "plt.ylabel('y [km]')\n",
    "\n",
    "plt.gca().set_aspect('equal')\n",
    "plt.show()\n",
    "plt.close()"
   ]
  },
  {
   "cell_type": "markdown",
   "id": "bc06acae-9900-4a28-89b6-085a5515b36c",
   "metadata": {},
   "source": [
    "### (b) Knowing the density of each moon is constant and different, create a function which returns the mass of each of them. Then, get the total mass."
   ]
  },
  {
   "cell_type": "code",
   "execution_count": 7,
   "id": "baf32e62-369b-41c9-8d3e-a072312f37af",
   "metadata": {
    "execution": {
     "iopub.execute_input": "2024-11-22T21:36:57.172607Z",
     "iopub.status.busy": "2024-11-22T21:36:57.171398Z",
     "iopub.status.idle": "2024-11-22T21:36:57.919923Z",
     "shell.execute_reply": "2024-11-22T21:36:57.919329Z",
     "shell.execute_reply.started": "2024-11-22T21:36:57.172580Z"
    }
   },
   "outputs": [
    {
     "name": "stdout",
     "output_type": "stream",
     "text": [
      "[0.e+00 2.e+10 6.e+10 7.e+11]\n"
     ]
    }
   ],
   "source": [
    "# Let's see the different densities in kg/km³\n",
    "print(np.unique(rho_3d))"
   ]
  },
  {
   "cell_type": "code",
   "execution_count": 8,
   "id": "9b9d6756-8a87-4c9d-85a3-75d0814e6391",
   "metadata": {
    "execution": {
     "iopub.execute_input": "2024-11-22T21:36:57.921170Z",
     "iopub.status.busy": "2024-11-22T21:36:57.920715Z",
     "iopub.status.idle": "2024-11-22T21:36:57.925448Z",
     "shell.execute_reply": "2024-11-22T21:36:57.924402Z",
     "shell.execute_reply.started": "2024-11-22T21:36:57.921149Z"
    }
   },
   "outputs": [],
   "source": [
    "# Function\n",
    "def get_mass(density_3d, density, dx):\n",
    "    \"\"\"\n",
    "    Compute the mass of each moon.\n",
    "    \"\"\"\n",
    "    # Get a moon\n",
    "    moon = density_3d[density_3d == density]\n",
    "\n",
    "    # Calculate the mass by 'integrating'\n",
    "    mass = np.sum(moon)*dx**3\n",
    "\n",
    "    return mass"
   ]
  },
  {
   "cell_type": "code",
   "execution_count": 9,
   "id": "a6c5a06b-d94f-4f1b-9f41-81aceba5f139",
   "metadata": {
    "execution": {
     "iopub.execute_input": "2024-11-22T21:36:57.927457Z",
     "iopub.status.busy": "2024-11-22T21:36:57.926736Z",
     "iopub.status.idle": "2024-11-22T21:36:58.983909Z",
     "shell.execute_reply": "2024-11-22T21:36:58.981440Z",
     "shell.execute_reply.started": "2024-11-22T21:36:57.927423Z"
    }
   },
   "outputs": [
    {
     "name": "stdout",
     "output_type": "stream",
     "text": [
      "25.0 25.0 25.0\n"
     ]
    }
   ],
   "source": [
    "# Calculate the differentials\n",
    "dx = abs(x[21]-x[20])\n",
    "dy = abs(y[21]-y[20])\n",
    "dz = abs(z[21]-z[20])\n",
    "\n",
    "print(dx, dy, dz)"
   ]
  },
  {
   "cell_type": "code",
   "execution_count": 10,
   "id": "f08891c3-cac7-4729-933e-5b9eda75413e",
   "metadata": {
    "execution": {
     "iopub.execute_input": "2024-11-22T21:36:58.986676Z",
     "iopub.status.busy": "2024-11-22T21:36:58.986032Z",
     "iopub.status.idle": "2024-11-22T21:37:01.680266Z",
     "shell.execute_reply": "2024-11-22T21:37:01.679612Z",
     "shell.execute_reply.started": "2024-11-22T21:36:58.986622Z"
    }
   },
   "outputs": [],
   "source": [
    "# Call the function for each\n",
    "mass_1 = get_mass(density_3d = rho_3d, density = np.unique(rho_3d)[-1], dx = dx)\n",
    "mass_2 = get_mass(density_3d = rho_3d, density = np.unique(rho_3d)[-2], dx = dx)\n",
    "mass_3 = get_mass(density_3d = rho_3d, density = np.unique(rho_3d)[-3], dx = dx)"
   ]
  },
  {
   "cell_type": "code",
   "execution_count": 11,
   "id": "46ee1931-6050-4fca-b48d-d265859a7c8d",
   "metadata": {
    "execution": {
     "iopub.execute_input": "2024-11-22T21:37:01.681802Z",
     "iopub.status.busy": "2024-11-22T21:37:01.681478Z",
     "iopub.status.idle": "2024-11-22T21:37:01.686804Z",
     "shell.execute_reply": "2024-11-22T21:37:01.685795Z",
     "shell.execute_reply.started": "2024-11-22T21:37:01.681768Z"
    }
   },
   "outputs": [
    {
     "name": "stdout",
     "output_type": "stream",
     "text": [
      "4.56e+19, 3.13e+19, 2.87e+19\n"
     ]
    }
   ],
   "source": [
    "# See the values\n",
    "print(f'{mass_1:.2e}, {mass_2:.2e}, {mass_3:.2e}') # kg"
   ]
  },
  {
   "cell_type": "code",
   "execution_count": 12,
   "id": "efb5b48e-832f-4503-8bfc-301751870c87",
   "metadata": {
    "execution": {
     "iopub.execute_input": "2024-11-22T21:37:01.688029Z",
     "iopub.status.busy": "2024-11-22T21:37:01.687751Z",
     "iopub.status.idle": "2024-11-22T21:37:02.267967Z",
     "shell.execute_reply": "2024-11-22T21:37:02.267097Z",
     "shell.execute_reply.started": "2024-11-22T21:37:01.688009Z"
    }
   },
   "outputs": [
    {
     "name": "stdout",
     "output_type": "stream",
     "text": [
      "0.0\n"
     ]
    }
   ],
   "source": [
    "# Get the mass where density = 0\n",
    "mass_4 = get_mass(density_3d = rho_3d, density = 0, dx = dx)\n",
    "\n",
    "# Evidently \n",
    "print(mass_4)"
   ]
  },
  {
   "cell_type": "code",
   "execution_count": 13,
   "id": "8b7c961d-fdac-4592-aa84-00ceec720124",
   "metadata": {
    "execution": {
     "iopub.execute_input": "2024-11-22T21:37:02.269429Z",
     "iopub.status.busy": "2024-11-22T21:37:02.269071Z",
     "iopub.status.idle": "2024-11-22T21:37:02.348986Z",
     "shell.execute_reply": "2024-11-22T21:37:02.348300Z",
     "shell.execute_reply.started": "2024-11-22T21:37:02.269396Z"
    }
   },
   "outputs": [
    {
     "name": "stdout",
     "output_type": "stream",
     "text": [
      "The total mass is 1.06e+20kg.\n"
     ]
    }
   ],
   "source": [
    "# Get the total mass by adding the mass of each moon\n",
    "print(f'The total mass is {(mass_1 + mass_2 + mass_3):.2e}kg.')"
   ]
  },
  {
   "cell_type": "code",
   "execution_count": 14,
   "id": "ed7aa6c0-e675-451f-b389-7282c444d919",
   "metadata": {
    "execution": {
     "iopub.execute_input": "2024-11-22T21:37:02.350485Z",
     "iopub.status.busy": "2024-11-22T21:37:02.349960Z",
     "iopub.status.idle": "2024-11-22T21:37:03.019656Z",
     "shell.execute_reply": "2024-11-22T21:37:03.018785Z",
     "shell.execute_reply.started": "2024-11-22T21:37:02.350463Z"
    }
   },
   "outputs": [
    {
     "name": "stdout",
     "output_type": "stream",
     "text": [
      "The total mass should be: 1.06e+20kg.\n"
     ]
    }
   ],
   "source": [
    "# The total mass can be simply gotten with\n",
    "print(f'The total mass should be: {(np.sum(rho_3d)*dx**3):.2e}kg.')"
   ]
  },
  {
   "cell_type": "markdown",
   "id": "b6ddcc5a-87ba-476b-b698-e892e1597de6",
   "metadata": {},
   "source": [
    "### (c) Calculate the $2\\rm D$ and $1\\rm D$ column densities of all moons and visualize them."
   ]
  },
  {
   "cell_type": "code",
   "execution_count": 15,
   "id": "e3a8861b-a3f7-4a0c-afa5-8be24cb0c05f",
   "metadata": {
    "execution": {
     "iopub.execute_input": "2024-11-22T21:37:03.021070Z",
     "iopub.status.busy": "2024-11-22T21:37:03.020672Z",
     "iopub.status.idle": "2024-11-22T21:37:03.559132Z",
     "shell.execute_reply": "2024-11-22T21:37:03.558006Z",
     "shell.execute_reply.started": "2024-11-22T21:37:03.021045Z"
    }
   },
   "outputs": [],
   "source": [
    "# In 2D\n",
    "column_density_2d = np.sum(rho_3d, axis = 2)*dz"
   ]
  },
  {
   "cell_type": "code",
   "execution_count": 16,
   "id": "400e67ec-e588-4793-bfff-e1e7e0ad33da",
   "metadata": {
    "execution": {
     "iopub.execute_input": "2024-11-22T21:37:03.560909Z",
     "iopub.status.busy": "2024-11-22T21:37:03.560533Z",
     "iopub.status.idle": "2024-11-22T21:37:06.360963Z",
     "shell.execute_reply": "2024-11-22T21:37:06.360339Z",
     "shell.execute_reply.started": "2024-11-22T21:37:03.560873Z"
    }
   },
   "outputs": [
    {
     "data": {
      "image/png": "[encoded data removed]",
      "text/plain": [
       "<Figure size 500x500 with 2 Axes>"
      ]
     },
     "metadata": {},
     "output_type": "display_data"
    }
   ],
   "source": [
    "# Plot!\n",
    "plt.figure(figsize = (5,5))\n",
    "plot = plt.pcolor(x_2d, y_2d, column_density_2d,\n",
    "                  cmap = 'magma_r', shading = 'auto')\n",
    "plt.colorbar(plot, shrink = 0.80, label = '2D column density [$kg/km^2$]')\n",
    "\n",
    "plt.title('2D Column density')\n",
    "plt.xlabel('x [km]')\n",
    "plt.ylabel('y [km]')\n",
    "\n",
    "plt.gca().set_aspect('equal')\n",
    "plt.show()\n",
    "plt.close()"
   ]
  },
  {
   "cell_type": "code",
   "execution_count": 17,
   "id": "90d9b6fb-0dfe-4eb5-84cb-a4c3223a8752",
   "metadata": {
    "execution": {
     "iopub.execute_input": "2024-11-22T21:37:06.361979Z",
     "iopub.status.busy": "2024-11-22T21:37:06.361766Z",
     "iopub.status.idle": "2024-11-22T21:37:07.448966Z",
     "shell.execute_reply": "2024-11-22T21:37:07.447564Z",
     "shell.execute_reply.started": "2024-11-22T21:37:06.361963Z"
    }
   },
   "outputs": [],
   "source": [
    "# And 1D where we each row above and get an array\n",
    "column_density_1d = np.sum(column_density_2d, axis = 1) * dx"
   ]
  },
  {
   "cell_type": "code",
   "execution_count": 18,
   "id": "ceeb15a0-f759-45dd-8504-fcf11169fb29",
   "metadata": {
    "execution": {
     "iopub.execute_input": "2024-11-22T21:37:07.451401Z",
     "iopub.status.busy": "2024-11-22T21:37:07.450631Z",
     "iopub.status.idle": "2024-11-22T21:37:09.498468Z",
     "shell.execute_reply": "2024-11-22T21:37:09.497731Z",
     "shell.execute_reply.started": "2024-11-22T21:37:07.451344Z"
    }
   },
   "outputs": [
    {
     "data": {
      "image/png": "[encoded data removed]",
      "text/plain": [
       "<Figure size 800x500 with 1 Axes>"
      ]
     },
     "metadata": {},
     "output_type": "display_data"
    }
   ],
   "source": [
    "# And plot it\n",
    "plt.figure(figsize = (8, 5))\n",
    "plt.plot(column_density_1d, ls = '--', color = 'peru')\n",
    "\n",
    "plt.title('1D Column density')\n",
    "plt.ylabel('1D C.d. [kg/km]')\n",
    "plt.xlabel('y [km]')\n",
    "\n",
    "# To normalize the x-axis\n",
    "x_array = np.arange(257) * 25\n",
    "plt.xticks(np.arange(257)[::25], x_array[::25])\n",
    "\n",
    "plt.grid(ls = '-.', alpha = 0.5)\n",
    "plt.show()\n",
    "plt.close()"
   ]
  },
  {
   "cell_type": "markdown",
   "id": "ab51398e-edcd-4d20-bd39-38130324342a",
   "metadata": {},
   "source": [
    "The size and density differences are more apparent in this last plot."
   ]
  },
  {
   "cell_type": "markdown",
   "id": "0ce2140a-98ea-47ef-b5d6-2ce160b73919",
   "metadata": {},
   "source": [
    "### (d) Calculate the center of mass of the system, and of each individual moon. Then, compute the distance and determine which one is the closest to the system center of mass."
   ]
  },
  {
   "cell_type": "code",
   "execution_count": 19,
   "id": "f1be126a-d745-47de-a6b3-75d856ccb6fb",
   "metadata": {
    "execution": {
     "iopub.execute_input": "2024-11-22T21:37:09.499421Z",
     "iopub.status.busy": "2024-11-22T21:37:09.499188Z",
     "iopub.status.idle": "2024-11-22T21:37:10.372678Z",
     "shell.execute_reply": "2024-11-22T21:37:10.369334Z",
     "shell.execute_reply.started": "2024-11-22T21:37:09.499403Z"
    }
   },
   "outputs": [
    {
     "name": "stdout",
     "output_type": "stream",
     "text": [
      "(256,) (256,) (256,)\n"
     ]
    }
   ],
   "source": [
    "# Define these\n",
    "x_mid = (x[1:] + x[:-1])/2\n",
    "y_mid = (y[1:] + y[:-1])/2\n",
    "z_mid = (z[1:] + z[:-1])/2\n",
    "\n",
    "# Check that the shape is -1 the other\n",
    "print(x_mid.shape, y_mid.shape, z_mid.shape)"
   ]
  },
  {
   "cell_type": "code",
   "execution_count": 20,
   "id": "315b82cc-f27c-4d40-b4d6-7ae1b5594182",
   "metadata": {
    "execution": {
     "iopub.execute_input": "2024-11-22T21:37:10.378358Z",
     "iopub.status.busy": "2024-11-22T21:37:10.377002Z",
     "iopub.status.idle": "2024-11-22T21:37:12.745104Z",
     "shell.execute_reply": "2024-11-22T21:37:12.743727Z",
     "shell.execute_reply.started": "2024-11-22T21:37:10.378306Z"
    }
   },
   "outputs": [],
   "source": [
    "# Create a function for calculating 3D center of masses\n",
    "def get_cm(array_3d):\n",
    "    \"\"\"\n",
    "    Get the center of mass of a given 3D array.\n",
    "    \"\"\"\n",
    "    # Calculate the center of mass for the moon\n",
    "    cm_x = 25*np.sum(np.sum(np.sum(array_3d, axis = 2), axis = 1)*(x_mid))/np.sum(array_3d)\n",
    "    cm_y = 25*np.sum(np.sum(np.sum(array_3d, axis = 2), axis = 0)*(y_mid))/np.sum(array_3d)\n",
    "    cm_z = 25*np.sum(np.sum(np.sum(array_3d, axis = 1), axis = 0)*(z_mid))/np.sum(array_3d) \n",
    "\n",
    "    return np.array([cm_x, cm_y, cm_z])"
   ]
  },
  {
   "cell_type": "code",
   "execution_count": 21,
   "id": "39ae539b-051b-4aa1-b964-cee8b4a74154",
   "metadata": {
    "execution": {
     "iopub.execute_input": "2024-11-22T21:37:12.750538Z",
     "iopub.status.busy": "2024-11-22T21:37:12.750013Z",
     "iopub.status.idle": "2024-11-22T21:37:13.415611Z",
     "shell.execute_reply": "2024-11-22T21:37:13.415015Z",
     "shell.execute_reply.started": "2024-11-22T21:37:12.750512Z"
    }
   },
   "outputs": [],
   "source": [
    "# Get the total center of mass\n",
    "cm_all_moons = get_cm(rho_3d)"
   ]
  },
  {
   "cell_type": "code",
   "execution_count": 22,
   "id": "4478e6a6-7d6f-455a-9292-ad341ba89417",
   "metadata": {
    "execution": {
     "iopub.execute_input": "2024-11-22T21:37:13.416627Z",
     "iopub.status.busy": "2024-11-22T21:37:13.416386Z",
     "iopub.status.idle": "2024-11-22T21:37:14.890557Z",
     "shell.execute_reply": "2024-11-22T21:37:14.888361Z",
     "shell.execute_reply.started": "2024-11-22T21:37:13.416606Z"
    }
   },
   "outputs": [],
   "source": [
    "# Function to get a moon or two\n",
    "def get_moon_cm(density_3d, density, dx, two_moons = False):\n",
    "    \"\"\"\n",
    "    Compute the mass of a moon within the whole domain.\n",
    "    \"\"\"\n",
    "    # Get a moon by removing the other two\n",
    "    moon = np.where(density_3d != density, 0, density_3d)\n",
    "\n",
    "    # Get the other two moons instead\n",
    "    if two_moons:\n",
    "        moon = np.where(density_3d == density, 0, density_3d)\n",
    "        \n",
    "    # Calculate the center of mass array\n",
    "    cm_array = get_cm(moon)\n",
    "\n",
    "    return cm_array"
   ]
  },
  {
   "cell_type": "markdown",
   "id": "7f2a153a-b269-4e04-b56b-2d3523b88913",
   "metadata": {},
   "source": [
    "The moon and center of mass names were choosen to match how they are ordered in density. That is, in terms of higher density: **Moon 1 > Moon 2 > Moon 3**."
   ]
  },
  {
   "cell_type": "code",
   "execution_count": 23,
   "id": "fba9af30-c78c-467d-b74c-cdf441f1a7c7",
   "metadata": {
    "execution": {
     "iopub.execute_input": "2024-11-22T21:37:14.895212Z",
     "iopub.status.busy": "2024-11-22T21:37:14.894081Z",
     "iopub.status.idle": "2024-11-22T21:37:18.806738Z",
     "shell.execute_reply": "2024-11-22T21:37:18.806324Z",
     "shell.execute_reply.started": "2024-11-22T21:37:14.895092Z"
    }
   },
   "outputs": [],
   "source": [
    "# Get the individual center of masses\n",
    "cm_1 = get_moon_cm(density_3d = rho_3d, density = np.unique(rho_3d)[-1], dx = dx)\n",
    "cm_2 = get_moon_cm(density_3d = rho_3d, density = np.unique(rho_3d)[-2], dx = dx)\n",
    "cm_3 = get_moon_cm(density_3d = rho_3d, density = np.unique(rho_3d)[-3], dx = dx)"
   ]
  },
  {
   "cell_type": "code",
   "execution_count": 24,
   "id": "a61370b6-98f3-4afd-8e96-cfd379a1ad41",
   "metadata": {
    "execution": {
     "iopub.execute_input": "2024-11-22T21:37:18.807887Z",
     "iopub.status.busy": "2024-11-22T21:37:18.807642Z",
     "iopub.status.idle": "2024-11-22T21:37:20.907595Z",
     "shell.execute_reply": "2024-11-22T21:37:20.905055Z",
     "shell.execute_reply.started": "2024-11-22T21:37:18.807865Z"
    }
   },
   "outputs": [],
   "source": [
    "# For distance, define\n",
    "d = lambda x, y: np.linalg.norm(x - y)"
   ]
  },
  {
   "cell_type": "code",
   "execution_count": 25,
   "id": "d27775f7-f627-4f92-ae69-5032dc5d8979",
   "metadata": {
    "execution": {
     "iopub.execute_input": "2024-11-22T21:37:20.914334Z",
     "iopub.status.busy": "2024-11-22T21:37:20.911410Z",
     "iopub.status.idle": "2024-11-22T21:37:22.885463Z",
     "shell.execute_reply": "2024-11-22T21:37:22.883025Z",
     "shell.execute_reply.started": "2024-11-22T21:37:20.914214Z"
    }
   },
   "outputs": [
    {
     "name": "stdout",
     "output_type": "stream",
     "text": [
      "Moon 1 is at 4.37e+04 km from the center of mass.\n",
      "Moon 2 is at 3.37e+04 km from the center of mass.\n",
      "Moon 3 is at 4.73e+04 km from the center of mass.\n"
     ]
    }
   ],
   "source": [
    "# Print!\n",
    "print(f'Moon 1 is at {d(cm_1, cm_all_moons):.3} km from the center of mass.')\n",
    "print(f'Moon 2 is at {d(cm_2, cm_all_moons):.3} km from the center of mass.')\n",
    "print(f'Moon 3 is at {d(cm_3, cm_all_moons):.3} km from the center of mass.')"
   ]
  },
  {
   "cell_type": "markdown",
   "id": "8a85d8e4-3c00-482a-99f8-d0ec5c89db85",
   "metadata": {},
   "source": [
    "What if we remove the largest and lowest density moon?"
   ]
  },
  {
   "cell_type": "code",
   "execution_count": 26,
   "id": "c9f72163-7e1d-47c1-9d26-bb1421867650",
   "metadata": {
    "execution": {
     "iopub.execute_input": "2024-11-22T21:37:22.888376Z",
     "iopub.status.busy": "2024-11-22T21:37:22.887660Z",
     "iopub.status.idle": "2024-11-22T21:37:25.632763Z",
     "shell.execute_reply": "2024-11-22T21:37:25.632197Z",
     "shell.execute_reply.started": "2024-11-22T21:37:22.888317Z"
    }
   },
   "outputs": [],
   "source": [
    "# Get the center of mass for the two moons with higher density only\n",
    "cm_two_moons = get_moon_cm(density_3d = rho_3d, density = np.unique(rho_3d)[-3], dx = dx, two_moons = True)"
   ]
  },
  {
   "cell_type": "code",
   "execution_count": 27,
   "id": "e2e27fa1-8496-4003-96f7-d92a85c8ee2d",
   "metadata": {
    "execution": {
     "iopub.execute_input": "2024-11-22T21:37:25.633463Z",
     "iopub.status.busy": "2024-11-22T21:37:25.633309Z",
     "iopub.status.idle": "2024-11-22T21:37:26.572250Z",
     "shell.execute_reply": "2024-11-22T21:37:26.570364Z",
     "shell.execute_reply.started": "2024-11-22T21:37:25.633449Z"
    }
   },
   "outputs": [
    {
     "name": "stdout",
     "output_type": "stream",
     "text": [
      "Moon 1 is at 2.97e+04 km from the center of mass of the two-moon system.\n",
      "Moon 2 is at 4.32e+04 km from the center of mass of the two-moon system.\n"
     ]
    }
   ],
   "source": [
    "print(f'Moon 1 is at {d(cm_1, cm_two_moons):.3} km from the center of mass of the two-moon system.')\n",
    "print(f'Moon 2 is at {d(cm_2, cm_two_moons):.3} km from the center of mass of the two-moon system.')"
   ]
  },
  {
   "cell_type": "markdown",
   "id": "11d96998-0a83-48da-a971-54777c3ee0b8",
   "metadata": {},
   "source": [
    "Removing that moon makes the center of mass be closer to the high-density moon."
   ]
  },
  {
   "cell_type": "markdown",
   "id": "d4e22f65-80a5-4582-847a-6250e162e310",
   "metadata": {},
   "source": [
    "### (e) Given the radii of each moon in pixels: $r_1 = 10\\, \\rm pix$, $r_2 = 20\\, \\rm pix$ and $r_3 = 28\\, \\rm pix$, calculate the mass of each moon *analytically* via integration. Compare results!"
   ]
  },
  {
   "attachments": {},
   "cell_type": "markdown",
   "id": "d99e3d31-03fb-45d1-a70f-97a92fda2e97",
   "metadata": {},
   "source": [
    "The mass can be obtained with\n",
    "$$\n",
    "m = \\int_V \\rho \\,dV \\,\\text{, where}\\,\\,\\, dV = r^{2} \\sin \\theta \\,dr\\, d\\theta \\,d\\phi.\n",
    "$$\n",
    "Since $\\rho$ is constant, the integral to do is\n",
    "$$\n",
    "m = \\rho \\int_0^{2\\pi}\\int_0^{\\pi}\\int_0^{R} r^{2} \\sin \\theta \\,dr\\, d\\theta \\,d\\phi\n",
    "$$\n",
    "To practice, we'll solve the integral with `sympy`. \n",
    "\n",
    "---\n",
    "The steps to follow are always the same:\n",
    "\n",
    "1. Define the symbols (variables). Like this:\n",
    "\n",
    "```python\n",
    "x, y = sp.symbols('x y')\n",
    "```\n",
    "\n",
    "2. Define the expression with `sympy` functions only. For example:\n",
    "\n",
    "```python\n",
    "z = 21 * sp.sin(x) + 5 * sp.cos(y)\n",
    "```\n",
    "\n",
    "3. Now we can use any function the library provides. The following finds the Taylor expansion of $z$ around $y=2$ up to $10$ terms:\n",
    "\n",
    "```python\n",
    "taylor_expansion = z.series(y, 2, 10).removeO() # removeO() removes the remainder O-term\n",
    "```\n",
    "\n",
    "If you later want to evaluate the expression, I recommend doing something like\n",
    "\n",
    "```python\n",
    "# Get an evaluable function\n",
    "taylor_function = sp.lambdify((x, y), taylor_expansion, 'numpy')\n",
    "\n",
    "# And simply evaluate\n",
    "z_0 = taylor_function(x = np.pi, y = 31)\n",
    "```\n",
    "That's it :).\n",
    "\n",
    "---"
   ]
  },
  {
   "cell_type": "code",
   "execution_count": 28,
   "id": "25e6719a-d8a8-4b35-8de8-2f908cb73311",
   "metadata": {
    "execution": {
     "iopub.execute_input": "2024-11-22T21:37:26.576727Z",
     "iopub.status.busy": "2024-11-22T21:37:26.575449Z",
     "iopub.status.idle": "2024-11-22T21:37:27.456691Z",
     "shell.execute_reply": "2024-11-22T21:37:27.454472Z",
     "shell.execute_reply.started": "2024-11-22T21:37:26.576643Z"
    }
   },
   "outputs": [],
   "source": [
    "# Coming back, define our variables\n",
    "r, R, theta, phi, rho = sp.symbols('r R theta phi rho')"
   ]
  },
  {
   "cell_type": "code",
   "execution_count": 29,
   "id": "1b99858f-ec6d-486d-a412-a86013ee79e0",
   "metadata": {
    "execution": {
     "iopub.execute_input": "2024-11-22T21:37:27.462184Z",
     "iopub.status.busy": "2024-11-22T21:37:27.459546Z",
     "iopub.status.idle": "2024-11-22T21:37:28.555256Z",
     "shell.execute_reply": "2024-11-22T21:37:28.553225Z",
     "shell.execute_reply.started": "2024-11-22T21:37:27.462075Z"
    }
   },
   "outputs": [],
   "source": [
    "# Define the integrand (volume element in spherical coordinates)\n",
    "integrand = rho * r**2 * sp.sin(theta)"
   ]
  },
  {
   "cell_type": "code",
   "execution_count": 30,
   "id": "7b76cd43-e230-4605-a24c-340dbb4ff42f",
   "metadata": {
    "execution": {
     "iopub.execute_input": "2024-11-22T21:37:28.559288Z",
     "iopub.status.busy": "2024-11-22T21:37:28.558184Z",
     "iopub.status.idle": "2024-11-22T21:37:30.078521Z",
     "shell.execute_reply": "2024-11-22T21:37:30.077885Z",
     "shell.execute_reply.started": "2024-11-22T21:37:28.559219Z"
    }
   },
   "outputs": [
    {
     "data": {
      "text/latex": [
       "$\\displaystyle \\frac{4 \\pi R^{3} \\rho}{3}$"
      ],
      "text/plain": [
       "4*pi*R**3*rho/3"
      ]
     },
     "execution_count": 30,
     "metadata": {},
     "output_type": "execute_result"
    }
   ],
   "source": [
    "# Integral over r\n",
    "integral_1 = sp.integrate(integrand, (r, 0, R))\n",
    "\n",
    "# Integral over theta\n",
    "integral_2 = sp.integrate(integral_1, (theta, 0, sp.pi))\n",
    "\n",
    "# Final integral over phi\n",
    "mass_expression = sp.integrate(integral_2, (phi, 0, 2*sp.pi))\n",
    "\n",
    "# See\n",
    "mass_expression"
   ]
  },
  {
   "cell_type": "code",
   "execution_count": 31,
   "id": "d532ad44-d2da-4488-9bd2-3ab3fd77ffa1",
   "metadata": {
    "execution": {
     "iopub.execute_input": "2024-11-22T21:37:30.079701Z",
     "iopub.status.busy": "2024-11-22T21:37:30.079371Z",
     "iopub.status.idle": "2024-11-22T21:37:30.824824Z",
     "shell.execute_reply": "2024-11-22T21:37:30.823234Z",
     "shell.execute_reply.started": "2024-11-22T21:37:30.079680Z"
    }
   },
   "outputs": [],
   "source": [
    "# Since we want to evaluate it\n",
    "mass_function = sp.lambdify((R, rho), mass_expression, 'numpy')"
   ]
  },
  {
   "cell_type": "code",
   "execution_count": 32,
   "id": "b2e659ab-f62c-4be5-b40b-80b23c58460c",
   "metadata": {
    "execution": {
     "iopub.execute_input": "2024-11-22T21:37:30.827529Z",
     "iopub.status.busy": "2024-11-22T21:37:30.826408Z",
     "iopub.status.idle": "2024-11-22T21:37:34.554230Z",
     "shell.execute_reply": "2024-11-22T21:37:34.553560Z",
     "shell.execute_reply.started": "2024-11-22T21:37:30.827489Z"
    }
   },
   "outputs": [],
   "source": [
    "# Evaluate for each moon\n",
    "mass_1_sympy = mass_function(R = 10*25, rho = np.unique(rho_3d)[-1])\n",
    "mass_2_sympy = mass_function(R = 20*25, rho = np.unique(rho_3d)[-2])\n",
    "mass_3_sympy = mass_function(R = 28*25, rho = np.unique(rho_3d)[-3])"
   ]
  },
  {
   "cell_type": "code",
   "execution_count": 33,
   "id": "3f12e0e3-5baf-44b8-8d51-8fe14c4fd9eb",
   "metadata": {
    "execution": {
     "iopub.execute_input": "2024-11-22T21:37:34.555051Z",
     "iopub.status.busy": "2024-11-22T21:37:34.554858Z",
     "iopub.status.idle": "2024-11-22T21:37:34.558785Z",
     "shell.execute_reply": "2024-11-22T21:37:34.558283Z",
     "shell.execute_reply.started": "2024-11-22T21:37:34.555033Z"
    }
   },
   "outputs": [
    {
     "name": "stdout",
     "output_type": "stream",
     "text": [
      "The ratios between analytical and numerical calculated masses are:\n",
      "\n",
      "Moon 1: 1.005.\n",
      "Moon 2: 1.003.\n",
      "Moon 3: 0.9999.\n"
     ]
    }
   ],
   "source": [
    "# Print comparison (ratio)\n",
    "print('The ratios between analytical and numerical calculated masses are:')\n",
    "print()\n",
    "print(f'Moon 1: {mass_1_sympy/mass_1:.4}.')\n",
    "print(f'Moon 2: {mass_2_sympy/mass_2:.4}.')\n",
    "print(f'Moon 3: {mass_3_sympy/mass_3:.4}.')"
   ]
  },
  {
   "cell_type": "markdown",
   "id": "97f7ca67-daa8-481e-8724-f7dcbd44b45c",
   "metadata": {},
   "source": [
    "## Appendix: Spheres (moons) and VTK generation\n",
    "You might take a quick look. "
   ]
  },
  {
   "cell_type": "markdown",
   "id": "7442a97b-995a-436c-9c84-dfab19af3aee",
   "metadata": {},
   "source": [
    "### Spheres"
   ]
  },
  {
   "cell_type": "code",
   "execution_count": 34,
   "id": "3f5b2f11-9bc9-4b8d-90e0-82fdb2551d11",
   "metadata": {
    "execution": {
     "iopub.execute_input": "2024-11-22T21:37:34.559554Z",
     "iopub.status.busy": "2024-11-22T21:37:34.559378Z",
     "iopub.status.idle": "2024-11-22T21:37:35.590345Z",
     "shell.execute_reply": "2024-11-22T21:37:35.588377Z",
     "shell.execute_reply.started": "2024-11-22T21:37:34.559539Z"
    }
   },
   "outputs": [],
   "source": [
    "# Little function\n",
    "def get_sphere(size, radius, interval):\n",
    "    \"\"\"\n",
    "    It creates a 3D cube containing a sphere.\n",
    "    \n",
    "    Parameters\n",
    "    ----------\n",
    "    size : int, required\n",
    "        Size of the 3D cube domain.\n",
    "    radius : int, required\n",
    "        Radius of the sphere. Should be =< size//2.\n",
    "    interval : list, float, required\n",
    "        Two-element list which defines the interval\n",
    "        of values inside the sphere.\n",
    "\n",
    "    Returns\n",
    "    -------\n",
    "    sphere : array\n",
    "        3D cube with a sphere inside it.\n",
    "    \"\"\"\n",
    "    # Create coordinates arrays (similar to np.meshgrid)\n",
    "    x, y, z = np.ogrid[:size, :size, :size]\n",
    "    \n",
    "    # Get the center point\n",
    "    center = size / 2\n",
    "    \n",
    "    # Calculate distance from center for each point\n",
    "    distance = np.sqrt((x - center)**2 + (y - center)**2 + (z - center)**2)\n",
    "    \n",
    "    # Create the sphere mask defined with the radius (it's a condition!)\n",
    "    sphere_mask = distance <= radius\n",
    "    \n",
    "    # Create the domain where the sphere is going to be\n",
    "    sphere = np.zeros((size, size, size))\n",
    "\n",
    "    # Count the number of points to be filled\n",
    "    points = np.sum(sphere_mask)\n",
    "    \n",
    "    # Fill the sphere with random values in the specified interval\n",
    "    sphere[sphere_mask] = np.random.uniform(interval[0], interval[1], size = points)\n",
    "    \n",
    "    return sphere"
   ]
  },
  {
   "cell_type": "code",
   "execution_count": 35,
   "id": "98c3df90-e167-4255-a276-adc7015ff195",
   "metadata": {
    "execution": {
     "iopub.execute_input": "2024-11-22T21:37:35.593542Z",
     "iopub.status.busy": "2024-11-22T21:37:35.592591Z",
     "iopub.status.idle": "2024-11-22T21:37:36.957965Z",
     "shell.execute_reply": "2024-11-22T21:37:36.956011Z",
     "shell.execute_reply.started": "2024-11-22T21:37:35.593462Z"
    }
   },
   "outputs": [],
   "source": [
    "# Get 3 spheres with fixed density (interval[0] = interval[1])\n",
    "low_density_3d = get_sphere(size = 60, radius = 28, interval = [2, 2])\n",
    "med_density_3d = get_sphere(size = 50, radius = 20, interval = [6, 6])\n",
    "hig_density_3d = get_sphere(size = 26, radius = 10, interval = [70, 70])"
   ]
  },
  {
   "cell_type": "code",
   "execution_count": 36,
   "id": "88dec559-db42-485f-8731-32788cf69833",
   "metadata": {
    "execution": {
     "iopub.execute_input": "2024-11-22T21:37:36.961260Z",
     "iopub.status.busy": "2024-11-22T21:37:36.960501Z",
     "iopub.status.idle": "2024-11-22T21:37:38.073674Z",
     "shell.execute_reply": "2024-11-22T21:37:38.071685Z",
     "shell.execute_reply.started": "2024-11-22T21:37:36.961196Z"
    }
   },
   "outputs": [],
   "source": [
    "# Create a greater empty domain\n",
    "domain_3d = np.zeros((256, 256, 256))\n",
    "\n",
    "# And append each sphere in a different spot\n",
    "domain_3d[128 - 30:128 + 30, 150 - 30:150 + 30, 90 - 30:90 + 30] = low_density_3d\n",
    "domain_3d[100 - 25:100 + 25, 200 - 25:200 + 25, 140 - 25:140 + 25] = med_density_3d\n",
    "domain_3d[200 - 13:200 + 13, 200 - 13:200 + 13, 200 - 13:200 + 13] = hig_density_3d"
   ]
  },
  {
   "cell_type": "markdown",
   "id": "f6b3ba26-dd00-4ab8-9181-43f9890a8daf",
   "metadata": {},
   "source": [
    "#### Projection\n",
    "To see the result, we'll get a projection by adding matrices along some direction."
   ]
  },
  {
   "cell_type": "code",
   "execution_count": 37,
   "id": "881b5024-360a-429e-b58c-e3588baa42f9",
   "metadata": {
    "execution": {
     "iopub.execute_input": "2024-11-22T21:37:38.077116Z",
     "iopub.status.busy": "2024-11-22T21:37:38.076313Z",
     "iopub.status.idle": "2024-11-22T21:37:39.872336Z",
     "shell.execute_reply": "2024-11-22T21:37:39.871807Z",
     "shell.execute_reply.started": "2024-11-22T21:37:38.077055Z"
    }
   },
   "outputs": [],
   "source": [
    "# Get it with\n",
    "projection_2d = np.sum(domain_3d, axis = 0)"
   ]
  },
  {
   "cell_type": "code",
   "execution_count": 38,
   "id": "444bbf44-6f25-4217-8221-09f5b5e1247d",
   "metadata": {
    "execution": {
     "iopub.execute_input": "2024-11-22T21:37:39.873253Z",
     "iopub.status.busy": "2024-11-22T21:37:39.873063Z",
     "iopub.status.idle": "2024-11-22T21:37:41.124462Z",
     "shell.execute_reply": "2024-11-22T21:37:41.123919Z",
     "shell.execute_reply.started": "2024-11-22T21:37:39.873237Z"
    }
   },
   "outputs": [
    {
     "data": {
      "image/png": "[encoded data removed]",
      "text/plain": [
       "<Figure size 600x600 with 2 Axes>"
      ]
     },
     "metadata": {},
     "output_type": "display_data"
    }
   ],
   "source": [
    "# Plot it!\n",
    "plt.figure(figsize = (6, 6))\n",
    "\n",
    "plot = plt.imshow(projection_2d, cmap = \"Greys_r\")\n",
    "plt.colorbar(plot, label = 'Column density', shrink = 0.8)\n",
    "\n",
    "plt.title('Projection by adding')\n",
    "plt.xlabel('x [pixel]')\n",
    "plt.ylabel('y [pixel]')\n",
    "\n",
    "plt.gca().set_aspect('equal')\n",
    "plt.show()\n",
    "plt.close()"
   ]
  },
  {
   "cell_type": "markdown",
   "id": "7b190e74-ceda-4b0a-a0ed-2a8e38378c2b",
   "metadata": {},
   "source": [
    "They look like little moons :)."
   ]
  },
  {
   "cell_type": "markdown",
   "id": "9bf72af8-67d5-46ea-8a3e-3d9b29d5f83d",
   "metadata": {},
   "source": [
    "### VTK generation"
   ]
  },
  {
   "cell_type": "code",
   "execution_count": 39,
   "id": "10d4c79d-f2e8-464d-a57e-0a0edc52bf66",
   "metadata": {
    "execution": {
     "iopub.execute_input": "2024-11-22T21:37:41.125468Z",
     "iopub.status.busy": "2024-11-22T21:37:41.125243Z",
     "iopub.status.idle": "2024-11-22T21:37:42.925636Z",
     "shell.execute_reply": "2024-11-22T21:37:42.924907Z",
     "shell.execute_reply.started": "2024-11-22T21:37:41.125450Z"
    }
   },
   "outputs": [],
   "source": [
    "# Library\n",
    "from pyevtk.hl import gridToVTK"
   ]
  },
  {
   "cell_type": "code",
   "execution_count": 40,
   "id": "e1c86738-d04a-484d-b014-25a1fbe9eba0",
   "metadata": {
    "execution": {
     "iopub.execute_input": "2024-11-22T21:37:42.926670Z",
     "iopub.status.busy": "2024-11-22T21:37:42.926453Z",
     "iopub.status.idle": "2024-11-22T21:37:50.739758Z",
     "shell.execute_reply": "2024-11-22T21:37:50.737714Z",
     "shell.execute_reply.started": "2024-11-22T21:37:42.926652Z"
    }
   },
   "outputs": [
    {
     "data": {
      "text/plain": [
       "'/home/whyyorlantaken/Documents/Yachay-Tech/Physics/05-Tutorials-Comp-Phys-I/Data/moons.vtr'"
      ]
     },
     "execution_count": 40,
     "metadata": {},
     "output_type": "execute_result"
    }
   ],
   "source": [
    "# Define the coordinates (Notice the + 1 in shape!)\n",
    "x = np.linspace(0, domain_3d.shape[0], domain_3d.shape[0] + 1)\n",
    "y = np.linspace(0, domain_3d.shape[1], domain_3d.shape[1] + 1)\n",
    "z = np.linspace(0, domain_3d.shape[2], domain_3d.shape[2] + 1)\n",
    "\n",
    "# And export it\n",
    "gridToVTK(path = './Data/moons', x = x, y = y, z = z, cellData = {'density': domain_3d})"
   ]
  }
 ],
 "metadata": {
  "kernelspec": {
   "display_name": "Python 3 (ipykernel)",
   "language": "python",
   "name": "python3"
  },
  "language_info": {
   "codemirror_mode": {
    "name": "ipython",
    "version": 3
   },
   "file_extension": ".py",
   "mimetype": "text/x-python",
   "name": "python",
   "nbconvert_exporter": "python",
   "pygments_lexer": "ipython3",
   "version": "3.12.3"
  }
 },
 "nbformat": 4,
 "nbformat_minor": 5
}
